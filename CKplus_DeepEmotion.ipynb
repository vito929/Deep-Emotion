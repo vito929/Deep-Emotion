{
 "cells": [
  {
   "cell_type": "code",
   "execution_count": 1,
   "metadata": {},
   "outputs": [],
   "source": [
    "from __future__ import print_function\n",
    "import argparse\n",
    "import numpy  as np\n",
    "from PIL import Image\n",
    "import torch\n",
    "import torch.nn as nn\n",
    "import torch.nn.functional as F\n",
    "import torchvision\n",
    "import torch.optim as optim\n",
    "from torch.utils.data import DataLoader, Dataset\n",
    "from torch.utils.data.sampler import SubsetRandomSampler\n",
    "from torchvision import transforms\n",
    "\n",
    "from data_loaders import Plain_Dataset, eval_data_dataloader\n",
    "from deep_emotion import Deep_Emotion\n",
    "from generate_data import Generate_data\n",
    "\n",
    "\n",
    "device = torch.device(\"cuda:0\" if torch.cuda.is_available() else \"cpu\")"
   ]
  },
  {
   "cell_type": "code",
   "execution_count": 2,
   "metadata": {},
   "outputs": [],
   "source": [
    "import cv2\n",
    "import os\n",
    "import math\n",
    "import numpy as np\n",
    "import pandas as pd\n",
    "import csv\n",
    "import matplotlib.pyplot as plt\n",
    "data_path = 'ck_new/'"
   ]
  },
  {
   "cell_type": "code",
   "execution_count": 3,
   "metadata": {},
   "outputs": [],
   "source": [
    "def Train(epochs,train_loader,val_loader,criterion,optmizer,device):\n",
    "    '''\n",
    "    Training Loop\n",
    "    '''\n",
    "    print(\"===================================Start Training===================================\")\n",
    "    total_train_loss = []\n",
    "    total_val_loss = []\n",
    "    total_train_acc = []\n",
    "    total_val_acc = []\n",
    "    for e in range(epochs):\n",
    "        train_loss = 0\n",
    "        validation_loss = 0\n",
    "        train_correct = 0\n",
    "        val_correct = 0\n",
    "        # Train the model  #\n",
    "        net.train()\n",
    "        for data, labels in train_loader:\n",
    "            data, labels = data.to(device), labels.to(device)\n",
    "            optmizer.zero_grad()\n",
    "            outputs = net(data)\n",
    "            loss = criterion(outputs,labels)\n",
    "            loss.backward()\n",
    "            optmizer.step()\n",
    "            train_loss += loss.item()\n",
    "            _, preds = torch.max(outputs,1)\n",
    "            train_correct += torch.sum(preds == labels.data)\n",
    "\n",
    "        #validate the model#\n",
    "        net.eval()\n",
    "        for data,labels in val_loader:\n",
    "            data, labels = data.to(device), labels.to(device)\n",
    "            val_outputs = net(data)\n",
    "            val_loss = criterion(val_outputs, labels)\n",
    "            validation_loss += val_loss.item()\n",
    "            _, val_preds = torch.max(val_outputs,1)\n",
    "            val_correct += torch.sum(val_preds == labels.data)\n",
    "\n",
    "        print(val_correct.double())    \n",
    "        train_loss = train_loss/len(train_dataset)\n",
    "        train_acc = train_correct.double() / len(train_dataset)\n",
    "        validation_loss =  validation_loss / len(validation_dataset)\n",
    "        val_acc = val_correct.double() / len(validation_dataset)\n",
    "        print('Epoch: {} \\tTraining Loss: {:.8f} \\tValidation Loss {:.8f} \\tTraining Acuuarcy {:.3f}% \\tValidation Acuuarcy {:.3f}%'\n",
    "                                                           .format(e+1, train_loss,validation_loss,train_acc * 100, val_acc*100))\n",
    "        total_train_loss.append(train_loss)\n",
    "        total_val_loss.append(validation_loss)\n",
    "        total_train_acc.append(train_acc)\n",
    "        total_val_acc.append(val_acc)\n",
    "    torch.save(net.state_dict(),'deep_emotion-{}-{}-{}.pt'.format(epochs,batchsize,lr))\n",
    "    print(\"===================================Training Finished===================================\")\n",
    "    return total_train_loss,total_val_loss,total_train_acc,total_val_acc\n"
   ]
  },
  {
   "cell_type": "markdown",
   "metadata": {},
   "source": [
    "## create train,vali,test csv file\n",
    "70%, 10%, 20%"
   ]
  },
  {
   "cell_type": "code",
   "execution_count": 4,
   "metadata": {},
   "outputs": [],
   "source": [
    "np.random.seed(100)\n",
    "with open('ck_plus.csv','r') as csvfile:\n",
    "    reader = csv.reader(csvfile)\n",
    "    rows = [row for row in reader]\n",
    "\n"
   ]
  },
  {
   "cell_type": "code",
   "execution_count": 8,
   "metadata": {},
   "outputs": [
    {
     "data": {
      "text/plain": [
       "65.4"
      ]
     },
     "execution_count": 8,
     "metadata": {},
     "output_type": "execute_result"
    }
   ],
   "source": [
    "len(rows)*0.2"
   ]
  },
  {
   "cell_type": "code",
   "execution_count": 10,
   "metadata": {},
   "outputs": [],
   "source": [
    "num_each = 9\n",
    "\n",
    "random_array = np.arange(len(rows))\n",
    "cnt_an = 0\n",
    "cnt_di = 0\n",
    "cnt_fe = 0\n",
    "cnt_ha = 0\n",
    "cnt_sa = 0\n",
    "cnt_su = 0\n",
    "cnt_ne = 0\n",
    "loop = True\n",
    "\n",
    "cnt = 0\n",
    "\n",
    "st = []\n",
    "st_lbl = []\n",
    "idx = []\n",
    "while loop:\n",
    "    temp = np.random.choice(random_array)\n",
    "    item = rows[temp][0]\n",
    "    lbl = int(rows[temp][1])\n",
    "    if item not in st:\n",
    "        \n",
    "        if lbl == 0 and cnt_an<num_each :\n",
    "            cnt_an = cnt_an+1\n",
    "            st_lbl.append(lbl)\n",
    "            st.append(item)\n",
    "            idx.append(temp)\n",
    "        elif lbl==1 and cnt_di<num_each:\n",
    "            cnt_di = cnt_di+1\n",
    "            st_lbl.append(lbl)\n",
    "            st.append(item)\n",
    "            idx.append(temp)\n",
    "        elif lbl==2 and cnt_fe<num_each:\n",
    "            cnt_fe = cnt_fe+1\n",
    "            st_lbl.append(lbl)\n",
    "            st.append(item)\n",
    "            idx.append(temp)\n",
    "        elif lbl==3 and cnt_ha<num_each:\n",
    "            cnt_ha = cnt_ha +1\n",
    "            st_lbl.append(lbl)\n",
    "            st.append(item)\n",
    "            idx.append(temp)\n",
    "        elif lbl == 4 and cnt_sa<num_each:\n",
    "            cnt_sa = cnt_sa +1\n",
    "            st_lbl.append(lbl)\n",
    "            st.append(item)\n",
    "            idx.append(temp)\n",
    "        elif lbl==5 and cnt_su<num_each:\n",
    "            cnt_su = cnt_su+1\n",
    "            st_lbl.append(lbl)\n",
    "            st.append(item)\n",
    "            idx.append(temp)\n",
    "        elif lbl==6 and cnt_ne<num_each:\n",
    "            cnt_ne = cnt_ne+1\n",
    "            st_lbl.append(lbl)\n",
    "            st.append(item)\n",
    "            idx.append(temp)\n",
    "\n",
    "#         print(len(st))\n",
    "        if cnt_an==num_each and cnt_di==num_each and cnt_fe==num_each and cnt_ha==num_each and cnt_sa==num_each and cnt_su==num_each and cnt_ne==num_each:\n",
    "            break\n",
    "        "
   ]
  },
  {
   "cell_type": "markdown",
   "metadata": {},
   "source": [
    "### test.csv"
   ]
  },
  {
   "cell_type": "code",
   "execution_count": 15,
   "metadata": {},
   "outputs": [],
   "source": [
    "with open('test_ckplus.csv', 'w', encoding='UTF8',newline='') as test_ckplus:\n",
    "    test_writer = csv.writer(test_ckplus)\n",
    "    for i in range(len(rows)):\n",
    "        if i in idx:\n",
    "            test_writer.writerow(rows[i])"
   ]
  },
  {
   "cell_type": "markdown",
   "metadata": {},
   "source": [
    "### vali.csv"
   ]
  },
  {
   "cell_type": "code",
   "execution_count": null,
   "metadata": {},
   "outputs": [],
   "source": [
    "num_val = 32\n",
    "idx_val = []\n",
    "cnt_val = 0\n",
    "t=0\n",
    "while True:\n",
    "    t = t+1\n",
    "    temp = np.random.choice(random_array)\n",
    "    if temp not in idx:\n",
    "        if cnt_val>=num_val:\n",
    "            break\n",
    "        cnt_val = cnt_val+1\n",
    "        idx_val.append(temp)\n",
    "#     print(t,cnt_val)"
   ]
  },
  {
   "cell_type": "code",
   "execution_count": 27,
   "metadata": {},
   "outputs": [],
   "source": [
    "with open('vali_ckplus.csv', 'w', encoding='UTF8',newline='') as vali_ckplus:\n",
    "    vali_writer = csv.writer(vali_ckplus)\n",
    "    for i in range(len(rows)):\n",
    "        if i in idx_val:\n",
    "            vali_writer.writerow(rows[i])"
   ]
  },
  {
   "cell_type": "markdown",
   "metadata": {},
   "source": [
    "### train.csv"
   ]
  },
  {
   "cell_type": "code",
   "execution_count": 29,
   "metadata": {},
   "outputs": [],
   "source": [
    "with open('train_ckplus.csv', 'w', encoding='UTF8',newline='') as train_ckplus:\n",
    "    train_writer = csv.writer(train_ckplus)\n",
    "    for i in range(len(rows)):\n",
    "        if i not in idx and i not in idx_val:\n",
    "            train_writer.writerow(rows[i])"
   ]
  },
  {
   "cell_type": "markdown",
   "metadata": {},
   "source": [
    "## create dataset and dataloader"
   ]
  },
  {
   "cell_type": "code",
   "execution_count": 4,
   "metadata": {},
   "outputs": [],
   "source": [
    "class Jaffe_Dataset(Dataset):\n",
    "    def __init__(self,csv_file,img_dir,datatype,transform):\n",
    "        with open(csv_file,'r') as csvfile:\n",
    "            rd = csv.reader(csvfile)\n",
    "            self.data = [row for row in rd]\n",
    "\n",
    "        self.img_dir = img_dir\n",
    "        self.transform = transform\n",
    "        self.datatype = datatype\n",
    "\n",
    "    def __len__(self):\n",
    "        return len(self.data)\n",
    "\n",
    "    def __getitem__(self,idx):\n",
    "        if torch.is_tensor(idx):\n",
    "            idx = idx.tolist()\n",
    "#         img = Image.open(self.img_dir+self.data[idx][0])\n",
    "\n",
    "        img = cv2.imread(self.img_dir+self.data[idx][0],0)\n",
    "#         img = cv2.cvtColor(img, cv2.COLOR_BGR2GRAY)\n",
    "#         print(img.shape)\n",
    "        lables = np.array(int(self.data[idx][1]))\n",
    "        lables = torch.from_numpy(lables).long()\n",
    "\n",
    "        if self.transform :\n",
    "            img = self.transform(img)\n",
    "        return img,lables\n"
   ]
  },
  {
   "cell_type": "code",
   "execution_count": 5,
   "metadata": {},
   "outputs": [],
   "source": [
    "# traincsv_file = 'train_ckplus.csv'\n",
    "traincsv_file = 'train_val_ckplus.csv'\n",
    "validationcsv_file = 'vali_ckplus.csv'\n",
    "train_img_dir = 'ck_new/'\n",
    "validation_img_dir = 'ck_new/'"
   ]
  },
  {
   "cell_type": "markdown",
   "metadata": {},
   "source": [
    "# runtime"
   ]
  },
  {
   "cell_type": "code",
   "execution_count": 6,
   "metadata": {},
   "outputs": [],
   "source": [
    "batchsize = 128\n",
    "transformation= transforms.Compose([transforms.ToTensor(),transforms.Normalize((0.5,),(0.5,))])\n",
    "# transformation= transforms.Compose([transforms.ToTensor()])\n",
    "train_dataset= Jaffe_Dataset(csv_file=traincsv_file, img_dir = train_img_dir, datatype = 'train', transform = transformation)\n",
    "validation_dataset= Jaffe_Dataset(csv_file=validationcsv_file, img_dir = validation_img_dir, datatype = 'val', transform = transformation)\n",
    "train_loader= DataLoader(train_dataset,batch_size=batchsize,shuffle = True,num_workers=0)\n",
    "val_loader=   DataLoader(validation_dataset,batch_size=batchsize,shuffle = True,num_workers=0)"
   ]
  },
  {
   "cell_type": "code",
   "execution_count": 7,
   "metadata": {},
   "outputs": [],
   "source": [
    "epochs = 55\n",
    "lr = 0.005\n",
    "\n",
    "net = Deep_Emotion()\n",
    "net.to(device)\n",
    "criterion= nn.CrossEntropyLoss()\n",
    "optmizer= optim.Adam(net.parameters(),lr= lr)"
   ]
  },
  {
   "cell_type": "code",
   "execution_count": 8,
   "metadata": {},
   "outputs": [
    {
     "name": "stdout",
     "output_type": "stream",
     "text": [
      "===================================Start Training===================================\n"
     ]
    },
    {
     "name": "stderr",
     "output_type": "stream",
     "text": [
      "D:\\Anacon_Install\\lib\\site-packages\\torch\\nn\\functional.py:4277: UserWarning: Default grid_sample and affine_grid behavior has changed to align_corners=False since 1.3.0. Please specify align_corners=True if the old behavior is desired. See the documentation of grid_sample for details.\n",
      "  warnings.warn(\n",
      "D:\\Anacon_Install\\lib\\site-packages\\torch\\nn\\functional.py:4215: UserWarning: Default grid_sample and affine_grid behavior has changed to align_corners=False since 1.3.0. Please specify align_corners=True if the old behavior is desired. See the documentation of grid_sample for details.\n",
      "  warnings.warn(\n"
     ]
    },
    {
     "name": "stdout",
     "output_type": "stream",
     "text": [
      "tensor(5., dtype=torch.float64)\n",
      "Epoch: 1 \tTraining Loss: 0.01931693 \tValidation Loss 0.06048234 \tTraining Acuuarcy 25.000% \tValidation Acuuarcy 15.625%\n",
      "tensor(11., dtype=torch.float64)\n",
      "Epoch: 2 \tTraining Loss: 0.01827772 \tValidation Loss 0.05916151 \tTraining Acuuarcy 32.576% \tValidation Acuuarcy 34.375%\n",
      "tensor(14., dtype=torch.float64)\n",
      "Epoch: 3 \tTraining Loss: 0.01805093 \tValidation Loss 0.05855805 \tTraining Acuuarcy 42.803% \tValidation Acuuarcy 43.750%\n",
      "tensor(18., dtype=torch.float64)\n",
      "Epoch: 4 \tTraining Loss: 0.01368598 \tValidation Loss 0.05542560 \tTraining Acuuarcy 55.303% \tValidation Acuuarcy 56.250%\n",
      "tensor(18., dtype=torch.float64)\n",
      "Epoch: 5 \tTraining Loss: 0.01132044 \tValidation Loss 0.05050586 \tTraining Acuuarcy 57.955% \tValidation Acuuarcy 56.250%\n",
      "tensor(18., dtype=torch.float64)\n",
      "Epoch: 6 \tTraining Loss: 0.01328044 \tValidation Loss 0.04660458 \tTraining Acuuarcy 62.121% \tValidation Acuuarcy 56.250%\n",
      "tensor(16., dtype=torch.float64)\n",
      "Epoch: 7 \tTraining Loss: 0.01059419 \tValidation Loss 0.04427166 \tTraining Acuuarcy 65.909% \tValidation Acuuarcy 50.000%\n",
      "tensor(22., dtype=torch.float64)\n",
      "Epoch: 8 \tTraining Loss: 0.00993500 \tValidation Loss 0.03603947 \tTraining Acuuarcy 69.697% \tValidation Acuuarcy 68.750%\n",
      "tensor(22., dtype=torch.float64)\n",
      "Epoch: 9 \tTraining Loss: 0.00895021 \tValidation Loss 0.03333225 \tTraining Acuuarcy 73.864% \tValidation Acuuarcy 68.750%\n",
      "tensor(23., dtype=torch.float64)\n",
      "Epoch: 10 \tTraining Loss: 0.00931901 \tValidation Loss 0.03011481 \tTraining Acuuarcy 73.864% \tValidation Acuuarcy 71.875%\n",
      "tensor(21., dtype=torch.float64)\n",
      "Epoch: 11 \tTraining Loss: 0.00819529 \tValidation Loss 0.03079515 \tTraining Acuuarcy 75.379% \tValidation Acuuarcy 65.625%\n",
      "tensor(26., dtype=torch.float64)\n",
      "Epoch: 12 \tTraining Loss: 0.00874856 \tValidation Loss 0.02266666 \tTraining Acuuarcy 76.515% \tValidation Acuuarcy 81.250%\n",
      "tensor(19., dtype=torch.float64)\n",
      "Epoch: 13 \tTraining Loss: 0.00713911 \tValidation Loss 0.02674652 \tTraining Acuuarcy 78.030% \tValidation Acuuarcy 59.375%\n",
      "tensor(24., dtype=torch.float64)\n",
      "Epoch: 14 \tTraining Loss: 0.01068320 \tValidation Loss 0.02147007 \tTraining Acuuarcy 76.136% \tValidation Acuuarcy 75.000%\n",
      "tensor(21., dtype=torch.float64)\n",
      "Epoch: 15 \tTraining Loss: 0.00723758 \tValidation Loss 0.02326160 \tTraining Acuuarcy 81.818% \tValidation Acuuarcy 65.625%\n",
      "tensor(18., dtype=torch.float64)\n",
      "Epoch: 16 \tTraining Loss: 0.00746127 \tValidation Loss 0.03155353 \tTraining Acuuarcy 80.303% \tValidation Acuuarcy 56.250%\n",
      "tensor(25., dtype=torch.float64)\n",
      "Epoch: 17 \tTraining Loss: 0.00873703 \tValidation Loss 0.01801843 \tTraining Acuuarcy 76.136% \tValidation Acuuarcy 78.125%\n",
      "tensor(24., dtype=torch.float64)\n",
      "Epoch: 18 \tTraining Loss: 0.00687545 \tValidation Loss 0.01969948 \tTraining Acuuarcy 80.682% \tValidation Acuuarcy 75.000%\n",
      "tensor(24., dtype=torch.float64)\n",
      "Epoch: 19 \tTraining Loss: 0.00480091 \tValidation Loss 0.02141377 \tTraining Acuuarcy 79.545% \tValidation Acuuarcy 75.000%\n",
      "tensor(30., dtype=torch.float64)\n",
      "Epoch: 20 \tTraining Loss: 0.00586925 \tValidation Loss 0.01355810 \tTraining Acuuarcy 77.652% \tValidation Acuuarcy 93.750%\n",
      "tensor(22., dtype=torch.float64)\n",
      "Epoch: 21 \tTraining Loss: 0.00476553 \tValidation Loss 0.02056845 \tTraining Acuuarcy 87.121% \tValidation Acuuarcy 68.750%\n",
      "tensor(23., dtype=torch.float64)\n",
      "Epoch: 22 \tTraining Loss: 0.00459710 \tValidation Loss 0.01788634 \tTraining Acuuarcy 85.985% \tValidation Acuuarcy 71.875%\n",
      "tensor(27., dtype=torch.float64)\n",
      "Epoch: 23 \tTraining Loss: 0.00717599 \tValidation Loss 0.01128950 \tTraining Acuuarcy 84.848% \tValidation Acuuarcy 84.375%\n",
      "tensor(26., dtype=torch.float64)\n",
      "Epoch: 24 \tTraining Loss: 0.00535833 \tValidation Loss 0.01178912 \tTraining Acuuarcy 85.606% \tValidation Acuuarcy 81.250%\n",
      "tensor(26., dtype=torch.float64)\n",
      "Epoch: 25 \tTraining Loss: 0.00317997 \tValidation Loss 0.01317007 \tTraining Acuuarcy 85.985% \tValidation Acuuarcy 81.250%\n",
      "tensor(25., dtype=torch.float64)\n",
      "Epoch: 26 \tTraining Loss: 0.00482836 \tValidation Loss 0.01811856 \tTraining Acuuarcy 87.121% \tValidation Acuuarcy 78.125%\n",
      "tensor(27., dtype=torch.float64)\n",
      "Epoch: 27 \tTraining Loss: 0.00423361 \tValidation Loss 0.01117655 \tTraining Acuuarcy 88.636% \tValidation Acuuarcy 84.375%\n",
      "tensor(26., dtype=torch.float64)\n",
      "Epoch: 28 \tTraining Loss: 0.00291691 \tValidation Loss 0.01056280 \tTraining Acuuarcy 89.773% \tValidation Acuuarcy 81.250%\n",
      "tensor(28., dtype=torch.float64)\n",
      "Epoch: 29 \tTraining Loss: 0.00362324 \tValidation Loss 0.01233100 \tTraining Acuuarcy 92.045% \tValidation Acuuarcy 87.500%\n",
      "tensor(30., dtype=torch.float64)\n",
      "Epoch: 30 \tTraining Loss: 0.00392605 \tValidation Loss 0.00966717 \tTraining Acuuarcy 93.182% \tValidation Acuuarcy 93.750%\n",
      "tensor(27., dtype=torch.float64)\n",
      "Epoch: 31 \tTraining Loss: 0.00269552 \tValidation Loss 0.01134072 \tTraining Acuuarcy 92.045% \tValidation Acuuarcy 84.375%\n",
      "tensor(30., dtype=torch.float64)\n",
      "Epoch: 32 \tTraining Loss: 0.00240417 \tValidation Loss 0.00775948 \tTraining Acuuarcy 92.045% \tValidation Acuuarcy 93.750%\n",
      "tensor(31., dtype=torch.float64)\n",
      "Epoch: 33 \tTraining Loss: 0.00222699 \tValidation Loss 0.00632852 \tTraining Acuuarcy 93.561% \tValidation Acuuarcy 96.875%\n",
      "tensor(29., dtype=torch.float64)\n",
      "Epoch: 34 \tTraining Loss: 0.00206862 \tValidation Loss 0.00784639 \tTraining Acuuarcy 92.424% \tValidation Acuuarcy 90.625%\n",
      "tensor(28., dtype=torch.float64)\n",
      "Epoch: 35 \tTraining Loss: 0.00203146 \tValidation Loss 0.00934419 \tTraining Acuuarcy 94.318% \tValidation Acuuarcy 87.500%\n",
      "tensor(29., dtype=torch.float64)\n",
      "Epoch: 36 \tTraining Loss: 0.00244197 \tValidation Loss 0.00624351 \tTraining Acuuarcy 90.909% \tValidation Acuuarcy 90.625%\n",
      "tensor(29., dtype=torch.float64)\n",
      "Epoch: 37 \tTraining Loss: 0.00199221 \tValidation Loss 0.00751803 \tTraining Acuuarcy 94.318% \tValidation Acuuarcy 90.625%\n",
      "tensor(27., dtype=torch.float64)\n",
      "Epoch: 38 \tTraining Loss: 0.00367258 \tValidation Loss 0.00944485 \tTraining Acuuarcy 92.803% \tValidation Acuuarcy 84.375%\n",
      "tensor(26., dtype=torch.float64)\n",
      "Epoch: 39 \tTraining Loss: 0.00177548 \tValidation Loss 0.01231677 \tTraining Acuuarcy 91.288% \tValidation Acuuarcy 81.250%\n",
      "tensor(30., dtype=torch.float64)\n",
      "Epoch: 40 \tTraining Loss: 0.00183629 \tValidation Loss 0.00584036 \tTraining Acuuarcy 92.803% \tValidation Acuuarcy 93.750%\n",
      "tensor(30., dtype=torch.float64)\n",
      "Epoch: 41 \tTraining Loss: 0.00286877 \tValidation Loss 0.00428409 \tTraining Acuuarcy 90.909% \tValidation Acuuarcy 93.750%\n",
      "tensor(29., dtype=torch.float64)\n",
      "Epoch: 42 \tTraining Loss: 0.00372004 \tValidation Loss 0.00603839 \tTraining Acuuarcy 89.015% \tValidation Acuuarcy 90.625%\n",
      "tensor(26., dtype=torch.float64)\n",
      "Epoch: 43 \tTraining Loss: 0.00330008 \tValidation Loss 0.01468460 \tTraining Acuuarcy 93.939% \tValidation Acuuarcy 81.250%\n",
      "tensor(26., dtype=torch.float64)\n",
      "Epoch: 44 \tTraining Loss: 0.00411453 \tValidation Loss 0.01843881 \tTraining Acuuarcy 89.773% \tValidation Acuuarcy 81.250%\n",
      "tensor(29., dtype=torch.float64)\n",
      "Epoch: 45 \tTraining Loss: 0.00538518 \tValidation Loss 0.00638009 \tTraining Acuuarcy 96.212% \tValidation Acuuarcy 90.625%\n",
      "tensor(26., dtype=torch.float64)\n",
      "Epoch: 46 \tTraining Loss: 0.00262193 \tValidation Loss 0.01791366 \tTraining Acuuarcy 88.636% \tValidation Acuuarcy 81.250%\n",
      "tensor(30., dtype=torch.float64)\n",
      "Epoch: 47 \tTraining Loss: 0.00217871 \tValidation Loss 0.00816980 \tTraining Acuuarcy 90.530% \tValidation Acuuarcy 93.750%\n",
      "tensor(29., dtype=torch.float64)\n",
      "Epoch: 48 \tTraining Loss: 0.00306503 \tValidation Loss 0.00894936 \tTraining Acuuarcy 89.394% \tValidation Acuuarcy 90.625%\n",
      "tensor(24., dtype=torch.float64)\n",
      "Epoch: 49 \tTraining Loss: 0.00237358 \tValidation Loss 0.02199810 \tTraining Acuuarcy 90.909% \tValidation Acuuarcy 75.000%\n",
      "tensor(25., dtype=torch.float64)\n",
      "Epoch: 50 \tTraining Loss: 0.00226944 \tValidation Loss 0.01348347 \tTraining Acuuarcy 89.394% \tValidation Acuuarcy 78.125%\n",
      "tensor(27., dtype=torch.float64)\n",
      "Epoch: 51 \tTraining Loss: 0.00160286 \tValidation Loss 0.01462905 \tTraining Acuuarcy 93.939% \tValidation Acuuarcy 84.375%\n",
      "tensor(28., dtype=torch.float64)\n",
      "Epoch: 52 \tTraining Loss: 0.00149149 \tValidation Loss 0.01184439 \tTraining Acuuarcy 94.318% \tValidation Acuuarcy 87.500%\n",
      "tensor(29., dtype=torch.float64)\n",
      "Epoch: 53 \tTraining Loss: 0.00255721 \tValidation Loss 0.00722905 \tTraining Acuuarcy 92.424% \tValidation Acuuarcy 90.625%\n",
      "tensor(27., dtype=torch.float64)\n",
      "Epoch: 54 \tTraining Loss: 0.00111554 \tValidation Loss 0.01315778 \tTraining Acuuarcy 96.591% \tValidation Acuuarcy 84.375%\n"
     ]
    },
    {
     "name": "stdout",
     "output_type": "stream",
     "text": [
      "tensor(28., dtype=torch.float64)\n",
      "Epoch: 55 \tTraining Loss: 0.00161149 \tValidation Loss 0.01045159 \tTraining Acuuarcy 96.591% \tValidation Acuuarcy 87.500%\n",
      "===================================Training Finished===================================\n"
     ]
    }
   ],
   "source": [
    "train_loss, val_loss,train_acc,val_acc = Train(epochs, train_loader, val_loader, criterion, optmizer, device)"
   ]
  },
  {
   "cell_type": "markdown",
   "metadata": {},
   "source": [
    "### plot"
   ]
  },
  {
   "cell_type": "code",
   "execution_count": 9,
   "metadata": {},
   "outputs": [
    {
     "data": {
      "text/plain": [
       "<matplotlib.legend.Legend at 0x2a18ef28eb0>"
      ]
     },
     "execution_count": 9,
     "metadata": {},
     "output_type": "execute_result"
    },
    {
     "data": {
      "image/png": "[encoded data removed]",
      "text/plain": [
       "<Figure size 432x288 with 1 Axes>"
      ]
     },
     "metadata": {
      "needs_background": "light"
     },
     "output_type": "display_data"
    }
   ],
   "source": [
    "import matplotlib.pyplot as plt\n",
    "# plt.switch_backend('Agg') # 后端设置'Agg' 参考：https://cloud.tencent.com/developer/article/1559466\n",
    "\n",
    "plt.figure()                   # 设置图片信息 例如：plt.figure(num = 2,figsize=(640,480))\n",
    "plt.plot(train_loss,'b',label = 'loss')        # epoch_losses 传入模型训练中的 loss[]列表,在训练过程中，先创建loss列表，将每一个epoch的loss 加进这个列表\n",
    "# plt.plot(val_loss,'g',label = 'loss')  \n",
    "plt.ylabel('loss')\n",
    "plt.xlabel('epoch')\n",
    "plt.legend()        #个性化图例（颜色、形状等）"
   ]
  },
  {
   "cell_type": "code",
   "execution_count": 10,
   "metadata": {},
   "outputs": [
    {
     "data": {
      "text/plain": [
       "<matplotlib.legend.Legend at 0x2a18f2a9070>"
      ]
     },
     "execution_count": 10,
     "metadata": {},
     "output_type": "execute_result"
    },
    {
     "data": {
      "image/png": "[encoded data removed]",
      "text/plain": [
       "<Figure size 432x288 with 1 Axes>"
      ]
     },
     "metadata": {
      "needs_background": "light"
     },
     "output_type": "display_data"
    }
   ],
   "source": [
    "plt.figure()                   # 设置图片信息 例如：plt.figure(num = 2,figsize=(640,480))\n",
    "plt.plot(train_acc,'b',label = 'train_acc')        # epoch_losses 传入模型训练中的 loss[]列表,在训练过程中，先创建loss列表，将每一个epoch的loss 加进这个列表\n",
    "# plt.plot(val_acc,'g',label = 'val_acc') \n",
    "plt.ylabel('accuracy')\n",
    "plt.xlabel('epoch')\n",
    "plt.legend()        #个性化图例（颜色、形状等）"
   ]
  },
  {
   "cell_type": "markdown",
   "metadata": {},
   "source": [
    "### test performance"
   ]
  },
  {
   "cell_type": "code",
   "execution_count": 11,
   "metadata": {},
   "outputs": [
    {
     "name": "stdout",
     "output_type": "stream",
     "text": [
      "Accuracy of the network on the test images: 65 %\n"
     ]
    }
   ],
   "source": [
    "testcsv_file = 'test_ckplus.csv'\n",
    "test_img_dir = 'ck_new/'\n",
    "test_dataset= Jaffe_Dataset(csv_file=testcsv_file, img_dir = test_img_dir, datatype = 'test', transform = transformation)\n",
    "test_loader= DataLoader(test_dataset,batch_size=63,shuffle = True,num_workers=0)\n",
    "\n",
    "total = []\n",
    "net.eval()\n",
    "with torch.no_grad():\n",
    "    for data,labels in test_loader:\n",
    "        output = net(data)\n",
    "        pred = F.softmax(output,dim=1)\n",
    "        result = torch.argmax(pred,1)\n",
    "        wrong = torch.where(result != labels,torch.tensor([1.]),torch.tensor([0.])) \n",
    "        acc = 1-(torch.sum(wrong)/70)\n",
    "        total.append(acc.item())\n",
    "\n",
    "    print('Accuracy of the network on the test images: %d %%' % (100 * np.mean(total)))"
   ]
  },
  {
   "cell_type": "markdown",
   "metadata": {},
   "source": [
    "### confusion matrix"
   ]
  },
  {
   "cell_type": "code",
   "execution_count": 12,
   "metadata": {},
   "outputs": [
    {
     "data": {
      "image/png": "[encoded data removed]",
      "text/plain": [
       "<Figure size 432x288 with 1 Axes>"
      ]
     },
     "metadata": {
      "needs_background": "light"
     },
     "output_type": "display_data"
    }
   ],
   "source": [
    "def confusion_matrix(preds, labels, conf_matrix):\n",
    "#     preds = torch.argmax(preds, 1)\n",
    "    for p, t in zip(preds, labels):\n",
    "        conf_matrix[p, t] += 1\n",
    "    return conf_matrix\n",
    "\n",
    "Emotion_kinds = 7\n",
    "conf_matrix = torch.zeros(Emotion_kinds, Emotion_kinds)\n",
    "\n",
    "\n",
    "            \n",
    "net.eval()\n",
    "with torch.no_grad():\n",
    "    for data,labels in test_loader:\n",
    "        output = net(data)\n",
    "        pred = F.softmax(output,dim=1)\n",
    "        result = torch.argmax(pred,1)\n",
    "        conf_matrix = confusion_matrix(result, labels, conf_matrix)\n",
    "\n",
    "Emotion=7#这个数值是具体的分类数，大家可以自行修改\n",
    "labels = ['angry', 'contempt', 'disgust', 'fear', 'happy','sadness','surprise']#每种类别的标签\n",
    "# 0=anger, 1=contempt, 2=disgust, 3=fear, 4=happy, 5=sadness, 6=surprise\n",
    "# 显示数据\n",
    "plt.imshow(conf_matrix, cmap=plt.cm.Blues)\n",
    "\n",
    "# 在图中标注数量/概率信息\n",
    "thresh = conf_matrix.max() / 2\t#数值颜色阈值，如果数值超过这个，就颜色加深。\n",
    "for x in range(Emotion_kinds):\n",
    "    for y in range(Emotion_kinds):\n",
    "        # 注意这里的matrix[y, x]不是matrix[x, y]\n",
    "        info = int(conf_matrix[y, x])\n",
    "        plt.text(x, y, info,\n",
    "                 verticalalignment='center',\n",
    "                 horizontalalignment='center',\n",
    "                 color=\"white\" if info > thresh else \"black\")\n",
    "                 \n",
    "plt.tight_layout()#保证图不重叠\n",
    "plt.yticks(range(Emotion_kinds), labels)\n",
    "plt.xticks(range(Emotion_kinds), labels,rotation=45)#X轴字体倾斜45°\n",
    "plt.show()\n",
    "plt.close()\n"
   ]
  },
  {
   "cell_type": "code",
   "execution_count": null,
   "metadata": {},
   "outputs": [],
   "source": []
  },
  {
   "cell_type": "code",
   "execution_count": null,
   "metadata": {},
   "outputs": [],
   "source": []
  }
 ],
 "metadata": {
  "kernelspec": {
   "display_name": "Python [conda env:root] *",
   "language": "python",
   "name": "conda-root-py"
  },
  "language_info": {
   "codemirror_mode": {
    "name": "ipython",
    "version": 3
   },
   "file_extension": ".py",
   "mimetype": "text/x-python",
   "name": "python",
   "nbconvert_exporter": "python",
   "pygments_lexer": "ipython3",
   "version": "3.8.5"
  }
 },
 "nbformat": 4,
 "nbformat_minor": 4
}
