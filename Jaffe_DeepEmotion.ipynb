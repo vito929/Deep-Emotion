{
 "cells": [
  {
   "cell_type": "code",
   "execution_count": 1,
   "metadata": {},
   "outputs": [],
   "source": [
    "from __future__ import print_function\n",
    "import argparse\n",
    "import numpy  as np\n",
    "from PIL import Image\n",
    "import torch\n",
    "import torch.nn as nn\n",
    "import torch.nn.functional as F\n",
    "import torchvision\n",
    "import torch.optim as optim\n",
    "from torch.utils.data import DataLoader, Dataset\n",
    "from torch.utils.data.sampler import SubsetRandomSampler\n",
    "from torchvision import transforms\n",
    "\n",
    "from data_loaders import Plain_Dataset, eval_data_dataloader\n",
    "from deep_emotion import Deep_Emotion\n",
    "from generate_data import Generate_data\n",
    "\n",
    "\n",
    "device = torch.device(\"cuda:0\" if torch.cuda.is_available() else \"cpu\")"
   ]
  },
  {
   "cell_type": "code",
   "execution_count": 2,
   "metadata": {},
   "outputs": [],
   "source": [
    "import cv2\n",
    "import os\n",
    "import math\n",
    "import numpy as np\n",
    "import pandas as pd\n",
    "import csv\n",
    "import matplotlib.pyplot as plt\n",
    "data_path = 'jaffe_raw/'\n",
    "save_path = 'jaffe_new/'"
   ]
  },
  {
   "cell_type": "code",
   "execution_count": 3,
   "metadata": {},
   "outputs": [],
   "source": [
    "def Train(epochs,train_loader,val_loader,criterion,optmizer,device):\n",
    "    '''\n",
    "    Training Loop\n",
    "    '''\n",
    "    print(\"===================================Start Training===================================\")\n",
    "    total_train_loss = []\n",
    "    total_val_loss = []\n",
    "    total_train_acc = []\n",
    "    total_val_acc = []\n",
    "    for e in range(epochs):\n",
    "        train_loss = 0\n",
    "        validation_loss = 0\n",
    "        train_correct = 0\n",
    "        val_correct = 0\n",
    "        # Train the model  #\n",
    "        net.train()\n",
    "        for data, labels in train_loader:\n",
    "            data, labels = data.to(device), labels.to(device)\n",
    "            optmizer.zero_grad()\n",
    "            outputs = net(data)\n",
    "            loss = criterion(outputs,labels)\n",
    "            loss.backward()\n",
    "            optmizer.step()\n",
    "            train_loss += loss.item()\n",
    "            _, preds = torch.max(outputs,1)\n",
    "            train_correct += torch.sum(preds == labels.data)\n",
    "\n",
    "        #validate the model#\n",
    "        net.eval()\n",
    "        for data,labels in val_loader:\n",
    "            data, labels = data.to(device), labels.to(device)\n",
    "            val_outputs = net(data)\n",
    "            val_loss = criterion(val_outputs, labels)\n",
    "            validation_loss += val_loss.item()\n",
    "            _, val_preds = torch.max(val_outputs,1)\n",
    "            val_correct += torch.sum(val_preds == labels.data)\n",
    "\n",
    "        print(val_correct.double())    \n",
    "        train_loss = train_loss/len(train_dataset)\n",
    "        train_acc = train_correct.double() / len(train_dataset)\n",
    "        validation_loss =  validation_loss / len(validation_dataset)\n",
    "        val_acc = val_correct.double() / len(validation_dataset)\n",
    "        print('Epoch: {} \\tTraining Loss: {:.8f} \\tValidation Loss {:.8f} \\tTraining Acuuarcy {:.3f}% \\tValidation Acuuarcy {:.3f}%'\n",
    "                                                           .format(e+1, train_loss,validation_loss,train_acc * 100, val_acc*100))\n",
    "        total_train_loss.append(train_loss)\n",
    "        total_val_loss.append(validation_loss)\n",
    "        total_train_acc.append(train_acc)\n",
    "        total_val_acc.append(val_acc)\n",
    "    torch.save(net.state_dict(),'deep_emotion-{}-{}-{}.pt'.format(epochs,batchsize,lr))\n",
    "    print(\"===================================Training Finished===================================\")\n",
    "    return total_train_loss,total_val_loss,total_train_acc,total_val_acc"
   ]
  },
  {
   "cell_type": "markdown",
   "metadata": {},
   "source": [
    "test model"
   ]
  },
  {
   "cell_type": "code",
   "execution_count": 4,
   "metadata": {},
   "outputs": [],
   "source": [
    "net = Deep_Emotion()\n",
    "a = torch.rand(1,1,48,48)"
   ]
  },
  {
   "cell_type": "code",
   "execution_count": 5,
   "metadata": {},
   "outputs": [],
   "source": [
    "\n",
    "#  [B, C, H, W] \n",
    "out = net(a)"
   ]
  },
  {
   "cell_type": "code",
   "execution_count": 6,
   "metadata": {},
   "outputs": [
    {
     "data": {
      "text/plain": [
       "torch.Size([1, 7])"
      ]
     },
     "execution_count": 6,
     "metadata": {},
     "output_type": "execute_result"
    }
   ],
   "source": [
    "out.shape"
   ]
  },
  {
   "cell_type": "markdown",
   "metadata": {},
   "source": [
    "1. data preprocess \n",
    "    框脸，resize，\n",
    "2. split dataset\n",
    "3. dataloader 测试"
   ]
  },
  {
   "cell_type": "markdown",
   "metadata": {},
   "source": [
    "# jaffe"
   ]
  },
  {
   "cell_type": "markdown",
   "metadata": {},
   "source": [
    "### 找到脸 然后 resize"
   ]
  },
  {
   "cell_type": "code",
   "execution_count": 7,
   "metadata": {},
   "outputs": [
    {
     "ename": "NameError",
     "evalue": "name 'face_detector' is not defined",
     "output_type": "error",
     "traceback": [
      "\u001b[1;31m---------------------------------------------------------------------------\u001b[0m",
      "\u001b[1;31mNameError\u001b[0m                                 Traceback (most recent call last)",
      "\u001b[1;32m<ipython-input-7-54be152cde9f>\u001b[0m in \u001b[0;36m<module>\u001b[1;34m\u001b[0m\n\u001b[0;32m     10\u001b[0m             \u001b[0mface_roi\u001b[0m \u001b[1;33m=\u001b[0m \u001b[0mcv2\u001b[0m\u001b[1;33m.\u001b[0m\u001b[0mresize\u001b[0m\u001b[1;33m(\u001b[0m\u001b[0mface_roi\u001b[0m\u001b[1;33m,\u001b[0m\u001b[1;33m(\u001b[0m\u001b[1;36m48\u001b[0m\u001b[1;33m,\u001b[0m\u001b[1;36m48\u001b[0m\u001b[1;33m)\u001b[0m\u001b[1;33m)\u001b[0m\u001b[1;33m\u001b[0m\u001b[1;33m\u001b[0m\u001b[0m\n\u001b[0;32m     11\u001b[0m         \u001b[0mcv2\u001b[0m\u001b[1;33m.\u001b[0m\u001b[0mimwrite\u001b[0m\u001b[1;33m(\u001b[0m\u001b[0msave_path\u001b[0m\u001b[1;33m+\u001b[0m\u001b[0mimg\u001b[0m\u001b[1;33m,\u001b[0m\u001b[0mface_roi\u001b[0m\u001b[1;33m)\u001b[0m\u001b[1;33m\u001b[0m\u001b[1;33m\u001b[0m\u001b[0m\n\u001b[1;32m---> 12\u001b[1;33m \u001b[0mpreprocessing\u001b[0m\u001b[1;33m(\u001b[0m\u001b[0mdata_path\u001b[0m\u001b[1;33m,\u001b[0m\u001b[0msave_path\u001b[0m\u001b[1;33m)\u001b[0m\u001b[1;33m\u001b[0m\u001b[1;33m\u001b[0m\u001b[0m\n\u001b[0m",
      "\u001b[1;32m<ipython-input-7-54be152cde9f>\u001b[0m in \u001b[0;36mpreprocessing\u001b[1;34m(raw_path, save_path)\u001b[0m\n\u001b[0;32m      4\u001b[0m         \u001b[0minput_img\u001b[0m \u001b[1;33m=\u001b[0m \u001b[0mcv2\u001b[0m\u001b[1;33m.\u001b[0m\u001b[0mimread\u001b[0m\u001b[1;33m(\u001b[0m\u001b[0mraw_path\u001b[0m\u001b[1;33m+\u001b[0m\u001b[0mimg\u001b[0m\u001b[1;33m)\u001b[0m\u001b[1;33m\u001b[0m\u001b[1;33m\u001b[0m\u001b[0m\n\u001b[0;32m      5\u001b[0m         \u001b[0minput_img\u001b[0m\u001b[1;33m=\u001b[0m\u001b[0mcv2\u001b[0m\u001b[1;33m.\u001b[0m\u001b[0mcvtColor\u001b[0m\u001b[1;33m(\u001b[0m\u001b[0minput_img\u001b[0m\u001b[1;33m,\u001b[0m \u001b[0mcv2\u001b[0m\u001b[1;33m.\u001b[0m\u001b[0mCOLOR_BGR2GRAY\u001b[0m\u001b[1;33m)\u001b[0m\u001b[1;33m\u001b[0m\u001b[1;33m\u001b[0m\u001b[0m\n\u001b[1;32m----> 6\u001b[1;33m         \u001b[0mfaces\u001b[0m \u001b[1;33m=\u001b[0m \u001b[0mface_detector\u001b[0m\u001b[1;33m.\u001b[0m\u001b[0mdetectMultiScale\u001b[0m\u001b[1;33m(\u001b[0m\u001b[0minput_img\u001b[0m\u001b[1;33m,\u001b[0m \u001b[1;36m1.3\u001b[0m\u001b[1;33m,\u001b[0m \u001b[1;36m5\u001b[0m\u001b[1;33m)\u001b[0m\u001b[1;33m\u001b[0m\u001b[1;33m\u001b[0m\u001b[0m\n\u001b[0m\u001b[0;32m      7\u001b[0m         \u001b[1;32mfor\u001b[0m \u001b[1;33m(\u001b[0m\u001b[0mx\u001b[0m\u001b[1;33m,\u001b[0m\u001b[0my\u001b[0m\u001b[1;33m,\u001b[0m\u001b[0mw\u001b[0m\u001b[1;33m,\u001b[0m\u001b[0mh\u001b[0m\u001b[1;33m)\u001b[0m \u001b[1;32min\u001b[0m \u001b[0mfaces\u001b[0m\u001b[1;33m:\u001b[0m\u001b[1;33m\u001b[0m\u001b[1;33m\u001b[0m\u001b[0m\n\u001b[0;32m      8\u001b[0m             \u001b[0mcv2\u001b[0m\u001b[1;33m.\u001b[0m\u001b[0mrectangle\u001b[0m\u001b[1;33m(\u001b[0m\u001b[0minput_img\u001b[0m\u001b[1;33m,\u001b[0m \u001b[1;33m(\u001b[0m\u001b[0mx\u001b[0m\u001b[1;33m,\u001b[0m\u001b[0my\u001b[0m\u001b[1;33m)\u001b[0m\u001b[1;33m,\u001b[0m \u001b[1;33m(\u001b[0m\u001b[0mx\u001b[0m\u001b[1;33m+\u001b[0m\u001b[0mw\u001b[0m\u001b[1;33m,\u001b[0m\u001b[0my\u001b[0m\u001b[1;33m+\u001b[0m\u001b[0mh\u001b[0m\u001b[1;33m)\u001b[0m\u001b[1;33m,\u001b[0m \u001b[1;33m(\u001b[0m\u001b[1;36m0\u001b[0m\u001b[1;33m,\u001b[0m\u001b[1;36m0\u001b[0m\u001b[1;33m,\u001b[0m\u001b[1;36m0\u001b[0m\u001b[1;33m)\u001b[0m\u001b[1;33m,\u001b[0m \u001b[1;36m2\u001b[0m\u001b[1;33m)\u001b[0m\u001b[1;33m\u001b[0m\u001b[1;33m\u001b[0m\u001b[0m\n",
      "\u001b[1;31mNameError\u001b[0m: name 'face_detector' is not defined"
     ]
    }
   ],
   "source": [
    "def preprocessing(raw_path,save_path):\n",
    "    img_list = os.listdir(data_path)\n",
    "    for img in img_list:\n",
    "        input_img = cv2.imread(raw_path+img)\n",
    "        input_img=cv2.cvtColor(input_img, cv2.COLOR_BGR2GRAY)\n",
    "        faces = face_detector.detectMultiScale(input_img, 1.3, 5)\n",
    "        for (x,y,w,h) in faces:\n",
    "            cv2.rectangle(input_img, (x,y), (x+w,y+h), (0,0,0), 2)     \n",
    "            face_roi=input_img[y:y+h,x:x+w]\n",
    "            face_roi = cv2.resize(face_roi,(48,48))\n",
    "        cv2.imwrite(save_path+img,face_roi)\n",
    "preprocessing(data_path,save_path)"
   ]
  },
  {
   "cell_type": "markdown",
   "metadata": {},
   "source": [
    "### test code"
   ]
  },
  {
   "cell_type": "code",
   "execution_count": 14,
   "metadata": {},
   "outputs": [],
   "source": [
    "img_list = os.listdir(data_path)\n",
    "faceCascade =cv2.CascadeClassifier(cv2.data.haarcascades + 'haarcascade_frontalface_default.xml')"
   ]
  },
  {
   "cell_type": "code",
   "execution_count": 15,
   "metadata": {},
   "outputs": [],
   "source": [
    "img = img_list[3]"
   ]
  },
  {
   "cell_type": "code",
   "execution_count": 16,
   "metadata": {},
   "outputs": [
    {
     "data": {
      "text/plain": [
       "True"
      ]
     },
     "execution_count": 16,
     "metadata": {},
     "output_type": "execute_result"
    }
   ],
   "source": [
    "input_img = cv2.imread(data_path+img)\n",
    "input_img=cv2.cvtColor(input_img, cv2.COLOR_BGR2GRAY)\n",
    "faces = face_detector.detectMultiScale(input_img, 1.3, 5)\n",
    "for (x,y,w,h) in faces:\n",
    "    cv2.rectangle(input_img, (x,y), (x+w,y+h), (0,0,0), 2)     \n",
    "    face_roi=input_img[y:y+h,x:x+w]\n",
    "    face_roi = cv2.resize(face_roi,(48,48))\n",
    "cv2.imwrite(save_path+img,face_roi)"
   ]
  },
  {
   "cell_type": "code",
   "execution_count": 18,
   "metadata": {},
   "outputs": [
    {
     "data": {
      "text/plain": [
       "(48, 48)"
      ]
     },
     "execution_count": 18,
     "metadata": {},
     "output_type": "execute_result"
    }
   ],
   "source": [
    "face_roi.shape"
   ]
  },
  {
   "cell_type": "code",
   "execution_count": 20,
   "metadata": {},
   "outputs": [
    {
     "data": {
      "text/plain": [
       "(256, 256)"
      ]
     },
     "execution_count": 20,
     "metadata": {},
     "output_type": "execute_result"
    }
   ],
   "source": [
    "input_img.shape"
   ]
  },
  {
   "cell_type": "code",
   "execution_count": 24,
   "metadata": {},
   "outputs": [
    {
     "data": {
      "image/png": "[encoded data removed]",
      "text/plain": [
       "<Figure size 432x288 with 1 Axes>"
      ]
     },
     "metadata": {
      "needs_background": "light"
     },
     "output_type": "display_data"
    }
   ],
   "source": [
    "plt.imshow(face_roi)\n",
    "plt.show()"
   ]
  },
  {
   "cell_type": "code",
   "execution_count": 27,
   "metadata": {},
   "outputs": [
    {
     "data": {
      "text/plain": [
       "213"
      ]
     },
     "execution_count": 27,
     "metadata": {},
     "output_type": "execute_result"
    }
   ],
   "source": [
    "len(img_list)"
   ]
  },
  {
   "cell_type": "markdown",
   "metadata": {},
   "source": [
    "## train \n",
    "use 120 images for training\n",
    "23 images for validation\n",
    "70 images for test (10 images per emotion in the test set). "
   ]
  },
  {
   "cell_type": "code",
   "execution_count": 5,
   "metadata": {},
   "outputs": [],
   "source": [
    "np.random.seed(100)"
   ]
  },
  {
   "cell_type": "code",
   "execution_count": 6,
   "metadata": {},
   "outputs": [],
   "source": [
    "with open('jaffe.csv','r') as csvfile:\n",
    "    reader = csv.reader(csvfile)\n",
    "    rows = [row for row in reader]"
   ]
  },
  {
   "cell_type": "code",
   "execution_count": 7,
   "metadata": {},
   "outputs": [],
   "source": [
    "len(rows)\n",
    "random_array = np.arange(len(rows))"
   ]
  },
  {
   "cell_type": "markdown",
   "metadata": {},
   "source": [
    "rows"
   ]
  },
  {
   "cell_type": "code",
   "execution_count": 8,
   "metadata": {},
   "outputs": [],
   "source": [
    "c = rows[0][1]"
   ]
  },
  {
   "cell_type": "code",
   "execution_count": 9,
   "metadata": {},
   "outputs": [
    {
     "data": {
      "text/plain": [
       "'0'"
      ]
     },
     "execution_count": 9,
     "metadata": {},
     "output_type": "execute_result"
    }
   ],
   "source": [
    "c"
   ]
  },
  {
   "cell_type": "code",
   "execution_count": 10,
   "metadata": {},
   "outputs": [],
   "source": [
    "cnt_an = 0\n",
    "cnt_di = 0\n",
    "cnt_fe = 0\n",
    "cnt_ha = 0\n",
    "cnt_sa = 0\n",
    "cnt_su = 0\n",
    "cnt_ne = 0\n",
    "loop = True\n",
    "\n",
    "cnt = 0\n",
    "\n",
    "st = []\n",
    "st_lbl = []\n",
    "idx = []\n",
    "while loop:\n",
    "    temp = np.random.choice(random_array)\n",
    "    item = rows[temp][0]\n",
    "    lbl = int(rows[temp][1])\n",
    "    if item not in st:\n",
    "        \n",
    "        if lbl == 0 and cnt_an<10 :\n",
    "            cnt_an = cnt_an+1\n",
    "            st_lbl.append(lbl)\n",
    "            st.append(item)\n",
    "            idx.append(temp)\n",
    "        elif lbl==1 and cnt_di<10:\n",
    "            cnt_di = cnt_di+1\n",
    "            st_lbl.append(lbl)\n",
    "            st.append(item)\n",
    "            idx.append(temp)\n",
    "        elif lbl==2 and cnt_fe<10:\n",
    "            cnt_fe = cnt_fe+1\n",
    "            st_lbl.append(lbl)\n",
    "            st.append(item)\n",
    "            idx.append(temp)\n",
    "        elif lbl==3 and cnt_ha<10:\n",
    "            cnt_ha = cnt_ha +1\n",
    "            st_lbl.append(lbl)\n",
    "            st.append(item)\n",
    "            idx.append(temp)\n",
    "        elif lbl == 4 and cnt_sa<10:\n",
    "            cnt_sa = cnt_sa +1\n",
    "            st_lbl.append(lbl)\n",
    "            st.append(item)\n",
    "            idx.append(temp)\n",
    "        elif lbl==5 and cnt_su<10:\n",
    "            cnt_su = cnt_su+1\n",
    "            st_lbl.append(lbl)\n",
    "            st.append(item)\n",
    "            idx.append(temp)\n",
    "        elif lbl==6 and cnt_ne<10:\n",
    "            cnt_ne = cnt_ne+1\n",
    "            st_lbl.append(lbl)\n",
    "            st.append(item)\n",
    "            idx.append(temp)\n",
    "\n",
    "#         print(len(st))\n",
    "        if cnt_an==10 and cnt_di==10 and cnt_fe==10 and cnt_ha==10 and cnt_sa==10 and cnt_su==10 and cnt_ne==10:\n",
    "            break\n",
    "        \n",
    "    \n",
    "    \n"
   ]
  },
  {
   "cell_type": "markdown",
   "metadata": {},
   "source": [
    "## 生成 test.csv"
   ]
  },
  {
   "cell_type": "code",
   "execution_count": 11,
   "metadata": {},
   "outputs": [],
   "source": [
    "with open('test_jaffe.csv', 'w', encoding='UTF8',newline='') as test_jaffe:\n",
    "    test_writer = csv.writer(test_jaffe)\n",
    "    for i in range(len(rows)):\n",
    "        if i in idx:\n",
    "            test_writer.writerow(rows[i])"
   ]
  },
  {
   "cell_type": "markdown",
   "metadata": {},
   "source": [
    "## 生成 vali.csv"
   ]
  },
  {
   "cell_type": "code",
   "execution_count": 12,
   "metadata": {},
   "outputs": [],
   "source": [
    "idx_val = []\n",
    "cnt_val = 0\n",
    "while True:\n",
    "    temp = np.random.choice(random_array)\n",
    "    if temp not in idx:\n",
    "        cnt_val = cnt_val+1\n",
    "        idx_val.append(temp)\n",
    "        \n",
    "        if cnt_val>=23:\n",
    "            break"
   ]
  },
  {
   "cell_type": "code",
   "execution_count": 13,
   "metadata": {},
   "outputs": [],
   "source": [
    "with open('vali_jaffe.csv', 'w', encoding='UTF8',newline='') as vali_jaffe:\n",
    "    vali_writer = csv.writer(vali_jaffe)\n",
    "    for i in range(len(rows)):\n",
    "        if i in idx_val:\n",
    "            vali_writer.writerow(rows[i])"
   ]
  },
  {
   "cell_type": "markdown",
   "metadata": {},
   "source": [
    "## 生成 train.csv"
   ]
  },
  {
   "cell_type": "code",
   "execution_count": 14,
   "metadata": {},
   "outputs": [],
   "source": [
    "with open('train_jaffe.csv', 'w', encoding='UTF8',newline='') as train_jaffe:\n",
    "    train_writer = csv.writer(train_jaffe)\n",
    "    for i in range(len(rows)):\n",
    "        if i not in idx and i not in idx_val:\n",
    "            train_writer.writerow(rows[i])"
   ]
  },
  {
   "cell_type": "markdown",
   "metadata": {},
   "source": [
    "# dataset and dataloader"
   ]
  },
  {
   "cell_type": "code",
   "execution_count": 4,
   "metadata": {},
   "outputs": [],
   "source": [
    "class Jaffe_Dataset(Dataset):\n",
    "    def __init__(self,csv_file,img_dir,datatype,transform):\n",
    "        '''\n",
    "        Pytorch Dataset class\n",
    "        params:-\n",
    "                 csv_file : the path of the csv file    (train, validation, test)\n",
    "                 img_dir  : the directory of the images (train, validation, test)\n",
    "                 datatype : string for searching along the image_dir (train, val, test)\n",
    "                 transform: pytorch transformation over the data\n",
    "        return :-\n",
    "                 image, labels\n",
    "                '''\n",
    "        with open(csv_file,'r') as csvfile:\n",
    "            rd = csv.reader(csvfile)\n",
    "            self.data = [row for row in rd]\n",
    "\n",
    "        self.img_dir = img_dir\n",
    "        self.transform = transform\n",
    "        self.datatype = datatype\n",
    "\n",
    "    def __len__(self):\n",
    "        return len(self.data)\n",
    "\n",
    "    def __getitem__(self,idx):\n",
    "        if torch.is_tensor(idx):\n",
    "            idx = idx.tolist()\n",
    "#         img = Image.open(self.img_dir+self.data[idx][0])\n",
    "\n",
    "        img = cv2.imread(self.img_dir+self.data[idx][0],0)\n",
    "#         print(img.shape)\n",
    "        lables = np.array(int(self.data[idx][1]))\n",
    "        lables = torch.from_numpy(lables).long()\n",
    "\n",
    "        if self.transform :\n",
    "            img = self.transform(img)\n",
    "        return img,lables\n"
   ]
  },
  {
   "cell_type": "code",
   "execution_count": 5,
   "metadata": {},
   "outputs": [],
   "source": [
    "def weight_init(m):  #初始化权重\n",
    "    if isinstance(m, nn.Conv2d):\n",
    "        m.weight.data.normal_(mean = 0, std = 0.05)\n",
    "        m.bias.data.zero_()\n",
    "    elif isinstance(m, nn.BatchNorm2d):\n",
    "        m.weight.data.normal_(mean = 0, std = 0.05)\n",
    "        m.bias.data.zero_()\n",
    "    elif isinstance(m, nn.Linear):\n",
    "        m.weight.data.normal_(mean = 0, std = 0.05)\n",
    "        m.bias.data.zero_()\n"
   ]
  },
  {
   "cell_type": "code",
   "execution_count": 6,
   "metadata": {},
   "outputs": [],
   "source": [
    "# traincsv_file = 'train_jaffe.csv'\n",
    "traincsv_file = 'train_vali_jaffe.csv'\n",
    "validationcsv_file = 'vali_jaffe.csv'\n",
    "train_img_dir = 'jaffe_new/'\n",
    "validation_img_dir = 'jaffe_new/'"
   ]
  },
  {
   "cell_type": "code",
   "execution_count": 7,
   "metadata": {},
   "outputs": [],
   "source": [
    "batchsize = 128\n",
    "transformation= transforms.Compose([transforms.ToTensor(),transforms.Normalize((0.5,),(0.5,))])\n",
    "# transformation= transforms.Compose([transforms.ToTensor()])\n",
    "train_dataset= Jaffe_Dataset(csv_file=traincsv_file, img_dir = train_img_dir, datatype = 'train', transform = transformation)\n",
    "validation_dataset= Jaffe_Dataset(csv_file=validationcsv_file, img_dir = validation_img_dir, datatype = 'val', transform = transformation)\n",
    "train_loader= DataLoader(train_dataset,batch_size=batchsize,shuffle = True,num_workers=0)\n",
    "val_loader=   DataLoader(validation_dataset,batch_size=batchsize,shuffle = True,num_workers=0)"
   ]
  },
  {
   "cell_type": "code",
   "execution_count": 8,
   "metadata": {},
   "outputs": [],
   "source": [
    "epochs = 55\n",
    "lr = 0.005\n",
    "\n",
    "net = Deep_Emotion()\n",
    "net.to(device)\n",
    "# net.apply(weight_init)\n",
    "criterion= nn.CrossEntropyLoss()\n",
    "optmizer= optim.Adam(net.parameters(),lr= lr)\n"
   ]
  },
  {
   "cell_type": "code",
   "execution_count": 9,
   "metadata": {},
   "outputs": [
    {
     "name": "stdout",
     "output_type": "stream",
     "text": [
      "===================================Start Training===================================\n"
     ]
    },
    {
     "name": "stderr",
     "output_type": "stream",
     "text": [
      "D:\\Anacon_Install\\lib\\site-packages\\torch\\nn\\functional.py:4277: UserWarning: Default grid_sample and affine_grid behavior has changed to align_corners=False since 1.3.0. Please specify align_corners=True if the old behavior is desired. See the documentation of grid_sample for details.\n",
      "  warnings.warn(\n",
      "D:\\Anacon_Install\\lib\\site-packages\\torch\\nn\\functional.py:4215: UserWarning: Default grid_sample and affine_grid behavior has changed to align_corners=False since 1.3.0. Please specify align_corners=True if the old behavior is desired. See the documentation of grid_sample for details.\n",
      "  warnings.warn(\n"
     ]
    },
    {
     "name": "stdout",
     "output_type": "stream",
     "text": [
      "tensor(4., dtype=torch.float64)\n",
      "Epoch: 1 \tTraining Loss: 0.02992382 \tValidation Loss 0.09251815 \tTraining Acuuarcy 13.287% \tValidation Acuuarcy 19.048%\n",
      "tensor(2., dtype=torch.float64)\n",
      "Epoch: 2 \tTraining Loss: 0.02785363 \tValidation Loss 0.09272057 \tTraining Acuuarcy 18.182% \tValidation Acuuarcy 9.524%\n",
      "tensor(2., dtype=torch.float64)\n",
      "Epoch: 3 \tTraining Loss: 0.02748070 \tValidation Loss 0.09261929 \tTraining Acuuarcy 23.077% \tValidation Acuuarcy 9.524%\n",
      "tensor(3., dtype=torch.float64)\n",
      "Epoch: 4 \tTraining Loss: 0.02545682 \tValidation Loss 0.09252723 \tTraining Acuuarcy 18.881% \tValidation Acuuarcy 14.286%\n",
      "tensor(3., dtype=torch.float64)\n",
      "Epoch: 5 \tTraining Loss: 0.02700753 \tValidation Loss 0.09247633 \tTraining Acuuarcy 20.979% \tValidation Acuuarcy 14.286%\n",
      "tensor(3., dtype=torch.float64)\n",
      "Epoch: 6 \tTraining Loss: 0.02512587 \tValidation Loss 0.09230248 \tTraining Acuuarcy 30.070% \tValidation Acuuarcy 14.286%\n",
      "tensor(2., dtype=torch.float64)\n",
      "Epoch: 7 \tTraining Loss: 0.02485085 \tValidation Loss 0.09216510 \tTraining Acuuarcy 25.175% \tValidation Acuuarcy 9.524%\n",
      "tensor(4., dtype=torch.float64)\n",
      "Epoch: 8 \tTraining Loss: 0.02229938 \tValidation Loss 0.09148511 \tTraining Acuuarcy 38.462% \tValidation Acuuarcy 19.048%\n",
      "tensor(6., dtype=torch.float64)\n",
      "Epoch: 9 \tTraining Loss: 0.02175890 \tValidation Loss 0.09099699 \tTraining Acuuarcy 36.364% \tValidation Acuuarcy 28.571%\n",
      "tensor(6., dtype=torch.float64)\n",
      "Epoch: 10 \tTraining Loss: 0.02076261 \tValidation Loss 0.09036099 \tTraining Acuuarcy 41.259% \tValidation Acuuarcy 28.571%\n",
      "tensor(7., dtype=torch.float64)\n",
      "Epoch: 11 \tTraining Loss: 0.01906498 \tValidation Loss 0.08928540 \tTraining Acuuarcy 55.245% \tValidation Acuuarcy 33.333%\n",
      "tensor(7., dtype=torch.float64)\n",
      "Epoch: 12 \tTraining Loss: 0.01808422 \tValidation Loss 0.08866560 \tTraining Acuuarcy 53.846% \tValidation Acuuarcy 33.333%\n",
      "tensor(11., dtype=torch.float64)\n",
      "Epoch: 13 \tTraining Loss: 0.01950570 \tValidation Loss 0.08529657 \tTraining Acuuarcy 51.748% \tValidation Acuuarcy 52.381%\n",
      "tensor(10., dtype=torch.float64)\n",
      "Epoch: 14 \tTraining Loss: 0.01924823 \tValidation Loss 0.08348972 \tTraining Acuuarcy 47.552% \tValidation Acuuarcy 47.619%\n",
      "tensor(11., dtype=torch.float64)\n",
      "Epoch: 15 \tTraining Loss: 0.01602807 \tValidation Loss 0.08065593 \tTraining Acuuarcy 61.538% \tValidation Acuuarcy 52.381%\n",
      "tensor(15., dtype=torch.float64)\n",
      "Epoch: 16 \tTraining Loss: 0.01476285 \tValidation Loss 0.07639121 \tTraining Acuuarcy 53.846% \tValidation Acuuarcy 71.429%\n",
      "tensor(16., dtype=torch.float64)\n",
      "Epoch: 17 \tTraining Loss: 0.01519331 \tValidation Loss 0.07660409 \tTraining Acuuarcy 60.839% \tValidation Acuuarcy 76.190%\n",
      "tensor(8., dtype=torch.float64)\n",
      "Epoch: 18 \tTraining Loss: 0.01472422 \tValidation Loss 0.07707317 \tTraining Acuuarcy 63.636% \tValidation Acuuarcy 38.095%\n",
      "tensor(11., dtype=torch.float64)\n",
      "Epoch: 19 \tTraining Loss: 0.01400036 \tValidation Loss 0.07217114 \tTraining Acuuarcy 61.538% \tValidation Acuuarcy 52.381%\n",
      "tensor(18., dtype=torch.float64)\n",
      "Epoch: 20 \tTraining Loss: 0.01484559 \tValidation Loss 0.06636919 \tTraining Acuuarcy 66.434% \tValidation Acuuarcy 85.714%\n",
      "tensor(13., dtype=torch.float64)\n",
      "Epoch: 21 \tTraining Loss: 0.01385776 \tValidation Loss 0.06751225 \tTraining Acuuarcy 74.126% \tValidation Acuuarcy 61.905%\n",
      "tensor(11., dtype=torch.float64)\n",
      "Epoch: 22 \tTraining Loss: 0.01396743 \tValidation Loss 0.06543375 \tTraining Acuuarcy 65.734% \tValidation Acuuarcy 52.381%\n",
      "tensor(11., dtype=torch.float64)\n",
      "Epoch: 23 \tTraining Loss: 0.01086295 \tValidation Loss 0.06259304 \tTraining Acuuarcy 67.832% \tValidation Acuuarcy 52.381%\n",
      "tensor(9., dtype=torch.float64)\n",
      "Epoch: 24 \tTraining Loss: 0.01212465 \tValidation Loss 0.05830755 \tTraining Acuuarcy 67.832% \tValidation Acuuarcy 42.857%\n",
      "tensor(14., dtype=torch.float64)\n",
      "Epoch: 25 \tTraining Loss: 0.01156075 \tValidation Loss 0.05255306 \tTraining Acuuarcy 73.427% \tValidation Acuuarcy 66.667%\n",
      "tensor(15., dtype=torch.float64)\n",
      "Epoch: 26 \tTraining Loss: 0.01185168 \tValidation Loss 0.04563141 \tTraining Acuuarcy 65.035% \tValidation Acuuarcy 71.429%\n",
      "tensor(18., dtype=torch.float64)\n",
      "Epoch: 27 \tTraining Loss: 0.01057269 \tValidation Loss 0.03966616 \tTraining Acuuarcy 70.629% \tValidation Acuuarcy 85.714%\n",
      "tensor(14., dtype=torch.float64)\n",
      "Epoch: 28 \tTraining Loss: 0.00998932 \tValidation Loss 0.04386227 \tTraining Acuuarcy 79.021% \tValidation Acuuarcy 66.667%\n",
      "tensor(14., dtype=torch.float64)\n",
      "Epoch: 29 \tTraining Loss: 0.01186819 \tValidation Loss 0.04817032 \tTraining Acuuarcy 72.727% \tValidation Acuuarcy 66.667%\n",
      "tensor(11., dtype=torch.float64)\n",
      "Epoch: 30 \tTraining Loss: 0.00904921 \tValidation Loss 0.04568211 \tTraining Acuuarcy 72.028% \tValidation Acuuarcy 52.381%\n",
      "tensor(17., dtype=torch.float64)\n",
      "Epoch: 31 \tTraining Loss: 0.00884311 \tValidation Loss 0.03512398 \tTraining Acuuarcy 76.224% \tValidation Acuuarcy 80.952%\n",
      "tensor(16., dtype=torch.float64)\n",
      "Epoch: 32 \tTraining Loss: 0.00691110 \tValidation Loss 0.03367450 \tTraining Acuuarcy 81.119% \tValidation Acuuarcy 76.190%\n",
      "tensor(17., dtype=torch.float64)\n",
      "Epoch: 33 \tTraining Loss: 0.00741730 \tValidation Loss 0.02485429 \tTraining Acuuarcy 76.923% \tValidation Acuuarcy 80.952%\n",
      "tensor(17., dtype=torch.float64)\n",
      "Epoch: 34 \tTraining Loss: 0.00773833 \tValidation Loss 0.02631378 \tTraining Acuuarcy 82.517% \tValidation Acuuarcy 80.952%\n",
      "tensor(14., dtype=torch.float64)\n",
      "Epoch: 35 \tTraining Loss: 0.00722259 \tValidation Loss 0.04012776 \tTraining Acuuarcy 82.517% \tValidation Acuuarcy 66.667%\n",
      "tensor(15., dtype=torch.float64)\n",
      "Epoch: 36 \tTraining Loss: 0.00929261 \tValidation Loss 0.04689208 \tTraining Acuuarcy 73.427% \tValidation Acuuarcy 71.429%\n",
      "tensor(15., dtype=torch.float64)\n",
      "Epoch: 37 \tTraining Loss: 0.00581950 \tValidation Loss 0.03073762 \tTraining Acuuarcy 80.420% \tValidation Acuuarcy 71.429%\n",
      "tensor(16., dtype=torch.float64)\n",
      "Epoch: 38 \tTraining Loss: 0.01144266 \tValidation Loss 0.02571877 \tTraining Acuuarcy 74.126% \tValidation Acuuarcy 76.190%\n",
      "tensor(15., dtype=torch.float64)\n",
      "Epoch: 39 \tTraining Loss: 0.00621552 \tValidation Loss 0.03970905 \tTraining Acuuarcy 81.119% \tValidation Acuuarcy 71.429%\n",
      "tensor(16., dtype=torch.float64)\n",
      "Epoch: 40 \tTraining Loss: 0.01098189 \tValidation Loss 0.03333715 \tTraining Acuuarcy 72.727% \tValidation Acuuarcy 76.190%\n",
      "tensor(18., dtype=torch.float64)\n",
      "Epoch: 41 \tTraining Loss: 0.00765938 \tValidation Loss 0.02500198 \tTraining Acuuarcy 76.224% \tValidation Acuuarcy 85.714%\n",
      "tensor(17., dtype=torch.float64)\n",
      "Epoch: 42 \tTraining Loss: 0.00759546 \tValidation Loss 0.02198062 \tTraining Acuuarcy 81.119% \tValidation Acuuarcy 80.952%\n",
      "tensor(19., dtype=torch.float64)\n",
      "Epoch: 43 \tTraining Loss: 0.00829443 \tValidation Loss 0.01649898 \tTraining Acuuarcy 79.021% \tValidation Acuuarcy 90.476%\n",
      "tensor(12., dtype=torch.float64)\n",
      "Epoch: 44 \tTraining Loss: 0.00674549 \tValidation Loss 0.04522915 \tTraining Acuuarcy 82.517% \tValidation Acuuarcy 57.143%\n",
      "tensor(19., dtype=torch.float64)\n",
      "Epoch: 45 \tTraining Loss: 0.01090516 \tValidation Loss 0.01956267 \tTraining Acuuarcy 65.734% \tValidation Acuuarcy 90.476%\n",
      "tensor(18., dtype=torch.float64)\n",
      "Epoch: 46 \tTraining Loss: 0.00482036 \tValidation Loss 0.01734042 \tTraining Acuuarcy 83.916% \tValidation Acuuarcy 85.714%\n",
      "tensor(19., dtype=torch.float64)\n",
      "Epoch: 47 \tTraining Loss: 0.00572033 \tValidation Loss 0.01781155 \tTraining Acuuarcy 84.615% \tValidation Acuuarcy 90.476%\n",
      "tensor(17., dtype=torch.float64)\n",
      "Epoch: 48 \tTraining Loss: 0.00711057 \tValidation Loss 0.02739625 \tTraining Acuuarcy 80.420% \tValidation Acuuarcy 80.952%\n",
      "tensor(19., dtype=torch.float64)\n",
      "Epoch: 49 \tTraining Loss: 0.00658270 \tValidation Loss 0.01088745 \tTraining Acuuarcy 88.112% \tValidation Acuuarcy 90.476%\n",
      "tensor(20., dtype=torch.float64)\n",
      "Epoch: 50 \tTraining Loss: 0.00599421 \tValidation Loss 0.01295678 \tTraining Acuuarcy 85.315% \tValidation Acuuarcy 95.238%\n",
      "tensor(19., dtype=torch.float64)\n",
      "Epoch: 51 \tTraining Loss: 0.00318193 \tValidation Loss 0.01374076 \tTraining Acuuarcy 90.909% \tValidation Acuuarcy 90.476%\n",
      "tensor(20., dtype=torch.float64)\n",
      "Epoch: 52 \tTraining Loss: 0.00507390 \tValidation Loss 0.00748910 \tTraining Acuuarcy 82.517% \tValidation Acuuarcy 95.238%\n",
      "tensor(20., dtype=torch.float64)\n",
      "Epoch: 53 \tTraining Loss: 0.00562804 \tValidation Loss 0.01310486 \tTraining Acuuarcy 85.315% \tValidation Acuuarcy 95.238%\n",
      "tensor(20., dtype=torch.float64)\n",
      "Epoch: 54 \tTraining Loss: 0.00569126 \tValidation Loss 0.01018446 \tTraining Acuuarcy 83.916% \tValidation Acuuarcy 95.238%\n"
     ]
    },
    {
     "name": "stdout",
     "output_type": "stream",
     "text": [
      "tensor(19., dtype=torch.float64)\n",
      "Epoch: 55 \tTraining Loss: 0.00454722 \tValidation Loss 0.02117399 \tTraining Acuuarcy 89.510% \tValidation Acuuarcy 90.476%\n",
      "===================================Training Finished===================================\n"
     ]
    }
   ],
   "source": [
    "train_loss, val_loss,train_acc,val_acc = Train(epochs, train_loader, val_loader, criterion, optmizer, device)"
   ]
  },
  {
   "cell_type": "code",
   "execution_count": 10,
   "metadata": {},
   "outputs": [
    {
     "data": {
      "text/plain": [
       "<matplotlib.legend.Legend at 0x1fd2be8bdc0>"
      ]
     },
     "execution_count": 10,
     "metadata": {},
     "output_type": "execute_result"
    },
    {
     "data": {
      "image/png": "[encoded data removed]",
      "text/plain": [
       "<Figure size 432x288 with 1 Axes>"
      ]
     },
     "metadata": {
      "needs_background": "light"
     },
     "output_type": "display_data"
    }
   ],
   "source": [
    "import matplotlib.pyplot as plt\n",
    "# plt.switch_backend('Agg') # 后端设置'Agg' 参考：https://cloud.tencent.com/developer/article/1559466\n",
    "\n",
    "plt.figure()                   # 设置图片信息 例如：plt.figure(num = 2,figsize=(640,480))\n",
    "plt.plot(train_loss,'b',label = 'loss')        # epoch_losses 传入模型训练中的 loss[]列表,在训练过程中，先创建loss列表，将每一个epoch的loss 加进这个列表\n",
    "# plt.plot(val_loss,'g',label = 'loss')  \n",
    "plt.ylabel('loss')\n",
    "plt.xlabel('epoch')\n",
    "plt.legend()        #个性化图例（颜色、形状等）"
   ]
  },
  {
   "cell_type": "code",
   "execution_count": 11,
   "metadata": {},
   "outputs": [
    {
     "data": {
      "text/plain": [
       "<matplotlib.legend.Legend at 0x1fd2c19e3d0>"
      ]
     },
     "execution_count": 11,
     "metadata": {},
     "output_type": "execute_result"
    },
    {
     "data": {
      "image/png": "[encoded data removed]",
      "text/plain": [
       "<Figure size 432x288 with 1 Axes>"
      ]
     },
     "metadata": {
      "needs_background": "light"
     },
     "output_type": "display_data"
    }
   ],
   "source": [
    "plt.figure()                   # 设置图片信息 例如：plt.figure(num = 2,figsize=(640,480))\n",
    "plt.plot(train_acc,'b',label = 'train_acc')        # epoch_losses 传入模型训练中的 loss[]列表,在训练过程中，先创建loss列表，将每一个epoch的loss 加进这个列表\n",
    "# plt.plot(val_acc,'g',label = 'val_acc') \n",
    "plt.ylabel('accuracy')\n",
    "plt.xlabel('epoch')\n",
    "plt.legend()        #个性化图例（颜色、形状等）"
   ]
  },
  {
   "cell_type": "markdown",
   "metadata": {},
   "source": [
    "## test"
   ]
  },
  {
   "cell_type": "code",
   "execution_count": 12,
   "metadata": {},
   "outputs": [
    {
     "name": "stdout",
     "output_type": "stream",
     "text": [
      "Accuracy of the network on the test images: 55 %\n"
     ]
    }
   ],
   "source": [
    "testcsv_file = 'test_jaffe.csv'\n",
    "test_img_dir = 'jaffe_new/'\n",
    "test_dataset= Jaffe_Dataset(csv_file=testcsv_file, img_dir = test_img_dir, datatype = 'test', transform = transformation)\n",
    "test_loader= DataLoader(test_dataset,batch_size=70,shuffle = True,num_workers=0)\n",
    "\n",
    "total = []\n",
    "net.eval()\n",
    "with torch.no_grad():\n",
    "    for data,labels in test_loader:\n",
    "        output = net(data)\n",
    "        pred = F.softmax(output,dim=1)\n",
    "        result = torch.argmax(pred,1)\n",
    "        wrong = torch.where(result != labels,torch.tensor([1.]),torch.tensor([0.])) \n",
    "        acc = 1-(torch.sum(wrong)/70)\n",
    "        total.append(acc.item())\n",
    "\n",
    "    print('Accuracy of the network on the test images: %d %%' % (100 * np.mean(total)))"
   ]
  },
  {
   "cell_type": "markdown",
   "metadata": {},
   "source": [
    "test code"
   ]
  },
  {
   "cell_type": "code",
   "execution_count": 13,
   "metadata": {},
   "outputs": [
    {
     "name": "stdout",
     "output_type": "stream",
     "text": [
      "conv1.weight : torch.Size([10, 1, 3, 3])\n",
      "conv1.bias : torch.Size([10])\n",
      "conv2.weight : torch.Size([10, 10, 3, 3])\n",
      "conv2.bias : torch.Size([10])\n",
      "conv3.weight : torch.Size([10, 10, 3, 3])\n",
      "conv3.bias : torch.Size([10])\n",
      "conv4.weight : torch.Size([10, 10, 3, 3])\n",
      "conv4.bias : torch.Size([10])\n",
      "norm.weight : torch.Size([10])\n",
      "norm.bias : torch.Size([10])\n",
      "fc1.weight : torch.Size([50, 810])\n",
      "fc1.bias : torch.Size([50])\n",
      "fc2.weight : torch.Size([7, 50])\n",
      "fc2.bias : torch.Size([7])\n",
      "localization.0.weight : torch.Size([8, 1, 7, 7])\n",
      "localization.0.bias : torch.Size([8])\n",
      "localization.3.weight : torch.Size([10, 8, 5, 5])\n",
      "localization.3.bias : torch.Size([10])\n",
      "fc_loc.0.weight : torch.Size([32, 640])\n",
      "fc_loc.0.bias : torch.Size([32])\n",
      "fc_loc.2.weight : torch.Size([6, 32])\n",
      "fc_loc.2.bias : torch.Size([6])\n"
     ]
    }
   ],
   "source": [
    "parm={}\n",
    "for name,parameters in net.named_parameters():\n",
    "    print(name,':',parameters.size())\n",
    "    parm[name]=parameters.detach().numpy()"
   ]
  },
  {
   "cell_type": "code",
   "execution_count": 79,
   "metadata": {},
   "outputs": [
    {
     "data": {
      "text/plain": [
       "True"
      ]
     },
     "execution_count": 79,
     "metadata": {},
     "output_type": "execute_result"
    }
   ],
   "source": []
  },
  {
   "cell_type": "code",
   "execution_count": 15,
   "metadata": {},
   "outputs": [
    {
     "data": {
      "text/plain": [
       "21"
      ]
     },
     "execution_count": 15,
     "metadata": {},
     "output_type": "execute_result"
    }
   ],
   "source": [
    "len(validation_dataset)"
   ]
  },
  {
   "cell_type": "code",
   "execution_count": 16,
   "metadata": {},
   "outputs": [],
   "source": [
    "from tqdm.auto import tqdm\n",
    "def train(dataloader, model, loss_fn, optimizer):\n",
    "    size = len(dataloader.dataset) # number of samples\n",
    "    num_batches = len(dataloader) # batches per epoch\n",
    "\n",
    "    model.train() # Sets the model in training mode.\n",
    "    epoch_loss, epoch_correct = 0, 0\n",
    "\n",
    "    for batch_i, (x, y) in enumerate(tqdm(dataloader, leave=False)):\n",
    "        x, y = x.to(device), y.to(device) # move data to GPU\n",
    "\n",
    "        # Compute prediction loss\n",
    "        pred = model(x)\n",
    "        loss = loss_fn(pred, y)\n",
    "\n",
    "        # Optimization by gradients\n",
    "        optimizer.zero_grad() # set prevision gradient to 0\n",
    "        loss.backward() # backpropagation to compute gradients\n",
    "        optimizer.step() # update model params\n",
    "\n",
    "        # write to logs\n",
    "        epoch_loss += loss.item()\n",
    "        epoch_correct += (pred.argmax(1) == y).type(torch.float).sum().item()\n",
    "\n",
    "    # return avg loss of epoch, acc of epoch\n",
    "    return epoch_loss/num_batches, epoch_correct/size\n",
    "    \n",
    "\n",
    "def test(dataloader, model, loss_fn):\n",
    "    size = len(dataloader.dataset) # number of samples\n",
    "    num_batches = len(dataloader) # batches per epoch\n",
    "\n",
    "    model.eval() # Sets the model in test mode.\n",
    "    epoch_loss, epoch_correct = 0, 0\n",
    "\n",
    "    # No training for test data\n",
    "    with torch.no_grad():\n",
    "        for batch_i, (x, y) in enumerate(tqdm(dataloader, leave=False)):\n",
    "            x, y = x.to(device), y.to(device)\n",
    "\n",
    "            pred = model(x)\n",
    "            loss = loss_fn(pred, y)\n",
    "\n",
    "            epoch_loss += loss.item()\n",
    "            epoch_correct += (pred.argmax(1) == y).type(torch.float).sum().item()\n",
    "    return epoch_loss/num_batches, epoch_correct/size"
   ]
  },
  {
   "cell_type": "code",
   "execution_count": 21,
   "metadata": {},
   "outputs": [
    {
     "data": {
      "application/vnd.jupyter.widget-view+json": {
       "model_id": "",
       "version_major": 2,
       "version_minor": 0
      },
      "text/plain": [
       "HBox(children=(HTML(value=''), FloatProgress(value=0.0, max=20.0), HTML(value='')))"
      ]
     },
     "metadata": {},
     "output_type": "display_data"
    },
    {
     "data": {
      "application/vnd.jupyter.widget-view+json": {
       "model_id": "",
       "version_major": 2,
       "version_minor": 0
      },
      "text/plain": [
       "HBox(children=(HTML(value=''), FloatProgress(value=0.0, max=16.0), HTML(value='')))"
      ]
     },
     "metadata": {},
     "output_type": "display_data"
    },
    {
     "data": {
      "application/vnd.jupyter.widget-view+json": {
       "model_id": "",
       "version_major": 2,
       "version_minor": 0
      },
      "text/plain": [
       "HBox(children=(HTML(value=''), FloatProgress(value=0.0, max=3.0), HTML(value='')))"
      ]
     },
     "metadata": {},
     "output_type": "display_data"
    },
    {
     "name": "stdout",
     "output_type": "stream",
     "text": [
      "Epoch: 1 \tTraining Loss: 2.11029819 \tValidation Loss 1.94973310 \tTraining Acuuarcy 13.115% \tValidation Acuuarcy 9.524%\n"
     ]
    },
    {
     "data": {
      "application/vnd.jupyter.widget-view+json": {
       "model_id": "",
       "version_major": 2,
       "version_minor": 0
      },
      "text/plain": [
       "HBox(children=(HTML(value=''), FloatProgress(value=0.0, max=16.0), HTML(value='')))"
      ]
     },
     "metadata": {},
     "output_type": "display_data"
    },
    {
     "data": {
      "application/vnd.jupyter.widget-view+json": {
       "model_id": "",
       "version_major": 2,
       "version_minor": 0
      },
      "text/plain": [
       "HBox(children=(HTML(value=''), FloatProgress(value=0.0, max=3.0), HTML(value='')))"
      ]
     },
     "metadata": {},
     "output_type": "display_data"
    },
    {
     "name": "stdout",
     "output_type": "stream",
     "text": [
      "Epoch: 2 \tTraining Loss: 1.98360749 \tValidation Loss 1.88739793 \tTraining Acuuarcy 12.295% \tValidation Acuuarcy 14.286%\n"
     ]
    },
    {
     "data": {
      "application/vnd.jupyter.widget-view+json": {
       "model_id": "",
       "version_major": 2,
       "version_minor": 0
      },
      "text/plain": [
       "HBox(children=(HTML(value=''), FloatProgress(value=0.0, max=16.0), HTML(value='')))"
      ]
     },
     "metadata": {},
     "output_type": "display_data"
    },
    {
     "data": {
      "application/vnd.jupyter.widget-view+json": {
       "model_id": "",
       "version_major": 2,
       "version_minor": 0
      },
      "text/plain": [
       "HBox(children=(HTML(value=''), FloatProgress(value=0.0, max=3.0), HTML(value='')))"
      ]
     },
     "metadata": {},
     "output_type": "display_data"
    },
    {
     "name": "stdout",
     "output_type": "stream",
     "text": [
      "Epoch: 3 \tTraining Loss: 1.86780261 \tValidation Loss 1.88608245 \tTraining Acuuarcy 23.770% \tValidation Acuuarcy 28.571%\n"
     ]
    },
    {
     "data": {
      "application/vnd.jupyter.widget-view+json": {
       "model_id": "",
       "version_major": 2,
       "version_minor": 0
      },
      "text/plain": [
       "HBox(children=(HTML(value=''), FloatProgress(value=0.0, max=16.0), HTML(value='')))"
      ]
     },
     "metadata": {},
     "output_type": "display_data"
    },
    {
     "data": {
      "application/vnd.jupyter.widget-view+json": {
       "model_id": "",
       "version_major": 2,
       "version_minor": 0
      },
      "text/plain": [
       "HBox(children=(HTML(value=''), FloatProgress(value=0.0, max=3.0), HTML(value='')))"
      ]
     },
     "metadata": {},
     "output_type": "display_data"
    },
    {
     "name": "stdout",
     "output_type": "stream",
     "text": [
      "Epoch: 4 \tTraining Loss: 1.81128483 \tValidation Loss 1.71822755 \tTraining Acuuarcy 26.230% \tValidation Acuuarcy 47.619%\n"
     ]
    },
    {
     "data": {
      "application/vnd.jupyter.widget-view+json": {
       "model_id": "",
       "version_major": 2,
       "version_minor": 0
      },
      "text/plain": [
       "HBox(children=(HTML(value=''), FloatProgress(value=0.0, max=16.0), HTML(value='')))"
      ]
     },
     "metadata": {},
     "output_type": "display_data"
    },
    {
     "data": {
      "application/vnd.jupyter.widget-view+json": {
       "model_id": "",
       "version_major": 2,
       "version_minor": 0
      },
      "text/plain": [
       "HBox(children=(HTML(value=''), FloatProgress(value=0.0, max=3.0), HTML(value='')))"
      ]
     },
     "metadata": {},
     "output_type": "display_data"
    },
    {
     "name": "stdout",
     "output_type": "stream",
     "text": [
      "Epoch: 5 \tTraining Loss: 1.49995875 \tValidation Loss 1.70605699 \tTraining Acuuarcy 39.344% \tValidation Acuuarcy 19.048%\n"
     ]
    },
    {
     "data": {
      "application/vnd.jupyter.widget-view+json": {
       "model_id": "",
       "version_major": 2,
       "version_minor": 0
      },
      "text/plain": [
       "HBox(children=(HTML(value=''), FloatProgress(value=0.0, max=16.0), HTML(value='')))"
      ]
     },
     "metadata": {},
     "output_type": "display_data"
    },
    {
     "data": {
      "application/vnd.jupyter.widget-view+json": {
       "model_id": "",
       "version_major": 2,
       "version_minor": 0
      },
      "text/plain": [
       "HBox(children=(HTML(value=''), FloatProgress(value=0.0, max=3.0), HTML(value='')))"
      ]
     },
     "metadata": {},
     "output_type": "display_data"
    },
    {
     "name": "stdout",
     "output_type": "stream",
     "text": [
      "Epoch: 6 \tTraining Loss: 1.37660594 \tValidation Loss 1.56222836 \tTraining Acuuarcy 48.361% \tValidation Acuuarcy 38.095%\n"
     ]
    },
    {
     "data": {
      "application/vnd.jupyter.widget-view+json": {
       "model_id": "",
       "version_major": 2,
       "version_minor": 0
      },
      "text/plain": [
       "HBox(children=(HTML(value=''), FloatProgress(value=0.0, max=16.0), HTML(value='')))"
      ]
     },
     "metadata": {},
     "output_type": "display_data"
    },
    {
     "data": {
      "application/vnd.jupyter.widget-view+json": {
       "model_id": "",
       "version_major": 2,
       "version_minor": 0
      },
      "text/plain": [
       "HBox(children=(HTML(value=''), FloatProgress(value=0.0, max=3.0), HTML(value='')))"
      ]
     },
     "metadata": {},
     "output_type": "display_data"
    },
    {
     "name": "stdout",
     "output_type": "stream",
     "text": [
      "Epoch: 7 \tTraining Loss: 1.38751818 \tValidation Loss 1.35659651 \tTraining Acuuarcy 45.082% \tValidation Acuuarcy 42.857%\n"
     ]
    },
    {
     "data": {
      "application/vnd.jupyter.widget-view+json": {
       "model_id": "",
       "version_major": 2,
       "version_minor": 0
      },
      "text/plain": [
       "HBox(children=(HTML(value=''), FloatProgress(value=0.0, max=16.0), HTML(value='')))"
      ]
     },
     "metadata": {},
     "output_type": "display_data"
    },
    {
     "data": {
      "application/vnd.jupyter.widget-view+json": {
       "model_id": "",
       "version_major": 2,
       "version_minor": 0
      },
      "text/plain": [
       "HBox(children=(HTML(value=''), FloatProgress(value=0.0, max=3.0), HTML(value='')))"
      ]
     },
     "metadata": {},
     "output_type": "display_data"
    },
    {
     "name": "stdout",
     "output_type": "stream",
     "text": [
      "Epoch: 8 \tTraining Loss: 1.05244057 \tValidation Loss 1.29582985 \tTraining Acuuarcy 60.656% \tValidation Acuuarcy 57.143%\n"
     ]
    },
    {
     "data": {
      "application/vnd.jupyter.widget-view+json": {
       "model_id": "",
       "version_major": 2,
       "version_minor": 0
      },
      "text/plain": [
       "HBox(children=(HTML(value=''), FloatProgress(value=0.0, max=16.0), HTML(value='')))"
      ]
     },
     "metadata": {},
     "output_type": "display_data"
    },
    {
     "data": {
      "application/vnd.jupyter.widget-view+json": {
       "model_id": "",
       "version_major": 2,
       "version_minor": 0
      },
      "text/plain": [
       "HBox(children=(HTML(value=''), FloatProgress(value=0.0, max=3.0), HTML(value='')))"
      ]
     },
     "metadata": {},
     "output_type": "display_data"
    },
    {
     "name": "stdout",
     "output_type": "stream",
     "text": [
      "Epoch: 9 \tTraining Loss: 0.95577427 \tValidation Loss 0.99925987 \tTraining Acuuarcy 68.852% \tValidation Acuuarcy 57.143%\n"
     ]
    },
    {
     "data": {
      "application/vnd.jupyter.widget-view+json": {
       "model_id": "",
       "version_major": 2,
       "version_minor": 0
      },
      "text/plain": [
       "HBox(children=(HTML(value=''), FloatProgress(value=0.0, max=16.0), HTML(value='')))"
      ]
     },
     "metadata": {},
     "output_type": "display_data"
    },
    {
     "data": {
      "application/vnd.jupyter.widget-view+json": {
       "model_id": "",
       "version_major": 2,
       "version_minor": 0
      },
      "text/plain": [
       "HBox(children=(HTML(value=''), FloatProgress(value=0.0, max=3.0), HTML(value='')))"
      ]
     },
     "metadata": {},
     "output_type": "display_data"
    },
    {
     "name": "stdout",
     "output_type": "stream",
     "text": [
      "Epoch: 10 \tTraining Loss: 1.00024251 \tValidation Loss 1.26057728 \tTraining Acuuarcy 61.475% \tValidation Acuuarcy 61.905%\n"
     ]
    },
    {
     "data": {
      "application/vnd.jupyter.widget-view+json": {
       "model_id": "",
       "version_major": 2,
       "version_minor": 0
      },
      "text/plain": [
       "HBox(children=(HTML(value=''), FloatProgress(value=0.0, max=16.0), HTML(value='')))"
      ]
     },
     "metadata": {},
     "output_type": "display_data"
    },
    {
     "data": {
      "application/vnd.jupyter.widget-view+json": {
       "model_id": "",
       "version_major": 2,
       "version_minor": 0
      },
      "text/plain": [
       "HBox(children=(HTML(value=''), FloatProgress(value=0.0, max=3.0), HTML(value='')))"
      ]
     },
     "metadata": {},
     "output_type": "display_data"
    },
    {
     "name": "stdout",
     "output_type": "stream",
     "text": [
      "Epoch: 11 \tTraining Loss: 0.73156946 \tValidation Loss 1.05541718 \tTraining Acuuarcy 70.492% \tValidation Acuuarcy 47.619%\n"
     ]
    },
    {
     "data": {
      "application/vnd.jupyter.widget-view+json": {
       "model_id": "",
       "version_major": 2,
       "version_minor": 0
      },
      "text/plain": [
       "HBox(children=(HTML(value=''), FloatProgress(value=0.0, max=16.0), HTML(value='')))"
      ]
     },
     "metadata": {},
     "output_type": "display_data"
    },
    {
     "data": {
      "application/vnd.jupyter.widget-view+json": {
       "model_id": "",
       "version_major": 2,
       "version_minor": 0
      },
      "text/plain": [
       "HBox(children=(HTML(value=''), FloatProgress(value=0.0, max=3.0), HTML(value='')))"
      ]
     },
     "metadata": {},
     "output_type": "display_data"
    },
    {
     "name": "stdout",
     "output_type": "stream",
     "text": [
      "Epoch: 12 \tTraining Loss: 0.64836465 \tValidation Loss 0.71135578 \tTraining Acuuarcy 77.869% \tValidation Acuuarcy 80.952%\n"
     ]
    },
    {
     "data": {
      "application/vnd.jupyter.widget-view+json": {
       "model_id": "",
       "version_major": 2,
       "version_minor": 0
      },
      "text/plain": [
       "HBox(children=(HTML(value=''), FloatProgress(value=0.0, max=16.0), HTML(value='')))"
      ]
     },
     "metadata": {},
     "output_type": "display_data"
    },
    {
     "data": {
      "application/vnd.jupyter.widget-view+json": {
       "model_id": "",
       "version_major": 2,
       "version_minor": 0
      },
      "text/plain": [
       "HBox(children=(HTML(value=''), FloatProgress(value=0.0, max=3.0), HTML(value='')))"
      ]
     },
     "metadata": {},
     "output_type": "display_data"
    },
    {
     "name": "stdout",
     "output_type": "stream",
     "text": [
      "Epoch: 13 \tTraining Loss: 0.57666302 \tValidation Loss 0.97467287 \tTraining Acuuarcy 81.967% \tValidation Acuuarcy 61.905%\n"
     ]
    },
    {
     "data": {
      "application/vnd.jupyter.widget-view+json": {
       "model_id": "",
       "version_major": 2,
       "version_minor": 0
      },
      "text/plain": [
       "HBox(children=(HTML(value=''), FloatProgress(value=0.0, max=16.0), HTML(value='')))"
      ]
     },
     "metadata": {},
     "output_type": "display_data"
    },
    {
     "data": {
      "application/vnd.jupyter.widget-view+json": {
       "model_id": "",
       "version_major": 2,
       "version_minor": 0
      },
      "text/plain": [
       "HBox(children=(HTML(value=''), FloatProgress(value=0.0, max=3.0), HTML(value='')))"
      ]
     },
     "metadata": {},
     "output_type": "display_data"
    },
    {
     "name": "stdout",
     "output_type": "stream",
     "text": [
      "Epoch: 14 \tTraining Loss: 0.45986413 \tValidation Loss 1.37874500 \tTraining Acuuarcy 83.607% \tValidation Acuuarcy 52.381%\n"
     ]
    },
    {
     "data": {
      "application/vnd.jupyter.widget-view+json": {
       "model_id": "",
       "version_major": 2,
       "version_minor": 0
      },
      "text/plain": [
       "HBox(children=(HTML(value=''), FloatProgress(value=0.0, max=16.0), HTML(value='')))"
      ]
     },
     "metadata": {},
     "output_type": "display_data"
    },
    {
     "data": {
      "application/vnd.jupyter.widget-view+json": {
       "model_id": "",
       "version_major": 2,
       "version_minor": 0
      },
      "text/plain": [
       "HBox(children=(HTML(value=''), FloatProgress(value=0.0, max=3.0), HTML(value='')))"
      ]
     },
     "metadata": {},
     "output_type": "display_data"
    },
    {
     "name": "stdout",
     "output_type": "stream",
     "text": [
      "Epoch: 15 \tTraining Loss: 0.58613172 \tValidation Loss 1.06907094 \tTraining Acuuarcy 77.869% \tValidation Acuuarcy 71.429%\n"
     ]
    },
    {
     "data": {
      "application/vnd.jupyter.widget-view+json": {
       "model_id": "",
       "version_major": 2,
       "version_minor": 0
      },
      "text/plain": [
       "HBox(children=(HTML(value=''), FloatProgress(value=0.0, max=16.0), HTML(value='')))"
      ]
     },
     "metadata": {},
     "output_type": "display_data"
    },
    {
     "data": {
      "application/vnd.jupyter.widget-view+json": {
       "model_id": "",
       "version_major": 2,
       "version_minor": 0
      },
      "text/plain": [
       "HBox(children=(HTML(value=''), FloatProgress(value=0.0, max=3.0), HTML(value='')))"
      ]
     },
     "metadata": {},
     "output_type": "display_data"
    },
    {
     "name": "stdout",
     "output_type": "stream",
     "text": [
      "Epoch: 16 \tTraining Loss: 0.57975894 \tValidation Loss 1.07318201 \tTraining Acuuarcy 83.607% \tValidation Acuuarcy 66.667%\n"
     ]
    },
    {
     "data": {
      "application/vnd.jupyter.widget-view+json": {
       "model_id": "",
       "version_major": 2,
       "version_minor": 0
      },
      "text/plain": [
       "HBox(children=(HTML(value=''), FloatProgress(value=0.0, max=16.0), HTML(value='')))"
      ]
     },
     "metadata": {},
     "output_type": "display_data"
    },
    {
     "data": {
      "application/vnd.jupyter.widget-view+json": {
       "model_id": "",
       "version_major": 2,
       "version_minor": 0
      },
      "text/plain": [
       "HBox(children=(HTML(value=''), FloatProgress(value=0.0, max=3.0), HTML(value='')))"
      ]
     },
     "metadata": {},
     "output_type": "display_data"
    },
    {
     "name": "stdout",
     "output_type": "stream",
     "text": [
      "Epoch: 17 \tTraining Loss: 0.37646030 \tValidation Loss 0.69905088 \tTraining Acuuarcy 86.066% \tValidation Acuuarcy 80.952%\n"
     ]
    },
    {
     "data": {
      "application/vnd.jupyter.widget-view+json": {
       "model_id": "",
       "version_major": 2,
       "version_minor": 0
      },
      "text/plain": [
       "HBox(children=(HTML(value=''), FloatProgress(value=0.0, max=16.0), HTML(value='')))"
      ]
     },
     "metadata": {},
     "output_type": "display_data"
    },
    {
     "data": {
      "application/vnd.jupyter.widget-view+json": {
       "model_id": "",
       "version_major": 2,
       "version_minor": 0
      },
      "text/plain": [
       "HBox(children=(HTML(value=''), FloatProgress(value=0.0, max=3.0), HTML(value='')))"
      ]
     },
     "metadata": {},
     "output_type": "display_data"
    },
    {
     "name": "stdout",
     "output_type": "stream",
     "text": [
      "Epoch: 18 \tTraining Loss: 0.43434601 \tValidation Loss 1.07519644 \tTraining Acuuarcy 81.967% \tValidation Acuuarcy 57.143%\n"
     ]
    },
    {
     "data": {
      "application/vnd.jupyter.widget-view+json": {
       "model_id": "",
       "version_major": 2,
       "version_minor": 0
      },
      "text/plain": [
       "HBox(children=(HTML(value=''), FloatProgress(value=0.0, max=16.0), HTML(value='')))"
      ]
     },
     "metadata": {},
     "output_type": "display_data"
    },
    {
     "data": {
      "application/vnd.jupyter.widget-view+json": {
       "model_id": "",
       "version_major": 2,
       "version_minor": 0
      },
      "text/plain": [
       "HBox(children=(HTML(value=''), FloatProgress(value=0.0, max=3.0), HTML(value='')))"
      ]
     },
     "metadata": {},
     "output_type": "display_data"
    },
    {
     "name": "stdout",
     "output_type": "stream",
     "text": [
      "Epoch: 19 \tTraining Loss: 0.42803469 \tValidation Loss 0.91973961 \tTraining Acuuarcy 81.967% \tValidation Acuuarcy 76.190%\n"
     ]
    },
    {
     "data": {
      "application/vnd.jupyter.widget-view+json": {
       "model_id": "",
       "version_major": 2,
       "version_minor": 0
      },
      "text/plain": [
       "HBox(children=(HTML(value=''), FloatProgress(value=0.0, max=16.0), HTML(value='')))"
      ]
     },
     "metadata": {},
     "output_type": "display_data"
    },
    {
     "data": {
      "application/vnd.jupyter.widget-view+json": {
       "model_id": "",
       "version_major": 2,
       "version_minor": 0
      },
      "text/plain": [
       "HBox(children=(HTML(value=''), FloatProgress(value=0.0, max=3.0), HTML(value='')))"
      ]
     },
     "metadata": {},
     "output_type": "display_data"
    },
    {
     "name": "stdout",
     "output_type": "stream",
     "text": [
      "Epoch: 20 \tTraining Loss: 0.29182808 \tValidation Loss 1.18335968 \tTraining Acuuarcy 92.623% \tValidation Acuuarcy 61.905%\n"
     ]
    }
   ],
   "source": [
    "model = Deep_Emotion()\n",
    "loss_fn = nn.CrossEntropyLoss()\n",
    "lr = 0.003\n",
    "optmizer= optim.Adam(model.parameters(),lr= lr)\n",
    "EPOCHS = 20\n",
    "for e in tqdm(range(EPOCHS), leave=False):\n",
    "    train_loss, train_acc = train(train_loader, model, loss_fn, optmizer)\n",
    "    \n",
    "    val_loss, val_acc = test(val_loader, model, loss_fn)\n",
    "    print('Epoch: {} \\tTraining Loss: {:.8f} \\tValidation Loss {:.8f} \\tTraining Acuuarcy {:.3f}% \\tValidation Acuuarcy {:.3f}%'\n",
    "                                                           .format(e+1, train_loss,val_loss,train_acc * 100, val_acc*100))"
   ]
  },
  {
   "cell_type": "code",
   "execution_count": 22,
   "metadata": {},
   "outputs": [
    {
     "name": "stdout",
     "output_type": "stream",
     "text": [
      "Accuracy of the network on the test images: 67 %\n"
     ]
    }
   ],
   "source": [
    "testcsv_file = 'test_jaffe.csv'\n",
    "test_img_dir = 'jaffe_new/'\n",
    "test_dataset= Jaffe_Dataset(csv_file=testcsv_file, img_dir = test_img_dir, datatype = 'test', transform = transformation)\n",
    "test_loader= DataLoader(test_dataset,batch_size=70,shuffle = True,num_workers=0)\n",
    "\n",
    "total = []\n",
    "model.eval()\n",
    "with torch.no_grad():\n",
    "    for data,labels in test_loader:\n",
    "        output = model(data)\n",
    "        pred = F.softmax(output,dim=1)\n",
    "        result = torch.argmax(pred,1)\n",
    "        wrong = torch.where(result != labels,torch.tensor([1.]),torch.tensor([0.])) \n",
    "        acc = 1-(torch.sum(wrong)/70)\n",
    "        total.append(acc.item())\n",
    "\n",
    "    print('Accuracy of the network on the test images: %d %%' % (100 * np.mean(total)))"
   ]
  },
  {
   "cell_type": "code",
   "execution_count": 23,
   "metadata": {},
   "outputs": [
    {
     "ename": "NameError",
     "evalue": "name 'reset_weights' is not defined",
     "output_type": "error",
     "traceback": [
      "\u001b[1;31m---------------------------------------------------------------------------\u001b[0m",
      "\u001b[1;31mNameError\u001b[0m                                 Traceback (most recent call last)",
      "\u001b[1;32m<ipython-input-23-a9129cb4485f>\u001b[0m in \u001b[0;36m<module>\u001b[1;34m\u001b[0m\n\u001b[1;32m----> 1\u001b[1;33m \u001b[0mnet\u001b[0m\u001b[1;33m.\u001b[0m\u001b[0mapply\u001b[0m\u001b[1;33m(\u001b[0m\u001b[0mreset_weights\u001b[0m\u001b[1;33m)\u001b[0m\u001b[1;33m\u001b[0m\u001b[1;33m\u001b[0m\u001b[0m\n\u001b[0m",
      "\u001b[1;31mNameError\u001b[0m: name 'reset_weights' is not defined"
     ]
    }
   ],
   "source": [
    "net.apply(reset_weights)"
   ]
  },
  {
   "cell_type": "code",
   "execution_count": 34,
   "metadata": {},
   "outputs": [
    {
     "name": "stdout",
     "output_type": "stream",
     "text": [
      "conv1.weight : torch.Size([10, 1, 3, 3])\n",
      "conv1.bias : torch.Size([10])\n",
      "conv2.weight : torch.Size([10, 10, 3, 3])\n",
      "conv2.bias : torch.Size([10])\n",
      "conv3.weight : torch.Size([10, 10, 3, 3])\n",
      "conv3.bias : torch.Size([10])\n",
      "conv4.weight : torch.Size([10, 10, 3, 3])\n",
      "conv4.bias : torch.Size([10])\n",
      "norm.weight : torch.Size([10])\n",
      "norm.bias : torch.Size([10])\n",
      "fc1.weight : torch.Size([50, 810])\n",
      "fc1.bias : torch.Size([50])\n",
      "fc2.weight : torch.Size([7, 50])\n",
      "fc2.bias : torch.Size([7])\n",
      "localization.0.weight : torch.Size([8, 1, 7, 7])\n",
      "localization.0.bias : torch.Size([8])\n",
      "localization.3.weight : torch.Size([10, 8, 5, 5])\n",
      "localization.3.bias : torch.Size([10])\n",
      "fc_loc.0.weight : torch.Size([32, 640])\n",
      "fc_loc.0.bias : torch.Size([32])\n",
      "fc_loc.2.weight : torch.Size([6, 32])\n",
      "fc_loc.2.bias : torch.Size([6])\n"
     ]
    }
   ],
   "source": [
    "parm={}\n",
    "for name,parameters in net.named_parameters():\n",
    "    print(name,':',parameters.size())\n",
    "    parm[name]=parameters.detach().numpy()"
   ]
  },
  {
   "cell_type": "code",
   "execution_count": 35,
   "metadata": {},
   "outputs": [
    {
     "data": {
      "text/plain": [
       "{'conv1.weight': array([[[[-0.07859516,  0.02731419, -0.21835439],\n",
       "          [ 0.11602351,  0.2302961 ,  0.22404137],\n",
       "          [ 0.01099488, -0.26542267,  0.18298915]]],\n",
       " \n",
       " \n",
       "        [[[ 0.30642024, -0.3029036 , -0.131411  ],\n",
       "          [-0.22138095, -0.27154943, -0.02016261],\n",
       "          [-0.0642134 , -0.3218437 ,  0.33297005]]],\n",
       " \n",
       " \n",
       "        [[[ 0.0123938 , -0.2911808 , -0.0535202 ],\n",
       "          [-0.2663849 ,  0.14603782,  0.0411472 ],\n",
       "          [ 0.07127294,  0.08169153, -0.26515552]]],\n",
       " \n",
       " \n",
       "        [[[ 0.04869795, -0.18256307, -0.03291139],\n",
       "          [-0.19926243, -0.01393518,  0.02555212],\n",
       "          [-0.31229264,  0.1422014 ,  0.22517982]]],\n",
       " \n",
       " \n",
       "        [[[-0.09082505, -0.28371617, -0.24747372],\n",
       "          [-0.22472918, -0.07169747,  0.20493898],\n",
       "          [-0.00885192, -0.01751754, -0.25719798]]],\n",
       " \n",
       " \n",
       "        [[[ 0.05424699, -0.23750143, -0.18641731],\n",
       "          [ 0.2109181 , -0.0621866 ,  0.23958215],\n",
       "          [-0.05023393,  0.1786327 ,  0.16166112]]],\n",
       " \n",
       " \n",
       "        [[[-0.3090316 ,  0.05291641, -0.22678678],\n",
       "          [-0.07072547, -0.14748025,  0.29923096],\n",
       "          [-0.04397082, -0.06892732, -0.01397839]]],\n",
       " \n",
       " \n",
       "        [[[ 0.03760639,  0.11568031,  0.2416574 ],\n",
       "          [-0.0552628 , -0.21781024,  0.18254295],\n",
       "          [-0.10170111, -0.27375442, -0.06940198]]],\n",
       " \n",
       " \n",
       "        [[[ 0.14786354, -0.08481078, -0.20796733],\n",
       "          [ 0.02255085, -0.08966129,  0.05662552],\n",
       "          [ 0.10343143,  0.29938117,  0.22156861]]],\n",
       " \n",
       " \n",
       "        [[[ 0.01020682, -0.18364415,  0.29056624],\n",
       "          [ 0.32378438,  0.26979724, -0.04515758],\n",
       "          [-0.04132846, -0.2913525 , -0.25451207]]]], dtype=float32),\n",
       " 'conv1.bias': array([ 0.1802294 ,  0.0110139 ,  0.02323723,  0.06456009,  0.2461808 ,\n",
       "         0.25000528, -0.3091006 ,  0.0962497 , -0.13308251,  0.23673669],\n",
       "       dtype=float32),\n",
       " 'conv2.weight': array([[[[-0.07445922,  0.0163165 , -0.05530331],\n",
       "          [-0.04340545,  0.07936572, -0.0227717 ],\n",
       "          [ 0.08613411, -0.09665313,  0.05978408]],\n",
       " \n",
       "         [[-0.0351999 ,  0.00882325, -0.08719953],\n",
       "          [-0.06654447, -0.04035571,  0.05968422],\n",
       "          [ 0.05560214, -0.06253485,  0.03325469]],\n",
       " \n",
       "         [[ 0.02136917, -0.04701858, -0.05714291],\n",
       "          [ 0.072978  ,  0.0335216 , -0.00302379],\n",
       "          [ 0.03975015,  0.08125717, -0.06259003]],\n",
       " \n",
       "         [[ 0.09294804, -0.10433223, -0.05470335],\n",
       "          [-0.05444971,  0.06214163,  0.01164866],\n",
       "          [-0.05749431,  0.00196197, -0.02029101]],\n",
       " \n",
       "         [[-0.088429  ,  0.0370995 ,  0.09868961],\n",
       "          [ 0.05018762,  0.05903312, -0.10416862],\n",
       "          [-0.07926852, -0.01937906,  0.01925809]],\n",
       " \n",
       "         [[-0.08321421,  0.0583934 ,  0.01725207],\n",
       "          [ 0.06763702,  0.02955183, -0.05977012],\n",
       "          [-0.06830356, -0.09257106, -0.04366843]],\n",
       " \n",
       "         [[ 0.03853653, -0.09867459,  0.10052919],\n",
       "          [-0.09654284, -0.03728192, -0.0476696 ],\n",
       "          [ 0.06629164, -0.07156534,  0.00766539]],\n",
       " \n",
       "         [[-0.06178137,  0.00287243, -0.02453604],\n",
       "          [ 0.0125532 , -0.07917119,  0.09422543],\n",
       "          [ 0.084778  ,  0.09617697, -0.03400546]],\n",
       " \n",
       "         [[ 0.05270747, -0.07370564, -0.08427288],\n",
       "          [-0.09823289,  0.00169389,  0.0347859 ],\n",
       "          [-0.05762812, -0.0128585 , -0.06026565]],\n",
       " \n",
       "         [[-0.04417607,  0.05502666, -0.06124748],\n",
       "          [ 0.05726779,  0.0868013 ,  0.03881971],\n",
       "          [ 0.07291865, -0.08612414,  0.03191783]]],\n",
       " \n",
       " \n",
       "        [[[ 0.02322114,  0.03562293, -0.02381346],\n",
       "          [-0.06322491, -0.09555976, -0.04981535],\n",
       "          [-0.08874191,  0.03266517,  0.02384851]],\n",
       " \n",
       "         [[-0.06508161,  0.01182397, -0.08391013],\n",
       "          [-0.10394637, -0.08073138,  0.07955737],\n",
       "          [ 0.08222983, -0.01799765,  0.08029795]],\n",
       " \n",
       "         [[ 0.0999862 ,  0.0407354 ,  0.00625316],\n",
       "          [ 0.06405344, -0.09773734,  0.0779966 ],\n",
       "          [-0.06389778,  0.004411  , -0.0067179 ]],\n",
       " \n",
       "         [[-0.02505945,  0.0565232 ,  0.01022447],\n",
       "          [ 0.07904024,  0.06158634, -0.02368038],\n",
       "          [ 0.04773461,  0.05025562, -0.03160793]],\n",
       " \n",
       "         [[ 0.01208786, -0.06797221,  0.02126599],\n",
       "          [ 0.03551321,  0.07189838,  0.10209038],\n",
       "          [ 0.03503428,  0.0693086 ,  0.100122  ]],\n",
       " \n",
       "         [[ 0.05971798, -0.09631772,  0.08531464],\n",
       "          [ 0.07883678, -0.02629588,  0.07958407],\n",
       "          [ 0.00565888, -0.04942378,  0.04995144]],\n",
       " \n",
       "         [[-0.10270099,  0.06016635, -0.04028951],\n",
       "          [ 0.01884989,  0.0511669 , -0.10416781],\n",
       "          [ 0.04220877,  0.05470062, -0.07991751]],\n",
       " \n",
       "         [[-0.02932771,  0.05701434, -0.03792488],\n",
       "          [-0.05448919,  0.10038053,  0.07559236],\n",
       "          [ 0.03455133,  0.0722819 , -0.05250037]],\n",
       " \n",
       "         [[-0.01767211, -0.09913802,  0.02994301],\n",
       "          [-0.09088166, -0.00238249,  0.03210316],\n",
       "          [ 0.01349724, -0.02174016, -0.01785073]],\n",
       " \n",
       "         [[-0.00262834, -0.06836201,  0.04424613],\n",
       "          [ 0.00956082, -0.00580366, -0.05928033],\n",
       "          [-0.00556991,  0.03273537, -0.06613241]]],\n",
       " \n",
       " \n",
       "        [[[ 0.07101322,  0.03810712,  0.03591873],\n",
       "          [-0.03785007,  0.09501482,  0.02947316],\n",
       "          [-0.04100273,  0.0302727 , -0.04952608]],\n",
       " \n",
       "         [[-0.04264232,  0.07603987,  0.10401922],\n",
       "          [-0.08521433, -0.0381975 , -0.02633409],\n",
       "          [-0.00223631,  0.01782766,  0.00817388]],\n",
       " \n",
       "         [[ 0.04870927, -0.03590281, -0.01812736],\n",
       "          [-0.04696499,  0.07863892, -0.04000484],\n",
       "          [-0.00285304, -0.09958234, -0.00463718]],\n",
       " \n",
       "         [[-0.10100509,  0.05828313, -0.03831046],\n",
       "          [-0.03704894,  0.03604815,  0.08805218],\n",
       "          [-0.02583832, -0.05108806,  0.10414387]],\n",
       " \n",
       "         [[-0.03885067,  0.00698428,  0.00353397],\n",
       "          [ 0.03668202, -0.02500386, -0.09853376],\n",
       "          [-0.0206723 ,  0.05161058,  0.08138008]],\n",
       " \n",
       "         [[-0.02379307, -0.02470852,  0.03016429],\n",
       "          [-0.0445442 ,  0.00755548,  0.09821918],\n",
       "          [-0.09051581,  0.0537911 ,  0.0453655 ]],\n",
       " \n",
       "         [[ 0.01379981, -0.01216607,  0.0062134 ],\n",
       "          [ 0.04344697,  0.04291689, -0.08781338],\n",
       "          [ 0.01756475,  0.07664742,  0.08681942]],\n",
       " \n",
       "         [[-0.05559557, -0.05406236, -0.08997369],\n",
       "          [ 0.10524126, -0.10349075, -0.01440535],\n",
       "          [ 0.08139258,  0.05678014,  0.01006592]],\n",
       " \n",
       "         [[ 0.09405807, -0.02283359,  0.09636962],\n",
       "          [-0.02486856, -0.02620289, -0.00078931],\n",
       "          [ 0.04799832,  0.01118919,  0.00746927]],\n",
       " \n",
       "         [[-0.00047076, -0.0989482 ,  0.04342521],\n",
       "          [-0.04428926, -0.01584022, -0.03209076],\n",
       "          [-0.07069028,  0.04628817, -0.00518683]]],\n",
       " \n",
       " \n",
       "        [[[ 0.00043951, -0.07858926, -0.0808829 ],\n",
       "          [-0.03651977,  0.07091566, -0.01077929],\n",
       "          [ 0.09187333, -0.06505857,  0.04898446]],\n",
       " \n",
       "         [[-0.09761953, -0.02749019,  0.00829742],\n",
       "          [-0.00390121, -0.05724171, -0.06084165],\n",
       "          [-0.01711299, -0.06360146,  0.02709419]],\n",
       " \n",
       "         [[-0.04644687, -0.09844808, -0.01070599],\n",
       "          [-0.10346134, -0.02836726, -0.08263974],\n",
       "          [ 0.03266557, -0.06400728, -0.03219155]],\n",
       " \n",
       "         [[-0.02473166, -0.07652202, -0.08205404],\n",
       "          [-0.1001066 , -0.05153241, -0.05199264],\n",
       "          [ 0.02205346,  0.0983912 ,  0.00947859]],\n",
       " \n",
       "         [[-0.02554401, -0.02662836, -0.07876951],\n",
       "          [ 0.01044612, -0.02915999,  0.05461987],\n",
       "          [ 0.10377105,  0.04198823,  0.04431369]],\n",
       " \n",
       "         [[ 0.08062816,  0.09192588, -0.05875169],\n",
       "          [-0.07685612,  0.00218331,  0.03203892],\n",
       "          [ 0.00338379,  0.07270069,  0.0117417 ]],\n",
       " \n",
       "         [[-0.00264552, -0.00493407,  0.09488801],\n",
       "          [ 0.04417909, -0.09748714,  0.10384222],\n",
       "          [ 0.07034559, -0.0793125 ,  0.04529212]],\n",
       " \n",
       "         [[ 0.00746597, -0.01960517, -0.04421756],\n",
       "          [-0.04442138, -0.07367036,  0.07309365],\n",
       "          [-0.0241456 , -0.06479411,  0.0635613 ]],\n",
       " \n",
       "         [[ 0.09112117, -0.0486054 ,  0.08308723],\n",
       "          [ 0.00463467,  0.0968546 ,  0.00710192],\n",
       "          [-0.01999674,  0.06794638,  0.03581212]],\n",
       " \n",
       "         [[ 0.02875175, -0.05392185, -0.09163901],\n",
       "          [-0.06040674,  0.02329526, -0.10391443],\n",
       "          [ 0.01144997, -0.09886278,  0.07602157]]],\n",
       " \n",
       " \n",
       "        [[[-0.00073709, -0.0277357 ,  0.03968688],\n",
       "          [-0.06343517,  0.08006006, -0.105056  ],\n",
       "          [-0.01961897,  0.07286996, -0.08580048]],\n",
       " \n",
       "         [[ 0.04127402,  0.09797905, -0.02946427],\n",
       "          [ 0.05588181, -0.08834765,  0.04856613],\n",
       "          [-0.08620062,  0.00574022, -0.03767508]],\n",
       " \n",
       "         [[ 0.0073183 ,  0.01340156,  0.07496362],\n",
       "          [ 0.02230189,  0.10044197, -0.07275987],\n",
       "          [-0.08536308,  0.0760018 , -0.06346515]],\n",
       " \n",
       "         [[ 0.03615022,  0.03883066, -0.06100412],\n",
       "          [ 0.03010834,  0.01347909, -0.01294454],\n",
       "          [-0.01111722,  0.09984771,  0.01411524]],\n",
       " \n",
       "         [[-0.02929033, -0.09573509,  0.05503557],\n",
       "          [ 0.03027826, -0.00017342,  0.10115687],\n",
       "          [ 0.0815138 , -0.06526874,  0.03815957]],\n",
       " \n",
       "         [[-0.0859164 ,  0.06484506,  0.07792618],\n",
       "          [ 0.02722991,  0.00977376,  0.0156958 ],\n",
       "          [ 0.02973921,  0.04297785,  0.06495427]],\n",
       " \n",
       "         [[ 0.00039262,  0.00406538,  0.00323155],\n",
       "          [ 0.03489722,  0.02421581,  0.0547807 ],\n",
       "          [ 0.07259574, -0.00494351,  0.06909812]],\n",
       " \n",
       "         [[ 0.07194059, -0.00961293,  0.05689961],\n",
       "          [-0.02090885, -0.07125156,  0.02234418],\n",
       "          [ 0.00814433, -0.0160958 ,  0.00868957]],\n",
       " \n",
       "         [[-0.01446393,  0.09957985, -0.06724174],\n",
       "          [-0.01659703,  0.07990975,  0.06230063],\n",
       "          [-0.0760598 ,  0.07045967, -0.0064544 ]],\n",
       " \n",
       "         [[-0.06623699,  0.04773141, -0.0058942 ],\n",
       "          [ 0.03891667, -0.06980677,  0.02977886],\n",
       "          [-0.06542892, -0.03688427, -0.02474008]]],\n",
       " \n",
       " \n",
       "        [[[ 0.04575453,  0.07127012, -0.03236955],\n",
       "          [-0.04414189, -0.0404987 , -0.06615327],\n",
       "          [-0.01992587, -0.04535288,  0.04285301]],\n",
       " \n",
       "         [[-0.07054709, -0.09033165, -0.01636989],\n",
       "          [ 0.01146503, -0.06919686,  0.060245  ],\n",
       "          [-0.01412584, -0.0701737 , -0.016444  ]],\n",
       " \n",
       "         [[-0.08571339, -0.10057243,  0.09609478],\n",
       "          [ 0.10149021,  0.09502286,  0.09076682],\n",
       "          [ 0.05828217,  0.01503334, -0.0729945 ]],\n",
       " \n",
       "         [[ 0.10317526,  0.01600334,  0.03785131],\n",
       "          [-0.01946408,  0.07716852,  0.00396818],\n",
       "          [ 0.0844951 , -0.01139402,  0.01656558]],\n",
       " \n",
       "         [[-0.02756623,  0.06711037,  0.08008227],\n",
       "          [ 0.00903185, -0.0383227 ,  0.05241355],\n",
       "          [ 0.02215851, -0.08646026,  0.0497612 ]],\n",
       " \n",
       "         [[ 0.01501246, -0.07416438,  0.08947311],\n",
       "          [ 0.06731426,  0.07113159, -0.05536347],\n",
       "          [ 0.05879024, -0.08842397,  0.07440252]],\n",
       " \n",
       "         [[ 0.03257292,  0.09985048, -0.04618784],\n",
       "          [ 0.04317037,  0.05748827, -0.10468327],\n",
       "          [ 0.01765502,  0.10413384,  0.08295055]],\n",
       " \n",
       "         [[ 0.09055571,  0.08052602, -0.02098572],\n",
       "          [-0.08866475, -0.08444455,  0.0804477 ],\n",
       "          [-0.02547223, -0.02775032,  0.08290868]],\n",
       " \n",
       "         [[ 0.0799296 , -0.02764746, -0.00581537],\n",
       "          [ 0.07584871,  0.08429412, -0.02952604],\n",
       "          [-0.04197554, -0.04634837, -0.0266631 ]],\n",
       " \n",
       "         [[-0.09361077, -0.03689895,  0.07725931],\n",
       "          [-0.04247069, -0.06383944, -0.00014137],\n",
       "          [ 0.08943935, -0.00130644,  0.02455875]]],\n",
       " \n",
       " \n",
       "        [[[ 0.07927781,  0.09811118,  0.08728423],\n",
       "          [-0.08418933, -0.02968984,  0.05416318],\n",
       "          [-0.03633722,  0.07042115,  0.05555997]],\n",
       " \n",
       "         [[ 0.05880261,  0.0631393 , -0.02025417],\n",
       "          [-0.06604083, -0.00548543,  0.02040636],\n",
       "          [-0.06169454,  0.05908535, -0.03258979]],\n",
       " \n",
       "         [[ 0.0584512 , -0.01560509, -0.06768931],\n",
       "          [ 0.10376743,  0.03372315, -0.06562817],\n",
       "          [ 0.07098784,  0.05443428, -0.0691206 ]],\n",
       " \n",
       "         [[-0.02368791,  0.08586525, -0.03835294],\n",
       "          [ 0.10308541,  0.09345425, -0.07496871],\n",
       "          [ 0.0389839 , -0.07550169,  0.06360696]],\n",
       " \n",
       "         [[-0.07049403,  0.06505952,  0.09945429],\n",
       "          [-0.05099944, -0.05263572, -0.03527968],\n",
       "          [-0.03160171,  0.03237478, -0.03838999]],\n",
       " \n",
       "         [[-0.09462892,  0.05412356,  0.04271025],\n",
       "          [-0.02936291,  0.02865403,  0.03845709],\n",
       "          [-0.08953685, -0.03015225,  0.09370329]],\n",
       " \n",
       "         [[ 0.03174738, -0.05968123, -0.0654331 ],\n",
       "          [ 0.03628091,  0.04821333, -0.09754445],\n",
       "          [-0.02762102, -0.00066262,  0.08064743]],\n",
       " \n",
       "         [[-0.00293737, -0.0254826 , -0.01657977],\n",
       "          [-0.05082365,  0.09609998, -0.10517405],\n",
       "          [ 0.01122519, -0.03784949,  0.06318801]],\n",
       " \n",
       "         [[ 0.06938266, -0.00607277, -0.06997278],\n",
       "          [ 0.00207014, -0.05599896,  0.05745902],\n",
       "          [ 0.07667368,  0.03471739, -0.04529099]],\n",
       " \n",
       "         [[-0.09556942,  0.03579549, -0.01135492],\n",
       "          [ 0.09284111, -0.00693464,  0.07326517],\n",
       "          [-0.06204502,  0.01681238, -0.0586556 ]]],\n",
       " \n",
       " \n",
       "        [[[ 0.09745289, -0.08704271,  0.08691751],\n",
       "          [-0.08186355, -0.07804997,  0.03498399],\n",
       "          [ 0.03970524, -0.01618278,  0.09110291]],\n",
       " \n",
       "         [[ 0.05876998,  0.06787796, -0.02609625],\n",
       "          [ 0.08461868,  0.06334995, -0.064164  ],\n",
       "          [-0.10537284, -0.00143943, -0.01694028]],\n",
       " \n",
       "         [[ 0.01931005, -0.07488976, -0.07078112],\n",
       "          [-0.07738352, -0.00446638, -0.09884096],\n",
       "          [-0.03727552, -0.09349205,  0.01203388]],\n",
       " \n",
       "         [[ 0.03356565,  0.05733367,  0.05118542],\n",
       "          [-0.03740989,  0.02251215, -0.04797417],\n",
       "          [ 0.06609518, -0.06493659,  0.02383087]],\n",
       " \n",
       "         [[-0.09278793,  0.03727774,  0.02411199],\n",
       "          [ 0.0533733 , -0.04857734,  0.01926519],\n",
       "          [ 0.07059155, -0.03810823, -0.02432806]],\n",
       " \n",
       "         [[-0.05349328,  0.01559925,  0.02998567],\n",
       "          [-0.05001779,  0.03949044, -0.07948139],\n",
       "          [-0.06779087,  0.05955418, -0.06706673]],\n",
       " \n",
       "         [[ 0.08297483,  0.05802824, -0.07584843],\n",
       "          [-0.0084473 ,  0.06282807,  0.0424748 ],\n",
       "          [ 0.07902657, -0.06987847, -0.0464027 ]],\n",
       " \n",
       "         [[ 0.00665324, -0.00854044, -0.09563389],\n",
       "          [-0.10443595, -0.08572945,  0.01366501],\n",
       "          [ 0.0974179 , -0.03135455, -0.01310251]],\n",
       " \n",
       "         [[-0.09279127,  0.02976689,  0.09252421],\n",
       "          [ 0.0169765 ,  0.04341403, -0.04428953],\n",
       "          [-0.07329753, -0.08090787,  0.04967282]],\n",
       " \n",
       "         [[ 0.04295958, -0.06413136, -0.01656211],\n",
       "          [-0.02088309, -0.0033277 ,  0.05494029],\n",
       "          [-0.05577862, -0.09481994, -0.0161047 ]]],\n",
       " \n",
       " \n",
       "        [[[ 0.08609218,  0.03558619,  0.06760248],\n",
       "          [ 0.05406562, -0.05355997, -0.06683205],\n",
       "          [-0.04777262,  0.09129446,  0.06623612]],\n",
       " \n",
       "         [[-0.07227749,  0.03700001,  0.10402713],\n",
       "          [ 0.03205777,  0.08245511,  0.01253325],\n",
       "          [ 0.04647673,  0.01750933, -0.03862902]],\n",
       " \n",
       "         [[-0.05492846,  0.10259593,  0.09140032],\n",
       "          [-0.01205714, -0.04295072,  0.09045746],\n",
       "          [ 0.08385205, -0.01871165, -0.07092745]],\n",
       " \n",
       "         [[ 0.08100393, -0.02675633, -0.02459534],\n",
       "          [-0.03009225,  0.06051358, -0.01374038],\n",
       "          [ 0.0070134 , -0.01203622,  0.00860938]],\n",
       " \n",
       "         [[-0.01953871, -0.00499198,  0.10345521],\n",
       "          [ 0.01184333, -0.08282661,  0.0113247 ],\n",
       "          [ 0.0826752 ,  0.01044466,  0.00924142]],\n",
       " \n",
       "         [[ 0.05036681, -0.01246388,  0.07769575],\n",
       "          [ 0.02043735, -0.05529517,  0.03603692],\n",
       "          [-0.10023881, -0.00854723,  0.07108683]],\n",
       " \n",
       "         [[ 0.03293047, -0.00545676, -0.04378756],\n",
       "          [-0.08488023,  0.0992659 , -0.07457315],\n",
       "          [-0.07923348, -0.09276915,  0.04469394]],\n",
       " \n",
       "         [[ 0.08442625,  0.01598958,  0.09814342],\n",
       "          [-0.03674138, -0.00151756,  0.08501368],\n",
       "          [-0.08271027,  0.0972481 , -0.06848453]],\n",
       " \n",
       "         [[-0.02721248,  0.04609064,  0.00143474],\n",
       "          [-0.07848236,  0.07755334,  0.02171633],\n",
       "          [ 0.03652447, -0.02836175, -0.08937376]],\n",
       " \n",
       "         [[-0.03567231,  0.06055575,  0.00372689],\n",
       "          [ 0.04215755,  0.05295882, -0.02306554],\n",
       "          [-0.07558925,  0.00099743,  0.03311209]]],\n",
       " \n",
       " \n",
       "        [[[-0.02830551,  0.06373958, -0.04267171],\n",
       "          [-0.07338779, -0.0097151 , -0.00752965],\n",
       "          [ 0.01358883,  0.08793131, -0.01569309]],\n",
       " \n",
       "         [[ 0.05082209, -0.03543981, -0.1009165 ],\n",
       "          [-0.03762883,  0.08927237, -0.09122396],\n",
       "          [-0.05842762,  0.01135241, -0.05075412]],\n",
       " \n",
       "         [[-0.07369363,  0.09125269, -0.04172546],\n",
       "          [-0.07396108, -0.10039119,  0.07272329],\n",
       "          [ 0.07038961,  0.01951464,  0.03441011]],\n",
       " \n",
       "         [[-0.00549516,  0.00276242, -0.00288784],\n",
       "          [ 0.01885606,  0.01679878, -0.01889651],\n",
       "          [-0.09998694,  0.02647098, -0.06349746]],\n",
       " \n",
       "         [[-0.02577541, -0.04017896,  0.0187761 ],\n",
       "          [-0.04539629,  0.09686961,  0.06622707],\n",
       "          [-0.06511377,  0.00393948, -0.05886514]],\n",
       " \n",
       "         [[ 0.0266097 ,  0.02085217,  0.10508255],\n",
       "          [ 0.01163171,  0.07132698, -0.06356522],\n",
       "          [-0.08519202, -0.02213174,  0.02511189]],\n",
       " \n",
       "         [[-0.06649601,  0.0696255 ,  0.06031529],\n",
       "          [ 0.07454655,  0.03994075, -0.06661747],\n",
       "          [-0.00929307,  0.04505182,  0.08846372]],\n",
       " \n",
       "         [[ 0.08286095, -0.08631492, -0.10303458],\n",
       "          [ 0.04555935,  0.01409822,  0.0952085 ],\n",
       "          [ 0.02698418,  0.03061598,  0.01243037]],\n",
       " \n",
       "         [[-0.05020473,  0.08315756, -0.03993676],\n",
       "          [ 0.07183804,  0.02351474, -0.0344994 ],\n",
       "          [-0.07593024,  0.08295953, -0.01658973]],\n",
       " \n",
       "         [[-0.00182229,  0.05645888, -0.04670176],\n",
       "          [-0.00882389, -0.02704361,  0.07004125],\n",
       "          [-0.02072676, -0.05194704,  0.08861948]]]], dtype=float32),\n",
       " 'conv2.bias': array([ 0.06030164, -0.03573267,  0.06151731,  0.0234391 ,  0.0159175 ,\n",
       "        -0.0627245 ,  0.07501162,  0.04810495,  0.03728316,  0.00083309],\n",
       "       dtype=float32),\n",
       " 'conv3.weight': array([[[[-2.63774395e-03,  5.49646243e-02, -7.47575015e-02],\n",
       "          [-2.89089978e-04,  2.55077705e-02, -7.42332488e-02],\n",
       "          [-1.96524262e-02,  5.28902635e-02,  2.07344815e-02]],\n",
       " \n",
       "         [[-1.43739283e-02,  6.58678189e-02,  7.20256642e-02],\n",
       "          [-9.86784846e-02, -6.09658509e-02, -3.48390937e-02],\n",
       "          [ 4.47202995e-02, -8.53145421e-02,  1.95272565e-02]],\n",
       " \n",
       "         [[ 4.33903113e-02, -2.00790837e-02,  7.66418651e-02],\n",
       "          [ 7.90578872e-03,  4.64969054e-02,  9.93066281e-03],\n",
       "          [-4.65540513e-02,  4.31278273e-02,  4.87771705e-02]],\n",
       " \n",
       "         [[ 1.43204182e-02, -9.37178731e-04,  8.47049281e-02],\n",
       "          [ 5.75667545e-02, -3.30608711e-02,  7.28573278e-02],\n",
       "          [-3.00438553e-02, -7.94783086e-02,  1.17877126e-02]],\n",
       " \n",
       "         [[ 6.24709949e-02, -4.12493497e-02,  9.84479561e-02],\n",
       "          [ 3.90639082e-02,  7.84573480e-02,  6.35802969e-02],\n",
       "          [ 4.28979918e-02,  6.45862296e-02, -4.73262668e-02]],\n",
       " \n",
       "         [[ 6.37684837e-02, -6.46681935e-02,  1.76392794e-02],\n",
       "          [-9.85991433e-02, -3.59071195e-02, -9.02930498e-02],\n",
       "          [ 1.80184096e-03,  3.96037623e-02, -3.99241522e-02]],\n",
       " \n",
       "         [[ 5.37647977e-02, -5.74104451e-02, -1.04161926e-01],\n",
       "          [ 8.69001448e-03, -7.77984411e-02, -7.94034451e-03],\n",
       "          [ 7.35293999e-02,  7.57378563e-02, -3.32543701e-02]],\n",
       " \n",
       "         [[-6.10847473e-02, -1.52086318e-02, -6.97266459e-02],\n",
       "          [-6.79114014e-02, -1.73943341e-02,  6.34689853e-02],\n",
       "          [ 7.56368265e-02, -7.95004889e-02, -4.03930843e-02]],\n",
       " \n",
       "         [[ 3.86328474e-02, -1.96541995e-02, -6.48609698e-02],\n",
       "          [ 8.43217894e-02,  4.31422368e-02,  5.35233691e-02],\n",
       "          [ 2.49006078e-02, -9.09410864e-02, -8.85287672e-02]],\n",
       " \n",
       "         [[ 1.38079375e-02, -3.88751775e-02,  9.74624828e-02],\n",
       "          [ 5.82800284e-02, -1.83316022e-02,  3.45169678e-02],\n",
       "          [ 2.02245936e-02, -6.67573363e-02,  8.53144303e-02]]],\n",
       " \n",
       " \n",
       "        [[[ 3.18842158e-02, -7.77003169e-02, -5.20642102e-03],\n",
       "          [-3.12926322e-02,  5.65249845e-02,  9.29895416e-02],\n",
       "          [-3.86959240e-02,  4.08747718e-02,  8.79819691e-03]],\n",
       " \n",
       "         [[-5.44313900e-02,  4.81069088e-04, -3.53623182e-02],\n",
       "          [ 4.48991358e-03,  2.96847448e-02, -6.71323612e-02],\n",
       "          [-5.26202619e-02,  3.67409512e-02,  5.88215366e-02]],\n",
       " \n",
       "         [[ 6.72037676e-02, -5.65657616e-02,  2.11446062e-02],\n",
       "          [ 7.40339607e-03, -4.52061743e-02,  6.91617802e-02],\n",
       "          [-9.00833383e-02, -4.20874134e-02,  1.42225698e-02]],\n",
       " \n",
       "         [[ 2.90162191e-02,  4.47850451e-02, -3.73415127e-02],\n",
       "          [-5.60870692e-02,  6.57124147e-02,  9.73855630e-02],\n",
       "          [ 3.47731337e-02,  3.39384601e-02,  3.95123884e-02]],\n",
       " \n",
       "         [[-2.58299932e-02,  3.69963124e-02,  2.24994868e-03],\n",
       "          [-3.14739570e-02,  9.95331332e-02,  4.32705060e-02],\n",
       "          [-9.56578851e-02, -6.75321668e-02, -1.01707682e-01]],\n",
       " \n",
       "         [[-6.42268062e-02, -3.66516635e-02, -5.99314868e-02],\n",
       "          [ 1.14324316e-02,  4.90446761e-02, -4.56166826e-02],\n",
       "          [ 7.94604793e-02, -9.68074799e-02,  1.93594396e-02]],\n",
       " \n",
       "         [[ 9.14177075e-02,  9.60930511e-02, -2.47260779e-02],\n",
       "          [ 4.73124906e-02,  5.00424951e-03, -8.41607153e-03],\n",
       "          [ 4.83345315e-02, -4.10678908e-02,  1.80808157e-02]],\n",
       " \n",
       "         [[ 4.96969596e-02,  5.09694293e-02,  2.36073062e-02],\n",
       "          [-5.74494340e-02, -7.86384642e-02, -2.06132233e-03],\n",
       "          [-5.34858406e-02, -6.29223511e-02, -5.41783646e-02]],\n",
       " \n",
       "         [[-7.42707402e-02,  5.70290908e-02, -2.87533551e-02],\n",
       "          [-2.40619406e-02,  7.25229159e-02,  3.48638669e-02],\n",
       "          [-5.24970032e-02, -5.48953041e-02, -1.03472836e-01]],\n",
       " \n",
       "         [[ 2.46289894e-02,  9.81489494e-02,  1.38628259e-02],\n",
       "          [-9.20768827e-03,  1.01549245e-01,  9.41277221e-02],\n",
       "          [ 3.11024413e-02, -7.66376555e-02,  3.52417156e-02]]],\n",
       " \n",
       " \n",
       "        [[[ 7.03309700e-02, -3.89667079e-02,  7.27956370e-02],\n",
       "          [-6.97687566e-02,  9.82761160e-02, -4.50024679e-02],\n",
       "          [-6.59340471e-02,  3.01743075e-02,  9.37419608e-02]],\n",
       " \n",
       "         [[-1.59214586e-02,  5.48919067e-02,  2.04618797e-02],\n",
       "          [ 4.11395505e-02,  5.09762764e-03,  3.93903181e-02],\n",
       "          [-8.52932706e-02,  1.00751825e-01,  9.57950950e-04]],\n",
       " \n",
       "         [[-5.31344265e-02,  8.30433443e-02,  4.08932790e-02],\n",
       "          [ 1.60977244e-03, -8.65627229e-02,  4.31306735e-02],\n",
       "          [ 2.21526548e-02,  9.45605338e-03,  1.79618597e-03]],\n",
       " \n",
       "         [[ 2.31661722e-02, -4.16508764e-02,  9.17028263e-02],\n",
       "          [ 6.25908747e-02, -2.44911984e-02,  6.17696717e-02],\n",
       "          [ 6.16201535e-02,  6.17760420e-03, -4.98028435e-02]],\n",
       " \n",
       "         [[-9.22780335e-02, -9.37432796e-02,  7.14014843e-02],\n",
       "          [-7.22015798e-02, -6.52003512e-02,  8.21370110e-02],\n",
       "          [ 7.29099736e-02, -5.37555665e-03,  3.83022353e-02]],\n",
       " \n",
       "         [[-6.48693815e-02, -3.51306945e-02,  8.67404863e-02],\n",
       "          [-3.30481157e-02,  6.16412982e-02,  9.31191966e-02],\n",
       "          [-9.14983153e-02,  8.27115104e-02, -9.18615162e-02]],\n",
       " \n",
       "         [[ 6.69648871e-02, -8.30545276e-02,  7.82149062e-02],\n",
       "          [ 4.97953072e-02,  9.01605710e-02,  7.10798129e-02],\n",
       "          [-8.76384377e-02,  5.88260069e-02, -3.52706537e-02]],\n",
       " \n",
       "         [[-9.16584432e-02,  3.55229005e-02, -8.18869919e-02],\n",
       "          [ 2.56307647e-02,  5.96292391e-02,  2.54758224e-02],\n",
       "          [ 2.95999423e-02, -2.57653072e-02, -7.83450156e-02]],\n",
       " \n",
       "         [[-9.24741775e-02, -1.91355795e-02, -4.41612788e-02],\n",
       "          [-5.90323582e-02, -1.86761469e-03,  6.96631446e-02],\n",
       "          [ 9.50153545e-02, -1.95517987e-02,  3.92155275e-02]],\n",
       " \n",
       "         [[-4.67170440e-02, -9.94617045e-02,  6.13546893e-02],\n",
       "          [ 5.11465147e-02,  3.11888680e-02,  1.13858134e-02],\n",
       "          [ 6.80711940e-02, -9.30242687e-02, -5.41686788e-02]]],\n",
       " \n",
       " \n",
       "        [[[-1.00784667e-01,  4.92863581e-02, -3.57217491e-02],\n",
       "          [ 3.75696644e-02,  5.29660955e-02, -7.32928365e-02],\n",
       "          [-8.26646388e-02, -6.11791909e-02, -3.03722620e-02]],\n",
       " \n",
       "         [[-8.54969174e-02,  6.69848397e-02, -6.75159544e-02],\n",
       "          [ 8.16268250e-02,  1.17344111e-02,  8.54947492e-02],\n",
       "          [-3.43945026e-02,  2.36986950e-02,  9.74298194e-02]],\n",
       " \n",
       "         [[ 1.00853257e-01,  5.04875109e-02,  9.84414145e-02],\n",
       "          [-4.16202843e-02,  4.33564112e-02,  2.14869529e-03],\n",
       "          [ 8.05012956e-02,  9.70175937e-02,  6.41501471e-02]],\n",
       " \n",
       "         [[-4.65906560e-02,  1.00316219e-01,  7.09195361e-02],\n",
       "          [-1.04291737e-03,  8.12902078e-02,  8.06041285e-02],\n",
       "          [ 1.00906722e-01, -7.93310255e-02, -1.84039325e-02]],\n",
       " \n",
       "         [[ 9.37725380e-02,  2.21471414e-02, -6.26856983e-02],\n",
       "          [-9.71908122e-02, -8.41620713e-02, -4.88157123e-02],\n",
       "          [-6.07338622e-02,  4.13180813e-02, -2.06978321e-02]],\n",
       " \n",
       "         [[ 7.63873234e-02,  4.87156734e-02,  1.53520703e-02],\n",
       "          [ 6.94553182e-02,  1.07691959e-02,  1.00011863e-01],\n",
       "          [-9.52250436e-02,  3.64141688e-02,  4.77302149e-02]],\n",
       " \n",
       "         [[-6.45275861e-02,  6.79952279e-02,  7.18426183e-02],\n",
       "          [ 8.96801725e-02, -8.26330334e-02, -3.59465182e-03],\n",
       "          [-2.54726708e-02, -7.88717866e-02, -1.08556375e-02]],\n",
       " \n",
       "         [[-8.19460526e-02,  9.99957547e-02,  7.01968595e-02],\n",
       "          [ 3.05745527e-02,  2.22947970e-02,  5.77978790e-03],\n",
       "          [ 1.77790597e-02, -9.37201679e-02,  5.79194054e-02]],\n",
       " \n",
       "         [[-1.90097243e-02,  2.34672800e-02,  6.31345585e-02],\n",
       "          [ 7.96064660e-02, -5.17180152e-02,  3.72955948e-03],\n",
       "          [-2.19891444e-02,  2.01013908e-02,  1.02117725e-01]],\n",
       " \n",
       "         [[-3.94385755e-02,  1.03599854e-01,  6.82194754e-02],\n",
       "          [-2.53594816e-02,  2.97735557e-02, -2.13324204e-02],\n",
       "          [-3.40593606e-02,  7.85619244e-02,  7.76151493e-02]]],\n",
       " \n",
       " \n",
       "        [[[-8.65972042e-02,  3.99305895e-02, -2.94592381e-02],\n",
       "          [ 1.65559947e-02, -1.02768660e-01, -9.11411121e-02],\n",
       "          [ 1.00152798e-01,  5.62569425e-02, -4.84743528e-02]],\n",
       " \n",
       "         [[ 4.19630110e-03,  9.97480527e-02,  4.47433814e-02],\n",
       "          [ 1.03615157e-01, -3.82365063e-02,  1.02504663e-01],\n",
       "          [-9.14154723e-02, -3.43201384e-02, -1.00810438e-01]],\n",
       " \n",
       "         [[ 9.88189802e-02,  2.88445577e-02, -1.03432924e-01],\n",
       "          [-6.24675341e-02,  2.17440203e-02, -2.64373571e-02],\n",
       "          [-1.76204145e-02, -5.33676744e-02, -1.01252161e-01]],\n",
       " \n",
       "         [[-8.38098079e-02,  2.84037963e-02, -3.10329124e-02],\n",
       "          [-8.54256973e-02,  4.13222536e-02, -3.81605998e-02],\n",
       "          [-1.33847594e-02,  9.82625261e-02,  9.39274952e-02]],\n",
       " \n",
       "         [[ 1.02993809e-01, -5.70522435e-02, -3.59731019e-02],\n",
       "          [-1.02854662e-01, -5.99627495e-02,  6.61721453e-02],\n",
       "          [-5.41981831e-02, -9.53801423e-02, -1.00842960e-01]],\n",
       " \n",
       "         [[ 4.28272411e-02, -2.92215943e-02,  9.22549590e-02],\n",
       "          [-1.04306698e-01, -1.89030319e-02,  4.45940122e-02],\n",
       "          [-2.06262097e-02,  9.51601565e-03,  2.83902362e-02]],\n",
       " \n",
       "         [[-8.80390778e-02,  3.02790329e-02,  4.16352227e-02],\n",
       "          [-1.09256059e-02, -2.57664323e-02,  4.55547497e-02],\n",
       "          [-4.64309752e-03,  8.36498812e-02,  9.83310863e-02]],\n",
       " \n",
       "         [[ 7.53627941e-02, -3.21316123e-02, -7.91983679e-02],\n",
       "          [-8.92508402e-02,  2.42447183e-02,  5.67208305e-02],\n",
       "          [ 7.50833973e-02, -3.69151160e-02,  1.00912265e-01]],\n",
       " \n",
       "         [[-6.73113987e-02, -1.03579655e-01,  2.07812563e-02],\n",
       "          [ 5.42107448e-02, -5.01823165e-02, -2.12981477e-02],\n",
       "          [-9.15544257e-02, -5.13758510e-02, -8.17093477e-02]],\n",
       " \n",
       "         [[-8.39854255e-02,  6.80559501e-02, -3.17811519e-02],\n",
       "          [ 3.98954675e-02,  4.81428429e-02,  2.51315311e-02],\n",
       "          [-8.40719119e-02, -1.73867270e-02,  2.89898142e-02]]],\n",
       " \n",
       " \n",
       "        [[[ 8.71390179e-02,  9.96098742e-02, -5.42598069e-02],\n",
       "          [-1.02643661e-01,  9.71895084e-02, -9.67180952e-02],\n",
       "          [ 5.66707477e-02,  3.30667272e-02, -9.43651348e-02]],\n",
       " \n",
       "         [[-5.60506508e-02, -7.33430684e-03, -8.03858116e-02],\n",
       "          [-3.36339846e-02, -4.92493212e-02, -8.61367583e-03],\n",
       "          [ 1.03140436e-01,  8.19580182e-02, -7.05569983e-04]],\n",
       " \n",
       "         [[-7.54784271e-02, -6.42039925e-02,  7.43440613e-02],\n",
       "          [-1.82876214e-02, -7.01781884e-02, -3.88720334e-02],\n",
       "          [-5.49668446e-02,  5.33983484e-02, -1.03745915e-01]],\n",
       " \n",
       "         [[-3.98782790e-02, -6.08674437e-03,  3.16619501e-02],\n",
       "          [ 7.78727978e-03, -1.76692605e-02,  7.51119927e-02],\n",
       "          [ 1.02309279e-01, -5.54660819e-02, -1.54803693e-02]],\n",
       " \n",
       "         [[ 1.18816942e-02, -8.04250389e-02, -7.17447698e-02],\n",
       "          [ 7.58115277e-02,  7.97659680e-02,  9.39362124e-02],\n",
       "          [ 9.99172702e-02,  3.58390808e-03,  3.92214879e-02]],\n",
       " \n",
       "         [[-9.14724320e-02, -2.71774828e-02, -3.84710878e-02],\n",
       "          [-9.38319936e-02, -6.99864328e-03, -7.45476410e-02],\n",
       "          [ 2.59367898e-02,  7.57497028e-02,  9.29814801e-02]],\n",
       " \n",
       "         [[-8.68053809e-02,  9.66666266e-02, -9.63163674e-02],\n",
       "          [ 1.04159586e-01,  5.81244752e-02, -3.00667435e-03],\n",
       "          [-4.19182777e-02, -3.00081819e-03,  5.98616675e-02]],\n",
       " \n",
       "         [[-2.90025696e-02, -8.07016864e-02, -1.03275262e-01],\n",
       "          [-1.02174051e-01,  7.02803209e-02,  6.28280640e-03],\n",
       "          [ 6.27912655e-02,  3.31275389e-02, -8.48647356e-02]],\n",
       " \n",
       "         [[-4.75534201e-02, -2.04101950e-03,  7.24156275e-02],\n",
       "          [-9.09314603e-02,  3.78184095e-02,  9.82786343e-02],\n",
       "          [-3.12344506e-02, -9.27358940e-02, -9.90570486e-02]],\n",
       " \n",
       "         [[ 4.96137664e-02, -4.29582596e-02, -2.14836076e-02],\n",
       "          [-1.97927356e-02, -7.72145241e-02,  3.01933512e-02],\n",
       "          [ 6.07056916e-03, -8.59292969e-02, -6.83790594e-02]]],\n",
       " \n",
       " \n",
       "        [[[-8.18750262e-02, -6.61089793e-02,  4.11060080e-02],\n",
       "          [-3.42737064e-02,  3.42836156e-02,  9.49316546e-02],\n",
       "          [ 6.67358935e-03, -2.72919536e-02, -3.70787084e-03]],\n",
       " \n",
       "         [[ 9.44835171e-02, -8.57382268e-03, -2.39791721e-02],\n",
       "          [ 7.96815827e-02,  1.04152240e-01,  1.42001808e-02],\n",
       "          [ 9.89665836e-03, -7.34702200e-02,  8.48137587e-03]],\n",
       " \n",
       "         [[ 4.86767069e-02,  1.49951130e-03, -1.95604712e-02],\n",
       "          [ 8.61784592e-02, -5.12180366e-02,  8.54855701e-02],\n",
       "          [ 3.07132825e-02,  5.25804088e-02,  6.01455346e-02]],\n",
       " \n",
       "         [[-9.76388678e-02, -3.61499116e-02, -9.47922021e-02],\n",
       "          [-6.16039895e-02,  4.08154503e-02, -4.44130599e-02],\n",
       "          [-1.16172358e-02, -8.60236436e-02,  1.38325021e-02]],\n",
       " \n",
       "         [[ 1.27178952e-02, -7.75672197e-02, -1.58324242e-02],\n",
       "          [-7.97929317e-02, -4.40383628e-02,  8.09190944e-02],\n",
       "          [ 6.68117031e-02, -1.36710703e-03, -1.00739129e-01]],\n",
       " \n",
       "         [[-4.94484641e-02, -7.04107806e-02,  4.25229743e-02],\n",
       "          [ 3.59781459e-02,  5.64546362e-02,  1.28300563e-02],\n",
       "          [ 4.47139665e-02,  8.39445218e-02,  3.10140178e-02]],\n",
       " \n",
       "         [[-2.28264853e-02, -1.54993162e-02,  8.23116824e-02],\n",
       "          [-8.74951780e-02,  4.30750474e-02,  3.79445031e-02],\n",
       "          [ 8.78917053e-02, -9.56836939e-02, -1.78620666e-02]],\n",
       " \n",
       "         [[-2.19767541e-02, -6.09461218e-03,  3.78278568e-02],\n",
       "          [-8.22375417e-02, -3.90499905e-02, -7.97604993e-02],\n",
       "          [ 4.16042432e-02, -1.92621425e-02, -9.97005552e-02]],\n",
       " \n",
       "         [[-3.26444954e-02,  7.71289319e-03,  6.86348453e-02],\n",
       "          [ 1.31363645e-02,  1.39936507e-02,  8.83517936e-02],\n",
       "          [-6.27429783e-02,  6.25875369e-02,  2.24066004e-02]],\n",
       " \n",
       "         [[ 4.11733165e-02,  6.19849935e-02, -8.98442119e-02],\n",
       "          [-7.81170875e-02, -7.80732930e-02,  3.82586047e-02],\n",
       "          [-2.26813927e-02,  8.04043040e-02, -5.41341975e-02]]],\n",
       " \n",
       " \n",
       "        [[[-1.89439431e-02,  3.73582020e-02,  5.68764135e-02],\n",
       "          [ 5.81640080e-02, -3.06511968e-02, -1.14405230e-02],\n",
       "          [-2.18450725e-02,  9.52932164e-02,  4.94474843e-02]],\n",
       " \n",
       "         [[ 5.79515621e-02,  5.72814420e-02,  1.17135867e-02],\n",
       "          [ 3.54682282e-02,  4.09334973e-02, -2.31589749e-02],\n",
       "          [ 8.49147961e-02, -4.10021991e-02, -9.65077356e-02]],\n",
       " \n",
       "         [[-4.71213721e-02, -1.33865178e-02,  7.49168620e-02],\n",
       "          [ 5.49759194e-02, -7.31333047e-02,  1.14152506e-02],\n",
       "          [-7.17846602e-02,  1.73785537e-03,  5.71968183e-02]],\n",
       " \n",
       "         [[ 5.72532490e-02,  5.23133501e-02, -7.78406858e-02],\n",
       "          [ 8.02777708e-04,  1.68699026e-02,  3.57087627e-02],\n",
       "          [-5.55051118e-03,  1.04159333e-01,  3.40556279e-02]],\n",
       " \n",
       "         [[-3.67505550e-02,  4.79928479e-02, -9.04977545e-02],\n",
       "          [-1.19169280e-02, -8.06950927e-02,  2.37383693e-03],\n",
       "          [-1.04964808e-01,  4.68504801e-02, -1.25634000e-02]],\n",
       " \n",
       "         [[-5.62523566e-02,  5.82933426e-05,  7.52930865e-02],\n",
       "          [ 4.87073436e-02,  2.63874978e-03,  1.02158256e-01],\n",
       "          [ 1.04764961e-01, -5.67727573e-02,  2.47566476e-02]],\n",
       " \n",
       "         [[-1.27898231e-02,  4.83166501e-02, -6.96085393e-03],\n",
       "          [ 4.20975760e-02,  6.70646057e-02,  4.31207642e-02],\n",
       "          [ 3.67680266e-02, -7.82605261e-02, -7.13982135e-02]],\n",
       " \n",
       "         [[ 6.59619048e-02,  4.89331037e-03, -7.78137371e-02],\n",
       "          [-5.02955839e-02,  4.66503724e-02,  4.69949767e-02],\n",
       "          [ 1.00956045e-01,  1.47059560e-04, -1.35757774e-03]],\n",
       " \n",
       "         [[ 1.03420667e-01, -6.77281916e-02,  7.27875158e-02],\n",
       "          [ 3.52984890e-02, -2.65210345e-02,  3.96366939e-02],\n",
       "          [-5.11934943e-02,  1.30248815e-03,  5.42139187e-02]],\n",
       " \n",
       "         [[ 2.78986469e-02, -9.17739421e-03,  7.58704469e-02],\n",
       "          [ 5.70234731e-02,  1.05708092e-03, -1.82382017e-03],\n",
       "          [ 4.98070791e-02,  9.09060761e-02,  4.62036580e-03]]],\n",
       " \n",
       " \n",
       "        [[[ 9.59906206e-02, -1.02121875e-01, -5.47415763e-02],\n",
       "          [-9.40771773e-02,  9.75708291e-02,  7.62094632e-02],\n",
       "          [ 9.31332633e-02,  4.71841022e-02, -3.04836258e-02]],\n",
       " \n",
       "         [[ 6.53054342e-02, -6.51879609e-02,  7.86823109e-02],\n",
       "          [-3.70019749e-02,  2.95562670e-02, -2.22627819e-03],\n",
       "          [ 4.47317287e-02,  5.35287485e-02,  9.82785448e-02]],\n",
       " \n",
       "         [[ 2.86405161e-02, -3.38973254e-02, -8.38949382e-02],\n",
       "          [-3.84955406e-02, -7.19109699e-02,  7.54522309e-02],\n",
       "          [-4.23962548e-02,  8.58084038e-02, -4.47611697e-02]],\n",
       " \n",
       "         [[ 5.09558693e-02, -6.79551363e-02,  5.05297557e-02],\n",
       "          [ 6.62784353e-02,  8.07556286e-02,  8.49585608e-02],\n",
       "          [ 1.04799412e-01, -6.80192560e-02, -2.30575353e-02]],\n",
       " \n",
       "         [[-2.55497247e-02,  2.97165737e-02, -2.77041644e-02],\n",
       "          [ 6.46262243e-02,  6.29248098e-02,  5.85336015e-02],\n",
       "          [ 3.68686691e-02, -4.60602306e-02,  4.65625152e-02]],\n",
       " \n",
       "         [[ 5.97028509e-02,  1.54213607e-03, -3.80931497e-02],\n",
       "          [-1.85115710e-02,  6.64135590e-02,  3.22062001e-02],\n",
       "          [ 7.39258602e-02, -6.24949411e-02,  6.21244833e-02]],\n",
       " \n",
       "         [[ 5.40209338e-02,  5.40028289e-02,  4.87229452e-02],\n",
       "          [-5.34212552e-02, -1.72821954e-02,  6.49897531e-02],\n",
       "          [-5.37596121e-02,  6.57515898e-02,  4.93735448e-02]],\n",
       " \n",
       "         [[-8.62038061e-02, -1.02723137e-01,  2.74672434e-02],\n",
       "          [-7.52877668e-02, -2.63705701e-02,  8.75661522e-03],\n",
       "          [ 4.45416197e-02, -2.72823125e-03,  6.01869151e-02]],\n",
       " \n",
       "         [[ 1.53080150e-02,  4.40082327e-02, -9.59619656e-02],\n",
       "          [-2.88680941e-03,  4.67336103e-02,  3.46786454e-02],\n",
       "          [ 7.74078295e-02,  1.49368942e-02,  6.33534044e-03]],\n",
       " \n",
       "         [[ 7.02230260e-02, -2.78954953e-03,  7.48386607e-02],\n",
       "          [-4.52690907e-02, -1.11090764e-02,  1.93822011e-02],\n",
       "          [ 9.15220901e-02,  6.75917417e-03,  4.84773442e-02]]],\n",
       " \n",
       " \n",
       "        [[[ 9.13716182e-02, -3.83493751e-02,  2.48827040e-03],\n",
       "          [-8.84334370e-02,  8.86641219e-02,  6.51889816e-02],\n",
       "          [-6.70098662e-02, -9.96802598e-02,  9.64777395e-02]],\n",
       " \n",
       "         [[-1.05025724e-01, -7.02855512e-02, -1.02455370e-01],\n",
       "          [-3.37377787e-02, -6.70331270e-02,  6.23897389e-02],\n",
       "          [ 1.15205944e-02,  9.74692479e-02, -2.87697539e-02]],\n",
       " \n",
       "         [[ 5.19363955e-02,  1.02261715e-01, -8.55268538e-02],\n",
       "          [ 4.74042222e-02, -8.69593024e-02,  1.16256028e-02],\n",
       "          [ 4.48814407e-02, -8.30334127e-02,  1.75721869e-02]],\n",
       " \n",
       "         [[ 8.10468122e-02, -7.67178759e-02, -5.46355322e-02],\n",
       "          [-5.60512058e-02, -9.30671692e-02,  7.57814944e-03],\n",
       "          [-1.24805644e-02,  1.83738247e-02, -7.46208280e-02]],\n",
       " \n",
       "         [[ 9.47056487e-02,  1.04934372e-01, -1.05059668e-01],\n",
       "          [-3.68257612e-03, -4.12543938e-02,  9.71221551e-02],\n",
       "          [-7.60320649e-02,  8.68799165e-02,  2.20060721e-02]],\n",
       " \n",
       "         [[-1.01176500e-02,  6.51088133e-02,  8.34771767e-02],\n",
       "          [-8.22916180e-02, -7.93495849e-02, -2.15208009e-02],\n",
       "          [ 6.27560988e-02, -7.94683471e-02,  6.17045984e-02]],\n",
       " \n",
       "         [[ 9.58617404e-02,  7.06799701e-02, -2.13089436e-02],\n",
       "          [-7.51922429e-02, -1.61716118e-02,  6.07568100e-02],\n",
       "          [ 6.85592219e-02, -3.12068984e-02, -5.31353056e-04]],\n",
       " \n",
       "         [[ 4.94602695e-02, -5.64252771e-02,  8.59717056e-02],\n",
       "          [-5.38547970e-02,  7.26589337e-02, -1.43240243e-02],\n",
       "          [-1.80594623e-04,  1.02068476e-01,  9.56298634e-02]],\n",
       " \n",
       "         [[-9.89108831e-02, -2.25022808e-02,  7.69732967e-02],\n",
       "          [-3.59800234e-02, -4.69045751e-02,  6.21390417e-02],\n",
       "          [-7.63059482e-02, -2.29954869e-02,  8.31914172e-02]],\n",
       " \n",
       "         [[ 5.68324253e-02,  8.80121812e-02,  5.02336249e-02],\n",
       "          [ 8.30243900e-02,  4.18603420e-03, -5.82770295e-02],\n",
       "          [ 7.94634894e-02, -1.50358528e-02,  7.81916827e-03]]]],\n",
       "       dtype=float32),\n",
       " 'conv3.bias': array([ 0.07225842, -0.00729743, -0.06040123, -0.05715572,  0.08129794,\n",
       "         0.03669096,  0.03309671, -0.05805292,  0.05683883,  0.02369244],\n",
       "       dtype=float32),\n",
       " 'conv4.weight': array([[[[-0.09573915, -0.01536769, -0.02487855],\n",
       "          [ 0.0681759 , -0.09025455,  0.03170257],\n",
       "          [ 0.06417357, -0.0782675 ,  0.07727348]],\n",
       " \n",
       "         [[ 0.08199992,  0.00718572, -0.08853913],\n",
       "          [ 0.04842598, -0.03059795, -0.08515655],\n",
       "          [-0.05486517, -0.08017831, -0.03104069]],\n",
       " \n",
       "         [[ 0.06935892,  0.0650112 ,  0.07104964],\n",
       "          [ 0.05944342, -0.0809605 , -0.03048322],\n",
       "          [ 0.0336777 ,  0.0370113 ,  0.0509642 ]],\n",
       " \n",
       "         [[-0.05293143,  0.00696129, -0.06905481],\n",
       "          [-0.00297678, -0.014469  , -0.01941241],\n",
       "          [-0.01551235,  0.05764493,  0.08740178]],\n",
       " \n",
       "         [[-0.09867468,  0.07823921,  0.02086716],\n",
       "          [ 0.02223308, -0.04141914, -0.04343698],\n",
       "          [ 0.03895154, -0.09083547, -0.04584872]],\n",
       " \n",
       "         [[ 0.01016606, -0.10062365,  0.08009671],\n",
       "          [ 0.06636534, -0.02933315, -0.03500395],\n",
       "          [-0.0456427 ,  0.05288663, -0.05905925]],\n",
       " \n",
       "         [[-0.03742382, -0.02958465, -0.02019004],\n",
       "          [ 0.00758672, -0.09681234,  0.04063418],\n",
       "          [-0.03452822, -0.06463882, -0.06281754]],\n",
       " \n",
       "         [[-0.04827578, -0.01220278, -0.09710071],\n",
       "          [-0.03280921, -0.09975378,  0.07215328],\n",
       "          [ 0.03917397,  0.00696777,  0.05483524]],\n",
       " \n",
       "         [[-0.01525459, -0.00440913,  0.06351591],\n",
       "          [ 0.06346605, -0.05797964, -0.05701587],\n",
       "          [-0.08274772,  0.039348  , -0.01446623]],\n",
       " \n",
       "         [[ 0.10193215, -0.00928577, -0.01145848],\n",
       "          [-0.08934751,  0.03403097, -0.01262804],\n",
       "          [ 0.00174546,  0.06882248,  0.05505974]]],\n",
       " \n",
       " \n",
       "        [[[-0.01707131,  0.03176654,  0.04598285],\n",
       "          [-0.01927108,  0.07858291,  0.01690739],\n",
       "          [ 0.04809728,  0.08693994,  0.06196269]],\n",
       " \n",
       "         [[-0.05018415,  0.08464415, -0.03999335],\n",
       "          [-0.01236006, -0.06514125, -0.03249593],\n",
       "          [-0.07162523, -0.05644987, -0.01914061]],\n",
       " \n",
       "         [[ 0.09111515,  0.03015726,  0.04006381],\n",
       "          [ 0.04223079, -0.0991092 ,  0.03882451],\n",
       "          [-0.08661197, -0.07791876, -0.10362947]],\n",
       " \n",
       "         [[ 0.02845069,  0.03774881,  0.06776575],\n",
       "          [ 0.04073874, -0.0830046 , -0.06936468],\n",
       "          [-0.06222099,  0.01322942, -0.06271674]],\n",
       " \n",
       "         [[-0.02853286, -0.06053112, -0.01962422],\n",
       "          [ 0.04203051,  0.0592062 , -0.05257607],\n",
       "          [-0.02126236,  0.08851933, -0.05245341]],\n",
       " \n",
       "         [[ 0.08357421,  0.09402884, -0.0123909 ],\n",
       "          [ 0.07971101, -0.04537688, -0.02568232],\n",
       "          [ 0.06817161, -0.09738435,  0.01003595]],\n",
       " \n",
       "         [[-0.00295889, -0.10135989,  0.04364874],\n",
       "          [-0.05744431,  0.00263866, -0.06412133],\n",
       "          [ 0.03855021, -0.01637113, -0.04920426]],\n",
       " \n",
       "         [[-0.071683  ,  0.02287637,  0.01968946],\n",
       "          [ 0.00286754,  0.02005886, -0.00145148],\n",
       "          [-0.08328033,  0.06272089,  0.09909049]],\n",
       " \n",
       "         [[ 0.09618292, -0.06833698,  0.05328948],\n",
       "          [ 0.0927461 , -0.10399564, -0.09670546],\n",
       "          [-0.04260638, -0.03838309, -0.08257172]],\n",
       " \n",
       "         [[-0.09921411, -0.00479301, -0.06161089],\n",
       "          [ 0.09190542,  0.09937917, -0.0477527 ],\n",
       "          [ 0.0842186 , -0.04837222,  0.06293929]]],\n",
       " \n",
       " \n",
       "        [[[ 0.05914419,  0.00442047,  0.08361498],\n",
       "          [ 0.05056488, -0.08353782, -0.02786041],\n",
       "          [-0.00217291,  0.058388  , -0.05031525]],\n",
       " \n",
       "         [[ 0.0063341 ,  0.01791194, -0.01676781],\n",
       "          [-0.1004371 ,  0.06606288,  0.02882371],\n",
       "          [ 0.05639531, -0.03132997, -0.09280727]],\n",
       " \n",
       "         [[ 0.00515273, -0.06703992,  0.0199495 ],\n",
       "          [ 0.05027054,  0.06125825, -0.07807992],\n",
       "          [ 0.02518351, -0.05905348,  0.0499965 ]],\n",
       " \n",
       "         [[ 0.01069001, -0.05364317,  0.02613626],\n",
       "          [ 0.03426621, -0.03675183, -0.02067275],\n",
       "          [-0.08909559,  0.07553036, -0.09526433]],\n",
       " \n",
       "         [[-0.05206203,  0.0678462 , -0.02353092],\n",
       "          [-0.05173136, -0.07108189, -0.01735011],\n",
       "          [ 0.09442005, -0.02245333,  0.00335699]],\n",
       " \n",
       "         [[-0.059379  ,  0.07268769,  0.05340976],\n",
       "          [-0.06088348,  0.03899463, -0.08793493],\n",
       "          [ 0.04125767,  0.01430661, -0.01559793]],\n",
       " \n",
       "         [[-0.0233914 ,  0.06609467, -0.08820513],\n",
       "          [-0.08533683,  0.07915088, -0.01391573],\n",
       "          [-0.06118562,  0.07810249, -0.07331526]],\n",
       " \n",
       "         [[ 0.04972934, -0.00072853,  0.03847549],\n",
       "          [-0.09183995,  0.07664116,  0.04243919],\n",
       "          [ 0.03946771, -0.07131758,  0.02626749]],\n",
       " \n",
       "         [[-0.04193462,  0.07246832,  0.07101416],\n",
       "          [-0.06644936,  0.04523604, -0.03179323],\n",
       "          [-0.04660242, -0.01058658,  0.09082607]],\n",
       " \n",
       "         [[ 0.07820103,  0.06396527, -0.07982191],\n",
       "          [-0.08205688, -0.07546263, -0.08559936],\n",
       "          [ 0.01223929, -0.04901195, -0.04489494]]],\n",
       " \n",
       " \n",
       "        [[[ 0.09886696,  0.07085628, -0.01140227],\n",
       "          [-0.02927417,  0.0628506 , -0.03583082],\n",
       "          [-0.03877788, -0.06023888,  0.02783199]],\n",
       " \n",
       "         [[-0.01965124, -0.10268962, -0.05812709],\n",
       "          [-0.02034856,  0.06839635,  0.04231436],\n",
       "          [ 0.00634679, -0.05570252, -0.008549  ]],\n",
       " \n",
       "         [[-0.02576656,  0.06235757,  0.01640136],\n",
       "          [ 0.06183948,  0.06942274, -0.09783541],\n",
       "          [ 0.10212784, -0.08010736,  0.09496378]],\n",
       " \n",
       "         [[ 0.08233068,  0.02890075, -0.09867325],\n",
       "          [ 0.09242488,  0.1035549 ,  0.07777939],\n",
       "          [-0.0958068 ,  0.05919013,  0.06633592]],\n",
       " \n",
       "         [[-0.01923067, -0.10153038, -0.10466611],\n",
       "          [ 0.04983925,  0.04642823, -0.04844739],\n",
       "          [-0.0461622 , -0.09549545,  0.10333007]],\n",
       " \n",
       "         [[-0.10453267,  0.08193683,  0.06317379],\n",
       "          [-0.04197906, -0.00790808, -0.05351317],\n",
       "          [ 0.07776231,  0.05646408,  0.05713549]],\n",
       " \n",
       "         [[ 0.03872509,  0.00585512,  0.00204664],\n",
       "          [-0.09474538, -0.05062618, -0.09353262],\n",
       "          [ 0.03537894,  0.03554168, -0.0425294 ]],\n",
       " \n",
       "         [[ 0.06101549,  0.09934651,  0.10456832],\n",
       "          [-0.03441758, -0.01326055, -0.09538067],\n",
       "          [-0.04414253,  0.0187721 , -0.03431307]],\n",
       " \n",
       "         [[ 0.08189873, -0.03481109, -0.0028443 ],\n",
       "          [-0.01608858, -0.07951932, -0.0222903 ],\n",
       "          [ 0.03660745,  0.0231022 , -0.04198093]],\n",
       " \n",
       "         [[ 0.0452384 , -0.07589841,  0.04569087],\n",
       "          [ 0.08054114, -0.00154823, -0.10251428],\n",
       "          [ 0.01021662, -0.09856564, -0.03300983]]],\n",
       " \n",
       " \n",
       "        [[[-0.03129393, -0.0812413 , -0.04371869],\n",
       "          [ 0.0455003 , -0.09548981, -0.07010949],\n",
       "          [ 0.05946135,  0.08517439,  0.02080476]],\n",
       " \n",
       "         [[ 0.04577934,  0.07696428, -0.00190224],\n",
       "          [ 0.07516485,  0.01443855,  0.06837929],\n",
       "          [ 0.10416449,  0.02998757,  0.03067342]],\n",
       " \n",
       "         [[-0.05005834,  0.01677323,  0.09033529],\n",
       "          [ 0.05183332, -0.03441244,  0.00239895],\n",
       "          [-0.02410244,  0.02996897,  0.09341989]],\n",
       " \n",
       "         [[ 0.08270495, -0.04359   , -0.02312092],\n",
       "          [ 0.10206097,  0.01645798, -0.04221842],\n",
       "          [ 0.01929278, -0.03363433, -0.0788276 ]],\n",
       " \n",
       "         [[-0.08384655,  0.03530214, -0.00869291],\n",
       "          [ 0.00952981,  0.06307297,  0.05761627],\n",
       "          [-0.01719049,  0.10526655, -0.0433193 ]],\n",
       " \n",
       "         [[-0.0910852 ,  0.04179201, -0.09809203],\n",
       "          [-0.08703955,  0.02695676, -0.00788075],\n",
       "          [ 0.08972602,  0.03715283,  0.1050181 ]],\n",
       " \n",
       "         [[ 0.08989992, -0.00610688, -0.04942292],\n",
       "          [ 0.05899183, -0.02625535, -0.0329643 ],\n",
       "          [ 0.01513862,  0.09683952,  0.07904703]],\n",
       " \n",
       "         [[ 0.06074192, -0.06895067, -0.00216066],\n",
       "          [ 0.08657547, -0.09671881,  0.06522212],\n",
       "          [ 0.09742477,  0.02337434,  0.0871801 ]],\n",
       " \n",
       "         [[ 0.02785034,  0.1045387 ,  0.06880263],\n",
       "          [-0.00375309, -0.06066466, -0.0299715 ],\n",
       "          [-0.06943001,  0.03810086, -0.0669141 ]],\n",
       " \n",
       "         [[ 0.03990386, -0.07155619, -0.0365177 ],\n",
       "          [-0.06648814,  0.04516474,  0.10517374],\n",
       "          [-0.05519852,  0.09458146,  0.05259811]]],\n",
       " \n",
       " \n",
       "        [[[-0.07544755, -0.09321539,  0.08984775],\n",
       "          [-0.01445108,  0.00112072,  0.00946636],\n",
       "          [ 0.00906143,  0.0125164 , -0.01330712]],\n",
       " \n",
       "         [[ 0.00401959,  0.05096438, -0.08513892],\n",
       "          [-0.01316254,  0.0075567 , -0.007816  ],\n",
       "          [-0.04315768, -0.01039521,  0.02567875]],\n",
       " \n",
       "         [[ 0.00747962,  0.08738586,  0.06185076],\n",
       "          [ 0.09180055,  0.04579594, -0.06079684],\n",
       "          [-0.08699042, -0.04628369, -0.05297704]],\n",
       " \n",
       "         [[ 0.07551468,  0.01948911, -0.08852107],\n",
       "          [-0.01834439,  0.03679877, -0.07698612],\n",
       "          [ 0.06294141,  0.04083665, -0.0889687 ]],\n",
       " \n",
       "         [[-0.04083055,  0.01036307,  0.00147733],\n",
       "          [-0.03613906, -0.06790572, -0.00057346],\n",
       "          [ 0.0654022 , -0.10413138, -0.03966308]],\n",
       " \n",
       "         [[-0.03305578,  0.04308689,  0.0766282 ],\n",
       "          [-0.07828269, -0.01238553,  0.05993512],\n",
       "          [-0.08422957,  0.01626113, -0.08351395]],\n",
       " \n",
       "         [[-0.02456719, -0.04815185,  0.04792932],\n",
       "          [ 0.06427077, -0.0247957 , -0.06066407],\n",
       "          [ 0.07791881,  0.0321136 , -0.06889252]],\n",
       " \n",
       "         [[ 0.03670996, -0.09087101,  0.01722272],\n",
       "          [ 0.08540267,  0.00613188,  0.09050144],\n",
       "          [ 0.04263803, -0.08952333,  0.06902049]],\n",
       " \n",
       "         [[-0.00884867,  0.04079915, -0.09729865],\n",
       "          [ 0.06271129,  0.05476253,  0.08208925],\n",
       "          [ 0.08096791, -0.00372361,  0.0434724 ]],\n",
       " \n",
       "         [[ 0.06759947,  0.02908286, -0.02216387],\n",
       "          [-0.00599627, -0.0090849 ,  0.03713325],\n",
       "          [-0.03138783,  0.09917491,  0.0502331 ]]],\n",
       " \n",
       " \n",
       "        [[[-0.01288132, -0.05315662, -0.03316027],\n",
       "          [ 0.00385111,  0.01055671,  0.09501453],\n",
       "          [-0.04747191,  0.09357669, -0.04233991]],\n",
       " \n",
       "         [[-0.00399217, -0.07312335, -0.0031416 ],\n",
       "          [ 0.09801521, -0.08960287, -0.00641499],\n",
       "          [ 0.04823195, -0.09081136,  0.06241553]],\n",
       " \n",
       "         [[ 0.00155429, -0.08346354,  0.07834337],\n",
       "          [-0.05137257,  0.033011  ,  0.04653118],\n",
       "          [-0.09819068, -0.06511909,  0.00604987]],\n",
       " \n",
       "         [[ 0.03242318,  0.08508094,  0.00360732],\n",
       "          [-0.08790898, -0.06491236, -0.02271517],\n",
       "          [ 0.05740724,  0.07251652, -0.00459962]],\n",
       " \n",
       "         [[ 0.04244233, -0.10421399, -0.03950529],\n",
       "          [-0.02430537,  0.05567115, -0.01518985],\n",
       "          [-0.08446909, -0.02046469, -0.06731572]],\n",
       " \n",
       "         [[ 0.00380457,  0.0028661 ,  0.05337108],\n",
       "          [-0.03151991, -0.09532433,  0.0567242 ],\n",
       "          [-0.10469019,  0.07484055, -0.03045374]],\n",
       " \n",
       "         [[ 0.07506914,  0.04815433,  0.06020465],\n",
       "          [-0.04410078,  0.04628322,  0.08290414],\n",
       "          [-0.02991652,  0.07801083, -0.04337401]],\n",
       " \n",
       "         [[ 0.02036538,  0.09050598,  0.03504664],\n",
       "          [ 0.07838739, -0.03413484, -0.05622153],\n",
       "          [ 0.03863864,  0.05663154, -0.03494066]],\n",
       " \n",
       "         [[ 0.02165703,  0.02870234,  0.09410033],\n",
       "          [ 0.03459836,  0.02797874,  0.07217621],\n",
       "          [ 0.07233945, -0.03567122, -0.00064838]],\n",
       " \n",
       "         [[-0.0305027 , -0.05428313, -0.00996935],\n",
       "          [ 0.04965258, -0.00444343,  0.0891242 ],\n",
       "          [-0.00071925, -0.06910559,  0.04942132]]],\n",
       " \n",
       " \n",
       "        [[[ 0.05763318, -0.10052828,  0.00970777],\n",
       "          [ 0.0515381 ,  0.09897625, -0.03766295],\n",
       "          [ 0.01177433, -0.06009261,  0.00126983]],\n",
       " \n",
       "         [[-0.031742  , -0.0959928 ,  0.09753186],\n",
       "          [-0.03721251,  0.01161281,  0.02767148],\n",
       "          [ 0.01785617, -0.08264444,  0.02377776]],\n",
       " \n",
       "         [[ 0.09544487, -0.09832102,  0.07042522],\n",
       "          [-0.08454826,  0.09877329,  0.01304127],\n",
       "          [ 0.01314695,  0.1004869 , -0.00252353]],\n",
       " \n",
       "         [[-0.06375301,  0.02597066, -0.09201981],\n",
       "          [-0.00738989, -0.04359788, -0.08683947],\n",
       "          [-0.06867245,  0.04658151, -0.01237691]],\n",
       " \n",
       "         [[ 0.02124003, -0.09793977, -0.07836236],\n",
       "          [-0.09943303, -0.04994313,  0.05284741],\n",
       "          [ 0.07169775,  0.07338419,  0.02017421]],\n",
       " \n",
       "         [[-0.06951658,  0.0251336 ,  0.0925832 ],\n",
       "          [ 0.01722693, -0.09302134, -0.04710795],\n",
       "          [ 0.01989207, -0.06214356,  0.10186527]],\n",
       " \n",
       "         [[ 0.02779243, -0.03216624, -0.03843734],\n",
       "          [ 0.05850739, -0.02182812,  0.03417089],\n",
       "          [ 0.09954902,  0.0320131 ,  0.08520702]],\n",
       " \n",
       "         [[ 0.05329912, -0.03730738, -0.02881514],\n",
       "          [ 0.09522244,  0.05888984, -0.0315863 ],\n",
       "          [-0.01847122,  0.03306402, -0.07203785]],\n",
       " \n",
       "         [[-0.09794743,  0.03140808, -0.05587569],\n",
       "          [ 0.08151092, -0.02622665, -0.0544088 ],\n",
       "          [ 0.02351301, -0.0555177 ,  0.06975489]],\n",
       " \n",
       "         [[ 0.07634956,  0.04306737,  0.09896477],\n",
       "          [-0.09825666,  0.0864492 ,  0.05878053],\n",
       "          [-0.00420095,  0.049726  , -0.01441912]]],\n",
       " \n",
       " \n",
       "        [[[-0.01041778,  0.05568094, -0.09110124],\n",
       "          [-0.04080641,  0.00783937,  0.06750763],\n",
       "          [ 0.07837116,  0.06732891,  0.06166307]],\n",
       " \n",
       "         [[ 0.100734  , -0.02599145,  0.06652912],\n",
       "          [-0.0213628 , -0.05373628,  0.07445883],\n",
       "          [ 0.03344148,  0.07594831, -0.03392348]],\n",
       " \n",
       "         [[-0.00675079,  0.07763868,  0.03392685],\n",
       "          [-0.10232925, -0.00394511,  0.09885382],\n",
       "          [ 0.08580292, -0.04290042, -0.03679726]],\n",
       " \n",
       "         [[ 0.03854146,  0.04761589, -0.07717944],\n",
       "          [ 0.00712338,  0.02198797, -0.01874115],\n",
       "          [-0.04745669,  0.01274231, -0.00598841]],\n",
       " \n",
       "         [[-0.01639815, -0.07148314,  0.08960078],\n",
       "          [ 0.02525719,  0.09454889, -0.07387481],\n",
       "          [-0.07025586,  0.0787616 ,  0.09417661]],\n",
       " \n",
       "         [[ 0.02726946, -0.04356081,  0.0333829 ],\n",
       "          [ 0.07093125,  0.01294338,  0.0318195 ],\n",
       "          [-0.0231891 ,  0.06068356,  0.05285478]],\n",
       " \n",
       "         [[-0.09926045,  0.09725694, -0.06887873],\n",
       "          [ 0.02549518,  0.084441  ,  0.05827454],\n",
       "          [ 0.088116  ,  0.00690202,  0.10498156]],\n",
       " \n",
       "         [[ 0.09678855, -0.03848568,  0.09571905],\n",
       "          [ 0.09490227,  0.09055621, -0.09818617],\n",
       "          [-0.0384943 ,  0.06639231,  0.07641517]],\n",
       " \n",
       "         [[ 0.09552308,  0.07754459,  0.10297739],\n",
       "          [-0.03619093,  0.02409776,  0.08825444],\n",
       "          [ 0.07029087, -0.01420602, -0.08555927]],\n",
       " \n",
       "         [[-0.09612224,  0.09085453,  0.08176581],\n",
       "          [ 0.02269983,  0.06396306,  0.08502587],\n",
       "          [ 0.09117556,  0.04293761,  0.06235623]]],\n",
       " \n",
       " \n",
       "        [[[ 0.0969223 ,  0.09894321,  0.08031536],\n",
       "          [-0.01409566,  0.01822954, -0.08317789],\n",
       "          [-0.09297424,  0.02280378,  0.0394673 ]],\n",
       " \n",
       "         [[ 0.01705213, -0.02354638, -0.06317592],\n",
       "          [-0.10326868,  0.09408333, -0.04366654],\n",
       "          [ 0.00860874, -0.03945328, -0.03097478]],\n",
       " \n",
       "         [[ 0.05532085,  0.07021161, -0.06401984],\n",
       "          [-0.02065168, -0.04064177,  0.00434238],\n",
       "          [ 0.08538017,  0.05977926,  0.07650235]],\n",
       " \n",
       "         [[-0.07502489, -0.02594282, -0.00526195],\n",
       "          [-0.0702941 , -0.0909133 ,  0.09879865],\n",
       "          [ 0.06540976, -0.04312782,  0.02597842]],\n",
       " \n",
       "         [[ 0.04951168, -0.03171115,  0.08966003],\n",
       "          [ 0.07749372, -0.0213789 , -0.05834732],\n",
       "          [ 0.09514567, -0.07137388, -0.08234695]],\n",
       " \n",
       "         [[ 0.03921283, -0.0120882 ,  0.02996422],\n",
       "          [ 0.02015217,  0.08252528,  0.03509887],\n",
       "          [ 0.04714396,  0.01499594,  0.06464844]],\n",
       " \n",
       "         [[-0.04550858, -0.0416932 ,  0.00757889],\n",
       "          [-0.07292183,  0.04989765, -0.07334798],\n",
       "          [-0.05650293, -0.08885054,  0.01363386]],\n",
       " \n",
       "         [[ 0.0562573 ,  0.07228213,  0.04146408],\n",
       "          [-0.00781413,  0.01470891,  0.06680662],\n",
       "          [ 0.01500492, -0.0420483 ,  0.07858863]],\n",
       " \n",
       "         [[-0.10139827,  0.04469166, -0.02289981],\n",
       "          [-0.05856201,  0.02708244, -0.07139086],\n",
       "          [-0.0268329 ,  0.03094562, -0.0408263 ]],\n",
       " \n",
       "         [[ 0.03960205, -0.10056822, -0.09864935],\n",
       "          [ 0.07429185, -0.05504784,  0.04807582],\n",
       "          [ 0.01493489, -0.03173786, -0.02695657]]]], dtype=float32),\n",
       " 'conv4.bias': array([ 0.02973358,  0.03202064, -0.00127986,  0.00283315, -0.09535973,\n",
       "        -0.04655109,  0.09588172,  0.04918233,  0.0369839 , -0.04418248],\n",
       "       dtype=float32),\n",
       " 'norm.weight': array([1., 1., 1., 1., 1., 1., 1., 1., 1., 1.], dtype=float32),\n",
       " 'norm.bias': array([0., 0., 0., 0., 0., 0., 0., 0., 0., 0.], dtype=float32),\n",
       " 'fc1.weight': array([[ 5.5931918e-03,  2.4936330e-02,  1.1306558e-02, ...,\n",
       "         -2.4579844e-02,  3.3305231e-02, -1.8249618e-02],\n",
       "        [ 2.7414400e-02, -2.9485371e-02, -1.4349202e-02, ...,\n",
       "          1.6320698e-02,  1.8640608e-03,  2.9030737e-02],\n",
       "        [-1.8141037e-02, -6.3651670e-03, -8.5391104e-05, ...,\n",
       "          3.1666677e-02, -9.9349022e-04, -2.8759127e-02],\n",
       "        ...,\n",
       "        [ 1.4809217e-02, -1.9869953e-02, -4.6898276e-03, ...,\n",
       "         -2.8217360e-03,  3.0622456e-02, -3.1455606e-02],\n",
       "        [ 3.1820308e-02, -4.0737744e-03,  1.8897422e-02, ...,\n",
       "         -2.0580254e-03,  6.0644373e-03,  2.2628173e-02],\n",
       "        [-1.2992743e-02, -2.0436246e-02,  3.5099346e-02, ...,\n",
       "         -2.8515272e-03,  3.2212976e-02, -3.0812981e-02]], dtype=float32),\n",
       " 'fc1.bias': array([ 0.02771022, -0.02394048, -0.02996699,  0.03277609,  0.0330614 ,\n",
       "        -0.02965279, -0.00872956, -0.00128154,  0.02751693,  0.02450225,\n",
       "         0.02897376,  0.02395534,  0.02086614, -0.00649601,  0.02563074,\n",
       "        -0.01803289, -0.00970448, -0.00231105,  0.01526548,  0.01021745,\n",
       "         0.03433121, -0.02777809, -0.01530144,  0.00218139, -0.02799096,\n",
       "         0.0238244 , -0.01411236, -0.01445963, -0.02786914, -0.01197215,\n",
       "         0.01594509, -0.02547571,  0.01610623, -0.00497536,  0.02142017,\n",
       "         0.02721029,  0.03080664, -0.00349175,  0.00322128, -0.00688969,\n",
       "         0.01045426, -0.00047482,  0.0188822 , -0.02488251,  0.03060007,\n",
       "         0.02630465,  0.02748792, -0.02535571,  0.02666871,  0.01066061],\n",
       "       dtype=float32),\n",
       " 'fc2.weight': array([[-0.12597387,  0.12358774,  0.0310135 ,  0.04956904,  0.0411872 ,\n",
       "          0.13493721, -0.11573575,  0.01437645,  0.13592823,  0.10347596,\n",
       "         -0.02627327,  0.13140087, -0.11219606,  0.13153155, -0.00707467,\n",
       "          0.13651519,  0.03953332, -0.11812371,  0.10616304, -0.12437627,\n",
       "          0.12453471,  0.13619153,  0.0697428 ,  0.10401037,  0.07700647,\n",
       "          0.06902234, -0.07517513, -0.0533653 , -0.02712335,  0.10866527,\n",
       "          0.13137798,  0.09887566, -0.09779288,  0.10984524,  0.06968391,\n",
       "          0.05847873,  0.11117436, -0.09370884, -0.0563226 , -0.06761684,\n",
       "         -0.05516487, -0.07105854, -0.03815416, -0.08635338,  0.08841495,\n",
       "         -0.0874185 , -0.13039954,  0.14036311,  0.04743215,  0.08724724],\n",
       "        [ 0.0269253 ,  0.115137  , -0.0127801 ,  0.00941464,  0.03755255,\n",
       "         -0.11487485,  0.03202155, -0.08321384,  0.04122901,  0.00874364,\n",
       "          0.06553048,  0.08021747, -0.11200622,  0.03765337,  0.09400955,\n",
       "         -0.08023673,  0.07566065,  0.09267116, -0.01923043,  0.01528853,\n",
       "          0.09481557,  0.07975157, -0.09270247,  0.06408694,  0.0414294 ,\n",
       "         -0.09071712,  0.02475439, -0.10903838,  0.05658107,  0.10491343,\n",
       "          0.01643297, -0.00214475,  0.0306216 ,  0.0941779 , -0.06914597,\n",
       "         -0.0845184 , -0.03683119, -0.07226881,  0.07568359,  0.07965916,\n",
       "          0.06840977,  0.03148131,  0.06323607,  0.10489221,  0.0534137 ,\n",
       "          0.10422264, -0.11805169,  0.03279068,  0.0487725 , -0.07027748],\n",
       "        [-0.02962419,  0.08208382, -0.10353475, -0.00018556,  0.00840472,\n",
       "         -0.05457725,  0.05843404,  0.03841595,  0.12922786,  0.05945165,\n",
       "          0.08797596, -0.12605159, -0.01680761, -0.07123185,  0.12241237,\n",
       "          0.1205381 , -0.09546241, -0.0172234 ,  0.04162465, -0.0040392 ,\n",
       "         -0.06357893, -0.08797428, -0.11756194, -0.10989611,  0.00512204,\n",
       "          0.0476695 ,  0.09006013, -0.02256438, -0.12726578, -0.06818356,\n",
       "          0.09119569,  0.09344958, -0.03004098, -0.0100147 , -0.09064578,\n",
       "         -0.06061031,  0.07556824,  0.13612933, -0.09201868,  0.10201018,\n",
       "          0.13681297, -0.04246494,  0.00560746,  0.13307734, -0.09479947,\n",
       "         -0.12244682,  0.0304727 ,  0.09748706,  0.06024852,  0.01919214],\n",
       "        [-0.02930307, -0.04061347,  0.11748005,  0.01009838, -0.12834696,\n",
       "          0.0315776 , -0.05144628, -0.11207962,  0.08056448,  0.01687698,\n",
       "         -0.04293608, -0.11569788,  0.02764329, -0.06550127,  0.05772002,\n",
       "          0.10389134,  0.12036504, -0.07513674,  0.09261583, -0.12451977,\n",
       "          0.11782633, -0.12216377,  0.03091632,  0.01374559,  0.00879543,\n",
       "         -0.06937547,  0.08543588,  0.00935188, -0.09254117, -0.0058578 ,\n",
       "         -0.13345277, -0.00980797, -0.00357501, -0.00877701, -0.12894194,\n",
       "         -0.11012279, -0.02645546, -0.05374691,  0.11761616, -0.09524269,\n",
       "         -0.092456  , -0.08922878,  0.08022724, -0.12953302, -0.01276205,\n",
       "         -0.01445997,  0.05963773, -0.11773136, -0.01981566,  0.05227932],\n",
       "        [-0.07339349,  0.0880121 , -0.13000628,  0.09346484,  0.03549337,\n",
       "          0.0644398 , -0.12207803, -0.09843387,  0.01018925,  0.03565747,\n",
       "          0.00688951,  0.071787  ,  0.02181032, -0.07522995,  0.05865346,\n",
       "         -0.09866892,  0.02273336, -0.02121327,  0.00254489,  0.09043929,\n",
       "         -0.05435404,  0.0895441 , -0.0378339 ,  0.05476838,  0.12769993,\n",
       "         -0.02551066,  0.08251835, -0.12776096,  0.12454604,  0.1103649 ,\n",
       "         -0.08171337,  0.09953253,  0.02542362, -0.0292182 ,  0.09787469,\n",
       "         -0.10900323,  0.08837941,  0.08066773, -0.06154241,  0.13716333,\n",
       "         -0.13228717, -0.12352329,  0.11015962, -0.11816065,  0.12896277,\n",
       "          0.01990455,  0.11516695, -0.02592168, -0.04042758, -0.00307822],\n",
       "        [-0.14034908, -0.02717218,  0.02102007,  0.1359485 , -0.01768049,\n",
       "         -0.11725023,  0.02015427, -0.04920492, -0.10031143,  0.12808768,\n",
       "          0.03176233,  0.03811714, -0.07046404, -0.02228417,  0.07740937,\n",
       "          0.12194715, -0.11026725,  0.0298927 , -0.13508593, -0.11101988,\n",
       "         -0.06531856, -0.10290168, -0.08887266,  0.04206125, -0.06601413,\n",
       "         -0.09364295, -0.01379319, -0.14017345, -0.02771632, -0.10546629,\n",
       "         -0.08231256,  0.02302843,  0.09225322,  0.07467197, -0.11791138,\n",
       "         -0.05416595,  0.14081974, -0.01145919,  0.08745062, -0.04664763,\n",
       "         -0.06838259, -0.06972129,  0.03154051,  0.10023485,  0.13185911,\n",
       "          0.02535142, -0.06096643, -0.08714359,  0.07727964, -0.02232524],\n",
       "        [ 0.05381943,  0.08181116, -0.09285942,  0.0162459 , -0.13365094,\n",
       "          0.12833102, -0.07720897,  0.06843996,  0.04826984,  0.12737171,\n",
       "         -0.09515874, -0.03417809,  0.13660868, -0.09407994, -0.00212683,\n",
       "          0.01524362,  0.0543683 ,  0.11311738, -0.069577  ,  0.12911175,\n",
       "         -0.12479861,  0.13871293, -0.08421136,  0.02085797, -0.09025888,\n",
       "          0.0800855 , -0.0764073 ,  0.05721854, -0.06417052,  0.03255436,\n",
       "          0.02568713,  0.08906391, -0.11738997,  0.08002126,  0.05589925,\n",
       "         -0.10916495,  0.11874707,  0.10155787,  0.04778326, -0.13230379,\n",
       "          0.1126117 , -0.09063928, -0.00528085, -0.0019868 , -0.06609771,\n",
       "         -0.12677544, -0.03613804, -0.13352694,  0.07328263, -0.07507875]],\n",
       "       dtype=float32),\n",
       " 'fc2.bias': array([0.06120528, 0.06694002, 0.06812316, 0.0613921 , 0.06779307,\n",
       "        0.05259213, 0.11675872], dtype=float32),\n",
       " 'localization.0.weight': array([[[[-3.88078168e-02,  1.03031218e-01, -4.88869473e-02,\n",
       "           -2.02040002e-02, -6.51259720e-03,  7.76931494e-02,\n",
       "           -4.09556925e-03],\n",
       "          [ 7.16992617e-02, -1.28866911e-01, -7.82171041e-02,\n",
       "           -4.87144515e-02,  9.07342285e-02,  1.32008180e-01,\n",
       "            2.71418989e-02],\n",
       "          [-1.15692981e-01,  8.30893964e-02,  1.15590915e-01,\n",
       "           -5.80659956e-02, -3.69059369e-02,  1.13744393e-01,\n",
       "            1.05934367e-01],\n",
       "          [-1.69298500e-02,  3.09416056e-02, -6.01590574e-02,\n",
       "            1.04510069e-01, -9.09547806e-02,  7.11500794e-02,\n",
       "           -3.94442454e-02],\n",
       "          [-6.17438406e-02,  7.20323920e-02,  7.02826679e-03,\n",
       "           -7.05872998e-02,  3.76629829e-03, -3.20178643e-02,\n",
       "            1.22363940e-01],\n",
       "          [ 2.06039399e-02, -6.31545112e-02,  3.20730954e-02,\n",
       "            1.24048606e-01,  1.24186918e-01, -1.13806576e-01,\n",
       "           -1.19069517e-02],\n",
       "          [ 6.27221614e-02, -1.09732613e-01, -1.35914743e-01,\n",
       "           -9.79091153e-02, -6.20334893e-02,  6.35300577e-03,\n",
       "           -8.95531550e-02]]],\n",
       " \n",
       " \n",
       "        [[[ 8.23737234e-02,  8.25251341e-02,  1.01869509e-01,\n",
       "           -1.38873637e-01, -1.38095617e-02,  1.35599777e-01,\n",
       "            9.16434675e-02],\n",
       "          [ 1.12926379e-01, -1.15757644e-01, -1.42545894e-01,\n",
       "            1.17288366e-01, -1.04953550e-01,  1.00941122e-01,\n",
       "            1.32479534e-01],\n",
       "          [ 3.16801220e-02,  6.35019690e-02,  2.56614089e-02,\n",
       "           -5.04437089e-03, -8.92197937e-02,  1.45625919e-02,\n",
       "            9.30854827e-02],\n",
       "          [-7.13832751e-02,  2.38020718e-03,  3.45479250e-02,\n",
       "            1.10322937e-01,  1.35063872e-01, -3.20410728e-02,\n",
       "           -6.86112046e-03],\n",
       "          [ 9.76027697e-02, -5.49734309e-02, -7.83826113e-02,\n",
       "            9.99935567e-02,  4.01990563e-02, -1.08237132e-01,\n",
       "            6.87242597e-02],\n",
       "          [ 4.59676981e-02, -9.05228257e-02, -1.36949539e-01,\n",
       "           -7.76810348e-02,  4.60670888e-03, -1.38420805e-01,\n",
       "            6.60434663e-02],\n",
       "          [ 7.58459121e-02,  1.33214995e-01, -1.05568208e-01,\n",
       "           -3.35986912e-03,  7.68160522e-02,  1.29402891e-01,\n",
       "            3.73385847e-02]]],\n",
       " \n",
       " \n",
       "        [[[-2.74984986e-02, -1.95020288e-02, -1.28506869e-02,\n",
       "            1.06696010e-01, -6.13317043e-02, -9.55714732e-02,\n",
       "           -1.86395347e-02],\n",
       "          [-2.81872898e-02, -1.12351179e-02, -1.11844733e-01,\n",
       "            4.35395241e-02,  4.17350531e-02, -6.51443005e-02,\n",
       "           -1.28937215e-01],\n",
       "          [-4.03966606e-02,  2.42396444e-02,  1.21383026e-01,\n",
       "           -3.95026430e-02, -2.65058279e-02,  1.31903008e-01,\n",
       "            3.78488600e-02],\n",
       "          [-5.14068976e-02, -5.61421812e-02, -2.41918862e-03,\n",
       "            9.21381265e-02, -7.17108473e-02,  9.58186984e-02,\n",
       "            1.22553036e-01],\n",
       "          [-4.38312665e-02, -1.26592204e-01, -3.24327424e-02,\n",
       "            1.18766725e-02, -5.38155362e-02, -7.16632307e-02,\n",
       "            1.26796141e-01],\n",
       "          [-9.69703570e-02,  1.22522563e-02, -5.46747446e-02,\n",
       "            1.32830158e-01,  1.83554590e-02,  4.91175056e-03,\n",
       "            7.90725350e-02],\n",
       "          [-4.54458892e-02,  7.73578137e-02, -1.21114358e-01,\n",
       "            9.65704173e-02, -2.12525651e-02, -2.76169255e-02,\n",
       "           -8.30335468e-02]]],\n",
       " \n",
       " \n",
       "        [[[-3.08901221e-02,  3.41713727e-02,  1.02843046e-02,\n",
       "           -1.16741359e-01,  4.01970148e-02,  9.81105715e-02,\n",
       "           -1.31794989e-01],\n",
       "          [ 7.58296847e-02, -5.67886010e-02,  6.58498853e-02,\n",
       "           -1.39541209e-01,  9.99165922e-02,  8.00578445e-02,\n",
       "           -9.60852951e-02],\n",
       "          [ 3.62731814e-02,  9.37859863e-02,  1.34614721e-01,\n",
       "           -3.38220075e-02,  9.71898735e-02, -4.08200398e-02,\n",
       "            2.70344317e-02],\n",
       "          [-9.79970545e-02,  1.31989524e-01, -1.16161555e-01,\n",
       "           -6.77063838e-02, -1.16502188e-01,  1.08164534e-01,\n",
       "           -8.59811902e-02],\n",
       "          [ 1.21739969e-01,  3.67660075e-02, -5.00819162e-02,\n",
       "            8.14727098e-02, -2.07888260e-02,  8.32233578e-02,\n",
       "            1.27400652e-01],\n",
       "          [ 9.23970342e-02,  8.83105248e-02, -7.62556791e-02,\n",
       "           -4.29663062e-03,  1.27267018e-01, -9.17188674e-02,\n",
       "           -9.98134837e-02],\n",
       "          [ 1.12331435e-01,  8.35017413e-02,  1.23527780e-01,\n",
       "            5.57066947e-02,  4.80667204e-02, -1.32238224e-01,\n",
       "           -5.63692525e-02]]],\n",
       " \n",
       " \n",
       "        [[[-1.00077122e-01, -1.12532690e-01, -9.82445329e-02,\n",
       "            2.99767107e-02, -4.13792655e-02, -1.39694914e-01,\n",
       "           -1.57259852e-02],\n",
       "          [-1.20162323e-01, -1.29332989e-02, -2.83122063e-02,\n",
       "            1.33275881e-01,  4.06194925e-02, -1.68446302e-02,\n",
       "            2.84396559e-02],\n",
       "          [-8.16863626e-02,  4.02197242e-02,  1.30909935e-01,\n",
       "            6.92605972e-04,  4.91061956e-02, -3.90277132e-02,\n",
       "            9.10012424e-02],\n",
       "          [-2.47453153e-03, -1.25460893e-01,  3.11452895e-02,\n",
       "           -7.60885328e-02, -1.58920139e-02, -8.46917033e-02,\n",
       "            3.91631275e-02],\n",
       "          [ 1.03239790e-01,  1.21193931e-01, -1.14554122e-01,\n",
       "           -4.56569046e-02,  8.40293020e-02,  6.78673387e-04,\n",
       "            7.33838081e-02],\n",
       "          [ 3.23778689e-02, -5.28283119e-02, -2.75466964e-02,\n",
       "           -7.42140561e-02,  4.26626205e-03,  9.29699987e-02,\n",
       "            5.43332249e-02],\n",
       "          [-2.39913166e-02, -1.29290074e-01,  1.16040096e-01,\n",
       "           -9.71098691e-02,  1.34796813e-01,  1.11140504e-01,\n",
       "            1.34178102e-02]]],\n",
       " \n",
       " \n",
       "        [[[ 2.29325444e-02,  8.72547179e-02,  7.95184523e-02,\n",
       "            8.78964365e-03,  1.18312821e-01,  4.92255241e-02,\n",
       "            9.89637375e-02],\n",
       "          [-3.54453847e-02,  4.24665213e-02,  1.96374208e-02,\n",
       "           -2.25065947e-02, -1.37832493e-01,  1.03590682e-01,\n",
       "            6.87225759e-02],\n",
       "          [-1.27542064e-01, -1.18674606e-01,  1.99983120e-02,\n",
       "           -9.79895145e-02,  8.28690231e-02, -1.68405622e-02,\n",
       "            8.67217034e-02],\n",
       "          [ 8.64238143e-02, -3.42402309e-02, -1.10819072e-01,\n",
       "            1.25978753e-01, -9.19956192e-02,  1.17291614e-01,\n",
       "           -1.21032737e-01],\n",
       "          [ 6.05988652e-02, -5.97444475e-02,  1.10046163e-01,\n",
       "           -2.47864872e-02,  8.99729878e-02,  6.84860349e-03,\n",
       "            4.11449969e-02],\n",
       "          [ 8.77807736e-02,  1.27013132e-01, -7.33882189e-02,\n",
       "           -1.32263228e-01,  8.35539252e-02, -6.69298917e-02,\n",
       "            1.32805988e-01],\n",
       "          [-1.17110208e-01,  8.23259503e-02,  1.12947747e-01,\n",
       "           -1.37092188e-01,  1.98899060e-02, -3.17863896e-02,\n",
       "           -9.42496955e-02]]],\n",
       " \n",
       " \n",
       "        [[[-6.76168054e-02, -9.77837741e-02, -5.55546135e-02,\n",
       "           -8.35188851e-02,  8.17806572e-02, -3.58522311e-02,\n",
       "           -6.62240982e-02],\n",
       "          [-1.29797190e-01, -4.23466861e-02, -6.52648509e-03,\n",
       "            1.36584505e-01,  1.09052941e-01, -1.16886400e-01,\n",
       "            1.06713369e-01],\n",
       "          [-1.23277128e-01,  3.76741886e-02,  9.09528583e-02,\n",
       "           -4.19499204e-02, -6.48695603e-02, -1.60730779e-02,\n",
       "           -8.77462849e-02],\n",
       "          [ 1.32206365e-01, -7.95857608e-03,  1.52360946e-02,\n",
       "            1.32562205e-01,  8.04250240e-02, -3.13934758e-02,\n",
       "           -1.05485156e-01],\n",
       "          [-1.01543531e-01, -9.33457837e-02, -7.50709772e-02,\n",
       "           -7.84518272e-02, -5.04715443e-02,  4.44985479e-02,\n",
       "           -1.37587667e-01],\n",
       "          [-6.49086088e-02,  5.03394753e-02,  4.40317392e-02,\n",
       "            7.48953968e-02,  3.07798088e-02,  2.90707350e-02,\n",
       "           -4.36023846e-02],\n",
       "          [-4.63008881e-04,  1.23246416e-01, -1.08756088e-01,\n",
       "           -7.24017322e-02, -1.39516503e-01, -9.38516706e-02,\n",
       "            1.38616934e-01]]],\n",
       " \n",
       " \n",
       "        [[[ 7.98861384e-02,  2.48988569e-02, -1.01077408e-01,\n",
       "            6.07455522e-02,  1.23523042e-01, -7.11701661e-02,\n",
       "           -5.72687909e-02],\n",
       "          [-1.37940049e-04,  1.88829005e-02, -7.98573866e-02,\n",
       "            3.74045968e-02, -8.97604600e-02,  5.77820837e-03,\n",
       "           -6.62418455e-02],\n",
       "          [ 1.08082905e-01,  1.20053783e-01, -3.14527228e-02,\n",
       "            1.05414718e-01, -1.14946917e-01, -1.24560632e-01,\n",
       "            1.90954655e-02],\n",
       "          [-1.03263944e-01, -6.92862272e-02,  6.86522424e-02,\n",
       "           -1.45729035e-02, -3.42093036e-02,  6.32398725e-02,\n",
       "            7.87784457e-02],\n",
       "          [ 9.86680537e-02,  5.95288128e-02, -1.16847165e-01,\n",
       "            1.42225161e-01,  3.04842293e-02,  5.80281019e-04,\n",
       "           -7.17882812e-03],\n",
       "          [ 1.33550689e-01,  5.91220856e-02,  8.83899927e-02,\n",
       "           -1.39398694e-01, -9.32069048e-02, -3.55364978e-02,\n",
       "           -9.03076306e-02],\n",
       "          [ 3.24532837e-02, -1.21705741e-01, -8.19201842e-02,\n",
       "            1.29057184e-01, -8.51458311e-02,  5.32282591e-02,\n",
       "            3.97541225e-02]]]], dtype=float32),\n",
       " 'localization.0.bias': array([-0.09673631,  0.09688537, -0.00999424, -0.00979793, -0.08057203,\n",
       "         0.03295422, -0.02537984,  0.08194841], dtype=float32),\n",
       " 'localization.3.weight': array([[[[-1.43184662e-02, -3.27298120e-02,  4.40590456e-02,\n",
       "            2.81549692e-02, -4.37763333e-02],\n",
       "          [-6.88066706e-02,  6.75757229e-03,  3.88928503e-03,\n",
       "           -2.01164298e-02,  6.69432953e-02],\n",
       "          [ 3.93567979e-03,  1.38559565e-02,  4.97895852e-02,\n",
       "           -5.63912205e-02,  6.74989596e-02],\n",
       "          [-6.53624162e-02, -3.34719755e-02,  6.66661039e-02,\n",
       "           -2.16534920e-02,  7.58045912e-03],\n",
       "          [ 5.90811446e-02, -5.17733395e-03, -6.18298501e-02,\n",
       "           -2.97069363e-02, -5.62800989e-02]],\n",
       " \n",
       "         [[ 7.07989186e-03,  4.49377149e-02,  5.48112765e-02,\n",
       "            3.57114226e-02, -5.68220802e-02],\n",
       "          [ 5.21870479e-02, -2.80765556e-02, -2.57986002e-02,\n",
       "           -4.88766395e-02, -6.10362589e-02],\n",
       "          [ 2.46806741e-02,  1.19132996e-02, -4.44162637e-03,\n",
       "            4.03293520e-02, -2.41471194e-02],\n",
       "          [ 4.54308242e-02,  2.32524350e-02, -5.12804165e-02,\n",
       "           -1.14291906e-04, -5.29202074e-02],\n",
       "          [-5.64034879e-02,  4.78962958e-02,  2.24454850e-02,\n",
       "            6.76107779e-02,  1.99541450e-02]],\n",
       " \n",
       "         [[ 5.19182906e-02, -5.68882152e-02, -3.51039432e-02,\n",
       "            2.97611579e-02,  6.58080652e-02],\n",
       "          [ 6.64842501e-02,  4.20662016e-02,  7.78205693e-03,\n",
       "            2.12330446e-02, -5.84042743e-02],\n",
       "          [-5.73939532e-02,  4.47105244e-02,  2.75316834e-02,\n",
       "            6.62521198e-02,  5.06779850e-02],\n",
       "          [-1.68364123e-02,  5.55734858e-02,  1.14944503e-02,\n",
       "            2.16169879e-02, -4.39099222e-03],\n",
       "          [-5.12353629e-02,  3.66902351e-02,  2.75779963e-02,\n",
       "            3.74717265e-02,  4.77236211e-02]],\n",
       " \n",
       "         ...,\n",
       " \n",
       "         [[ 4.70820591e-02,  1.68636739e-02,  6.84417710e-02,\n",
       "           -4.86357547e-02, -3.10285538e-02],\n",
       "          [ 2.94129625e-02, -3.68793979e-02, -5.74625693e-02,\n",
       "           -5.36960810e-02, -3.63390408e-02],\n",
       "          [ 1.43990219e-02,  4.81926501e-02, -1.98819265e-02,\n",
       "           -3.08948644e-02, -1.39323659e-02],\n",
       "          [ 4.98619750e-02, -1.69568919e-02, -3.57509665e-02,\n",
       "           -4.60253209e-02, -2.56767869e-03],\n",
       "          [ 2.66752467e-02,  2.95881182e-02,  5.90531901e-02,\n",
       "           -3.90048437e-02,  6.30394593e-02]],\n",
       " \n",
       "         [[ 5.10613620e-03,  4.92716581e-03,  2.52410844e-02,\n",
       "           -1.99610852e-02,  6.13393113e-02],\n",
       "          [ 5.99143580e-02, -4.22237515e-02,  2.38111243e-02,\n",
       "           -2.94461064e-02, -9.13134217e-03],\n",
       "          [ 1.80627480e-02, -5.99015318e-02, -5.69386035e-03,\n",
       "           -6.53693601e-02,  4.67250273e-02],\n",
       "          [ 2.94344425e-02,  5.56126758e-02,  3.77229750e-02,\n",
       "            3.72405499e-02, -1.75037384e-02],\n",
       "          [ 2.32011899e-02, -5.10062948e-02,  4.81570587e-02,\n",
       "            1.28919482e-02,  1.35708600e-03]],\n",
       " \n",
       "         [[ 5.97713217e-02,  5.31062782e-02,  6.33677170e-02,\n",
       "           -1.33359469e-02,  3.98707315e-02],\n",
       "          [-3.86179946e-02, -6.05132580e-02, -4.35148254e-02,\n",
       "            6.88604489e-02,  5.56549206e-02],\n",
       "          [ 3.60439271e-02, -6.06802367e-02, -1.03813931e-02,\n",
       "           -5.49370646e-02, -3.24391574e-03],\n",
       "          [ 6.20968640e-03, -7.85906613e-03,  6.86544180e-03,\n",
       "            7.27631897e-03,  6.53970465e-02],\n",
       "          [ 6.47291616e-02, -4.83091176e-03, -3.87034453e-02,\n",
       "            5.42104319e-02, -6.81358948e-02]]],\n",
       " \n",
       " \n",
       "        [[[-7.85803795e-03,  6.15285411e-02, -5.10834157e-04,\n",
       "           -5.38701639e-02,  2.40181014e-02],\n",
       "          [ 1.23858154e-02, -2.81039067e-02,  5.96931651e-02,\n",
       "           -1.93417370e-02, -6.09532744e-03],\n",
       "          [-1.72242112e-02, -6.98740333e-02, -5.59609532e-02,\n",
       "           -7.95071572e-03,  2.24613920e-02],\n",
       "          [-1.51385330e-02, -1.33362487e-02, -3.48080136e-02,\n",
       "           -1.22009814e-02, -6.09236434e-02],\n",
       "          [-5.29610142e-02, -1.92642212e-02, -1.32918283e-02,\n",
       "           -5.07455170e-02, -3.36646438e-02]],\n",
       " \n",
       "         [[-4.30951454e-02, -5.33005930e-02,  5.06041050e-02,\n",
       "           -5.10042831e-02,  6.57771453e-02],\n",
       "          [-4.62755784e-02,  2.32711211e-02,  3.61291543e-02,\n",
       "           -3.14854607e-02, -4.82089818e-04],\n",
       "          [-3.98427472e-02,  2.77938619e-02, -7.00839385e-02,\n",
       "            5.15182167e-02, -3.17118391e-02],\n",
       "          [-5.36010824e-02,  4.10594791e-02, -6.55760393e-02,\n",
       "           -2.53364258e-02, -6.28729239e-02],\n",
       "          [-6.53245300e-02,  4.76429909e-02, -4.13672850e-02,\n",
       "            7.76850432e-03, -1.41328014e-02]],\n",
       " \n",
       "         [[ 2.61117294e-02,  3.30783650e-02, -1.81648135e-02,\n",
       "           -9.25126672e-03, -2.28976682e-02],\n",
       "          [ 5.42253256e-02,  5.07193059e-02, -3.37988138e-02,\n",
       "           -3.73144038e-02,  1.09373406e-02],\n",
       "          [-4.18528169e-02, -2.54691392e-03,  2.69946307e-02,\n",
       "            6.73886016e-02,  6.02562949e-02],\n",
       "          [-3.35681960e-02,  9.04268771e-03,  5.27755395e-02,\n",
       "            5.09441271e-02, -6.10638484e-02],\n",
       "          [-1.84283145e-02,  6.74091354e-02, -2.96792313e-02,\n",
       "            4.18399721e-02, -3.53059210e-02]],\n",
       " \n",
       "         ...,\n",
       " \n",
       "         [[ 5.62757477e-02, -4.34047803e-02,  5.93622997e-02,\n",
       "            5.46325743e-03,  3.46529409e-02],\n",
       "          [-4.70383912e-02, -2.11866722e-02,  6.55135736e-02,\n",
       "            3.87900919e-02, -5.14259003e-02],\n",
       "          [ 4.32764813e-02, -4.55894321e-03,  5.16073704e-02,\n",
       "            8.44193250e-03, -5.23199514e-02],\n",
       "          [-3.99678349e-02,  6.66473061e-03, -1.61015317e-02,\n",
       "           -3.16182822e-02,  3.60418260e-02],\n",
       "          [-1.43090673e-02,  1.80283561e-02,  1.99109167e-02,\n",
       "           -4.69466746e-02, -5.28721623e-02]],\n",
       " \n",
       "         [[-4.45731021e-02, -6.28485009e-02, -6.74016774e-03,\n",
       "           -3.82512584e-02, -3.77849564e-02],\n",
       "          [-9.36313346e-03, -5.39017580e-02, -4.29630913e-02,\n",
       "           -2.32068636e-02,  6.05161563e-02],\n",
       "          [-3.46433632e-02, -4.33341265e-02, -3.97175923e-02,\n",
       "            1.27362534e-02,  6.08516261e-02],\n",
       "          [ 6.68359548e-03, -1.12749748e-02, -5.93759269e-02,\n",
       "            1.54786557e-02, -5.46498224e-02],\n",
       "          [ 1.08773485e-02, -3.35175022e-02, -5.14313541e-02,\n",
       "            4.11298946e-02, -1.71076097e-02]],\n",
       " \n",
       "         [[ 2.61567086e-02, -4.43410315e-02, -5.81742115e-02,\n",
       "            8.06827098e-03,  6.00495711e-02],\n",
       "          [-1.26695372e-02,  5.34269884e-02, -6.51146099e-02,\n",
       "            2.76811346e-02, -5.78040406e-02],\n",
       "          [ 3.22919860e-02, -4.17799130e-02, -2.31525227e-02,\n",
       "            1.99923441e-02,  3.07305604e-02],\n",
       "          [ 1.75361261e-02,  1.88160464e-02, -4.26955670e-02,\n",
       "            4.68853340e-02, -3.43170948e-02],\n",
       "          [-3.54238227e-02, -3.95568423e-02,  4.10097390e-02,\n",
       "           -4.55904752e-02, -5.63256517e-02]]],\n",
       " \n",
       " \n",
       "        [[[ 3.44543830e-02, -2.20304877e-02, -1.58343203e-02,\n",
       "            3.92633006e-02,  3.85087654e-02],\n",
       "          [ 6.85113668e-03, -2.20884047e-02,  1.21102482e-02,\n",
       "            4.06532958e-02, -2.67993286e-02],\n",
       "          [-5.55815548e-02,  2.02005953e-02,  5.00776991e-02,\n",
       "            6.90422878e-02,  1.48805007e-02],\n",
       "          [ 2.11403072e-02,  2.43061334e-02, -6.84721842e-02,\n",
       "           -2.86672749e-02, -4.53585386e-03],\n",
       "          [-1.13616884e-02, -2.89069563e-02,  7.04162791e-02,\n",
       "           -1.34497508e-02, -1.44177899e-02]],\n",
       " \n",
       "         [[ 2.24765241e-02,  7.00274333e-02, -3.02980058e-02,\n",
       "            3.67726311e-02, -5.21384627e-02],\n",
       "          [-5.50494939e-02, -9.62352380e-03,  1.98543817e-03,\n",
       "           -8.77513364e-03,  2.96906829e-02],\n",
       "          [-4.89565060e-02,  5.51286563e-02, -1.62467435e-02,\n",
       "            2.44093910e-02, -7.42159784e-03],\n",
       "          [ 5.57676330e-02,  3.94678935e-02, -3.74842547e-02,\n",
       "           -1.22243986e-02,  4.70097885e-02],\n",
       "          [ 1.80175900e-02,  6.02615699e-02,  5.59317246e-02,\n",
       "            1.58577189e-02, -6.65194020e-02]],\n",
       " \n",
       "         [[-9.83486697e-03,  3.19662988e-02, -2.76878476e-04,\n",
       "            3.78157720e-02, -5.10557741e-03],\n",
       "          [-5.20148613e-02, -5.03771454e-02,  4.49155793e-02,\n",
       "            5.57404384e-02, -3.50291505e-02],\n",
       "          [-5.22733703e-02, -4.11046930e-02, -4.23342176e-02,\n",
       "            2.72955000e-03,  5.30449376e-02],\n",
       "          [-6.77142590e-02, -3.44651975e-02,  2.81790420e-02,\n",
       "            1.44397989e-02,  5.31997383e-02],\n",
       "          [-6.50433525e-02, -6.61475062e-02,  7.05435798e-02,\n",
       "            3.27138603e-02,  3.00229639e-02]],\n",
       " \n",
       "         ...,\n",
       " \n",
       "         [[ 1.72498375e-02, -9.10136849e-03, -2.98377462e-02,\n",
       "           -6.96752742e-02, -2.30199769e-02],\n",
       "          [ 1.01360157e-02,  5.89348450e-02, -4.27656770e-02,\n",
       "            5.62952384e-02, -3.73754390e-02],\n",
       "          [-3.37383077e-02,  4.06284630e-03, -6.02567121e-02,\n",
       "            3.03865075e-02,  9.74223018e-04],\n",
       "          [ 1.74889788e-02, -3.37107778e-02,  3.21184769e-02,\n",
       "           -4.58693504e-02, -7.05340505e-03],\n",
       "          [ 1.81908235e-02, -5.27044833e-02,  3.90369073e-02,\n",
       "           -2.92573757e-02, -1.55665502e-02]],\n",
       " \n",
       "         [[ 4.73575145e-02, -3.83944809e-02,  3.07293087e-02,\n",
       "            5.72652742e-02,  5.23459688e-02],\n",
       "          [ 6.69521615e-02, -2.71356516e-02,  1.49234980e-02,\n",
       "            2.37055942e-02, -6.66850060e-02],\n",
       "          [ 4.31830510e-02,  1.10506713e-02,  1.29572824e-02,\n",
       "            4.97485921e-02, -3.32536884e-02],\n",
       "          [-1.03150718e-02, -4.21792939e-02,  1.52082592e-02,\n",
       "           -4.08862904e-02,  7.01056346e-02],\n",
       "          [-2.09200382e-03,  2.11892948e-02, -1.66621096e-02,\n",
       "           -2.60181017e-02,  6.92751929e-02]],\n",
       " \n",
       "         [[-5.50028197e-02, -4.85943258e-02,  2.82339454e-02,\n",
       "            1.26800463e-02, -5.60281873e-02],\n",
       "          [ 3.00246775e-02,  9.25420225e-03,  5.34891933e-02,\n",
       "           -1.56462193e-07,  5.10195866e-02],\n",
       "          [ 4.23687771e-02, -5.34284860e-03, -5.04752025e-02,\n",
       "           -6.59915060e-03, -5.24291992e-02],\n",
       "          [ 4.36752886e-02, -9.98267531e-03, -3.76144871e-02,\n",
       "            4.60461751e-02,  3.14548388e-02],\n",
       "          [ 1.07995495e-02,  3.19596007e-02,  1.57743320e-02,\n",
       "           -3.74182761e-02,  2.92249694e-02]]],\n",
       " \n",
       " \n",
       "        ...,\n",
       " \n",
       " \n",
       "        [[[-3.86997685e-02,  1.83141753e-02, -2.31245793e-02,\n",
       "           -6.91106319e-02, -1.50933340e-02],\n",
       "          [-9.87933949e-03,  1.43013895e-03,  1.68038160e-02,\n",
       "            2.21704170e-02, -2.85078511e-02],\n",
       "          [-2.46211141e-03, -3.70522998e-02,  3.41005698e-02,\n",
       "            6.69669434e-02,  5.73725477e-02],\n",
       "          [ 3.93596590e-02, -3.44869718e-02, -6.63076341e-03,\n",
       "            6.93900064e-02, -4.63369042e-02],\n",
       "          [ 7.38608092e-03,  1.84471607e-02,  6.62914589e-02,\n",
       "            3.64405513e-02,  1.82662308e-02]],\n",
       " \n",
       "         [[ 3.48869860e-02, -6.13493770e-02, -8.11164826e-03,\n",
       "           -6.09099939e-02,  4.70604822e-02],\n",
       "          [ 1.80321336e-02, -1.67300589e-02, -4.37991768e-02,\n",
       "           -3.93415391e-02, -6.72919303e-02],\n",
       "          [ 6.91804364e-02, -1.53155848e-02,  2.26067901e-02,\n",
       "           -5.22261858e-02,  6.91780075e-02],\n",
       "          [-3.59134749e-02, -2.35347934e-02, -6.80909902e-02,\n",
       "            3.99360433e-02, -2.02461332e-03],\n",
       "          [ 5.15296385e-02,  9.38662887e-03, -4.50544357e-02,\n",
       "            6.01738617e-02, -5.94604239e-02]],\n",
       " \n",
       "         [[-2.42587589e-02,  1.98637694e-02,  2.84332335e-02,\n",
       "           -6.79029077e-02, -3.57668847e-03],\n",
       "          [-4.83212806e-02,  2.47627050e-02, -5.95790669e-02,\n",
       "            2.72152647e-02, -9.71038267e-03],\n",
       "          [ 4.68349606e-02,  3.10667530e-02,  2.68375352e-02,\n",
       "            1.51530206e-02,  5.85572794e-02],\n",
       "          [ 1.25430003e-02, -6.75495192e-02,  1.91544220e-02,\n",
       "            8.47686082e-03,  6.37580082e-02],\n",
       "          [-5.60624078e-02, -3.01024318e-03,  7.23890960e-04,\n",
       "            7.01178089e-02, -2.95799151e-02]],\n",
       " \n",
       "         ...,\n",
       " \n",
       "         [[ 1.50813162e-03, -2.08810084e-02,  4.72186655e-02,\n",
       "           -2.57481262e-02,  5.51384762e-02],\n",
       "          [ 6.12802282e-02,  7.05294311e-04, -2.79242769e-02,\n",
       "            5.24541289e-02,  3.74818444e-02],\n",
       "          [ 8.93974304e-03,  5.61102852e-02,  5.15314192e-02,\n",
       "           -4.62470874e-02,  1.98800340e-02],\n",
       "          [-4.42934260e-02, -3.30621302e-02,  2.57225856e-02,\n",
       "            6.68111667e-02,  1.03716552e-03],\n",
       "          [-1.63815022e-02, -1.62524246e-02,  1.72469765e-02,\n",
       "            3.51475477e-02, -2.80051827e-02]],\n",
       " \n",
       "         [[ 6.76045194e-02,  6.94042370e-02, -2.99090892e-03,\n",
       "            2.07419172e-02,  8.04995745e-03],\n",
       "          [ 1.22085512e-02,  5.13150766e-02, -2.54469290e-02,\n",
       "           -1.14865266e-02,  6.29928038e-02],\n",
       "          [-1.26833618e-02, -3.24519724e-02,  4.89704832e-02,\n",
       "            3.99135500e-02,  5.03785089e-02],\n",
       "          [ 2.03343034e-02, -2.43387185e-02,  3.06918845e-02,\n",
       "           -4.11048308e-02,  4.06193584e-02],\n",
       "          [-1.69426613e-02, -1.46825872e-02, -2.08551809e-02,\n",
       "           -2.28002667e-04,  1.32260919e-02]],\n",
       " \n",
       "         [[-3.10222246e-02,  6.32624254e-02, -6.56066462e-02,\n",
       "            1.29674152e-02, -4.69384342e-02],\n",
       "          [ 3.21985409e-02, -2.47222818e-02, -6.86720908e-02,\n",
       "            6.72103241e-02, -1.82883106e-02],\n",
       "          [-1.77664049e-02, -4.03558873e-02,  5.22291660e-02,\n",
       "            6.92191944e-02, -7.05742091e-03],\n",
       "          [-4.51193750e-02,  6.12709001e-02,  2.30005383e-02,\n",
       "           -4.85207364e-02,  2.98013836e-02],\n",
       "          [-4.17036414e-02,  2.54903138e-02, -1.13440603e-02,\n",
       "           -3.49288136e-02, -9.71141830e-03]]],\n",
       " \n",
       " \n",
       "        [[[-5.79246432e-02, -3.71883586e-02, -5.93466349e-02,\n",
       "           -6.92894086e-02,  5.77120855e-02],\n",
       "          [ 4.97355238e-02,  8.72120261e-03, -6.00088388e-02,\n",
       "            4.71662283e-02,  2.92567611e-02],\n",
       "          [-3.44306901e-02, -2.91543677e-02,  2.83937529e-02,\n",
       "           -3.80396061e-02, -7.04245269e-03],\n",
       "          [-5.14144376e-02, -2.04182677e-02,  1.95924044e-02,\n",
       "            4.49783579e-02,  6.68993965e-02],\n",
       "          [ 7.05900416e-02,  2.77189314e-02, -4.49507982e-02,\n",
       "            5.51866964e-02, -2.27548182e-04]],\n",
       " \n",
       "         [[-4.60457727e-02, -1.68160796e-02, -3.38577889e-02,\n",
       "           -6.38945252e-02, -3.32160071e-02],\n",
       "          [ 6.54900149e-02,  5.73026165e-02,  6.73559383e-02,\n",
       "            4.92454469e-02, -6.82488382e-02],\n",
       "          [-3.79828364e-03,  3.33094969e-02, -2.64687203e-02,\n",
       "            6.66988716e-02,  3.17417905e-02],\n",
       "          [-3.52463238e-02,  4.60669622e-02,  4.14502099e-02,\n",
       "            1.76928490e-02,  3.90961170e-02],\n",
       "          [ 7.92273879e-03, -4.74008508e-02,  2.45258436e-02,\n",
       "           -3.37642618e-02, -1.62364915e-02]],\n",
       " \n",
       "         [[-1.66670568e-02,  7.82988966e-03, -4.47798744e-02,\n",
       "            1.44617260e-02, -3.68582048e-02],\n",
       "          [-2.01282725e-02, -4.91064340e-02, -6.26560003e-02,\n",
       "           -7.45557249e-04, -6.54152185e-02],\n",
       "          [-3.72177325e-02,  1.79076567e-02,  1.02732703e-02,\n",
       "           -2.43945047e-02, -4.43782583e-02],\n",
       "          [-4.93691340e-02,  5.33283427e-02, -7.03387931e-02,\n",
       "            1.27089024e-03,  6.63628429e-03],\n",
       "          [-7.55947083e-03,  5.73219284e-02, -4.66003306e-02,\n",
       "           -3.84611078e-02,  2.58800387e-03]],\n",
       " \n",
       "         ...,\n",
       " \n",
       "         [[ 2.16594040e-02, -4.81504835e-02,  2.24597529e-02,\n",
       "           -4.90540043e-02,  3.19350734e-02],\n",
       "          [ 2.60775238e-02,  9.57126915e-03,  2.40929425e-02,\n",
       "            2.55675167e-02,  4.43559438e-02],\n",
       "          [ 4.76651937e-02, -6.98446557e-02,  7.03168586e-02,\n",
       "           -5.04060760e-02,  4.37455177e-02],\n",
       "          [ 1.13974437e-02, -3.88335362e-02,  6.61900863e-02,\n",
       "            4.63546589e-02, -3.21500748e-03],\n",
       "          [-2.32113674e-02,  6.32622167e-02,  6.73827007e-02,\n",
       "            5.13432249e-02, -5.01322299e-02]],\n",
       " \n",
       "         [[ 2.78165787e-02,  4.28066999e-02,  5.35812229e-03,\n",
       "           -6.21884093e-02,  4.19885144e-02],\n",
       "          [-3.26063372e-02,  2.97556520e-02,  5.49337938e-02,\n",
       "            6.28035888e-02, -2.58783996e-03],\n",
       "          [-3.59195620e-02,  1.49446353e-02,  6.97595403e-02,\n",
       "           -3.29301096e-02,  8.99254531e-03],\n",
       "          [ 3.59992906e-02,  2.58651376e-03, -3.48625258e-02,\n",
       "           -7.03624412e-02,  3.13997269e-02],\n",
       "          [-6.07821494e-02,  6.77289888e-02,  8.44284892e-04,\n",
       "            2.48952881e-02, -9.76865366e-03]],\n",
       " \n",
       "         [[ 5.28141931e-02, -6.70629889e-02,  2.59250998e-02,\n",
       "            1.50784254e-02,  1.90431774e-02],\n",
       "          [-3.05377282e-02, -3.30095328e-02,  6.82866946e-02,\n",
       "            3.79063413e-02,  6.92922696e-02],\n",
       "          [ 1.96891204e-02, -1.19688697e-02, -5.61613962e-02,\n",
       "           -5.80426790e-02,  3.64301428e-02],\n",
       "          [ 2.47026905e-02, -4.51518036e-02, -3.92510258e-02,\n",
       "            1.97412744e-02,  1.40204653e-02],\n",
       "          [-6.43767416e-04, -4.19203714e-02, -2.92080790e-02,\n",
       "           -4.30120528e-03, -5.44970483e-03]]],\n",
       " \n",
       " \n",
       "        [[[ 6.92131743e-02,  5.54826930e-02, -1.63505003e-02,\n",
       "            4.91570085e-02,  2.06420571e-02],\n",
       "          [-4.86003608e-02, -3.15599889e-03,  5.58053628e-02,\n",
       "            5.15580475e-02,  4.38835770e-02],\n",
       "          [ 3.73953432e-02,  1.69650912e-02, -6.28429651e-02,\n",
       "            2.47694403e-02, -2.42535397e-02],\n",
       "          [ 5.22641465e-02, -6.42179400e-02,  4.04016227e-02,\n",
       "            6.61660507e-02,  3.38628441e-02],\n",
       "          [-3.27687711e-02, -2.75350362e-03,  4.08060774e-02,\n",
       "            2.39022821e-02,  1.53163671e-02]],\n",
       " \n",
       "         [[-1.28949806e-02,  3.03443149e-02, -6.07837997e-02,\n",
       "            2.37644240e-02, -2.72449628e-02],\n",
       "          [ 4.57232669e-02, -5.76342158e-02,  2.02129036e-03,\n",
       "            2.49875113e-02, -2.60644220e-02],\n",
       "          [ 3.76110077e-02,  2.13998407e-02,  2.34188214e-02,\n",
       "            2.18964368e-03,  1.37075409e-02],\n",
       "          [-3.21764238e-02, -5.11765182e-02,  3.72024700e-02,\n",
       "            1.78020820e-02,  6.31567314e-02],\n",
       "          [-1.42856315e-02,  6.16745725e-02,  4.90117222e-02,\n",
       "            6.96849599e-02, -4.07571755e-02]],\n",
       " \n",
       "         [[-4.39260118e-02, -4.08293381e-02, -2.14293115e-02,\n",
       "           -4.16714586e-02,  2.73804218e-02],\n",
       "          [ 6.13184646e-02,  2.97378302e-02,  2.53680423e-02,\n",
       "           -3.36651504e-02,  4.99389544e-02],\n",
       "          [-2.69755088e-02,  7.12869316e-03,  5.58830723e-02,\n",
       "           -4.22972068e-02,  2.94159576e-02],\n",
       "          [-4.11801636e-02,  4.48797941e-02, -5.45240715e-02,\n",
       "            6.76009730e-02, -2.45639756e-02],\n",
       "          [-4.37869877e-03,  1.36985555e-02, -1.04863979e-02,\n",
       "           -6.41220808e-02,  2.43641138e-02]],\n",
       " \n",
       "         ...,\n",
       " \n",
       "         [[-3.88790108e-02,  6.37912825e-02, -6.15043007e-02,\n",
       "           -3.27289440e-02,  9.95592773e-03],\n",
       "          [ 1.77748948e-02,  1.46987066e-02,  6.52740374e-02,\n",
       "           -1.95895433e-02,  1.41641721e-02],\n",
       "          [ 2.43172050e-03,  4.43543121e-02,  4.78320569e-02,\n",
       "           -1.05301477e-02, -5.74511290e-03],\n",
       "          [ 2.31008679e-02, -1.77074522e-02, -1.30237490e-02,\n",
       "           -6.98543116e-02, -1.01149082e-03],\n",
       "          [-2.38927454e-03,  6.24673590e-02,  2.67684907e-02,\n",
       "            7.06451759e-02,  1.58698037e-02]],\n",
       " \n",
       "         [[ 1.76059902e-02, -4.37962003e-02, -2.43220218e-02,\n",
       "           -5.91145754e-02, -3.17457058e-02],\n",
       "          [ 1.76351368e-02, -3.58918309e-03,  5.01106009e-02,\n",
       "            2.06715018e-02,  6.72721192e-02],\n",
       "          [ 3.89475152e-02,  7.05637708e-02,  7.89570808e-03,\n",
       "           -3.89068462e-02, -6.84464723e-03],\n",
       "          [ 4.81992662e-02,  3.24960947e-02, -3.49244736e-02,\n",
       "           -2.51904316e-02,  1.79209560e-02],\n",
       "          [-2.53477469e-02, -2.17247792e-02, -5.09277582e-02,\n",
       "           -4.95366752e-04,  6.88497052e-02]],\n",
       " \n",
       "         [[-8.52037221e-03,  3.97606045e-02, -5.63962385e-02,\n",
       "            2.90708244e-03, -4.51230183e-02],\n",
       "          [-4.26992029e-03,  5.61886281e-03, -5.21479547e-02,\n",
       "           -9.97721404e-03,  3.76789868e-02],\n",
       "          [-3.89974117e-02, -6.34495765e-02,  3.60945612e-03,\n",
       "           -2.66169906e-02,  9.06293839e-03],\n",
       "          [-3.70394774e-02, -5.26150763e-02, -4.42755595e-02,\n",
       "            8.87480378e-03, -4.76863980e-03],\n",
       "          [-4.15835977e-02,  4.89411131e-02, -5.09959534e-02,\n",
       "            2.02093571e-02,  7.70605356e-03]]]], dtype=float32),\n",
       " 'localization.3.bias': array([-0.03609057,  0.05127153,  0.01701391, -0.00789122,  0.03404973,\n",
       "         0.03143222,  0.02721523, -0.0036841 , -0.04036352, -0.03867874],\n",
       "       dtype=float32),\n",
       " 'fc_loc.0.weight': array([[ 0.02102961, -0.01506441, -0.00630594, ...,  0.02419277,\n",
       "          0.02398915, -0.0332449 ],\n",
       "        [ 0.01225989, -0.03730776,  0.01706313, ..., -0.0376048 ,\n",
       "          0.02328942, -0.00797017],\n",
       "        [ 0.02212058,  0.01836989,  0.03097509, ...,  0.03516592,\n",
       "         -0.0203619 , -0.03765339],\n",
       "        ...,\n",
       "        [ 0.02737166, -0.0126928 , -0.03442668, ..., -0.03369844,\n",
       "         -0.01311043,  0.02946546],\n",
       "        [-0.00304662,  0.00458813, -0.03467427, ...,  0.03642597,\n",
       "         -0.0357505 ,  0.02091904],\n",
       "        [-0.0246976 , -0.01926191, -0.03910624, ...,  0.02626171,\n",
       "          0.00959894, -0.03657252]], dtype=float32),\n",
       " 'fc_loc.0.bias': array([ 0.02274678,  0.01584673,  0.01016549, -0.03780685, -0.00899393,\n",
       "        -0.02199503, -0.01324448, -0.00028243, -0.02526879,  0.00560653,\n",
       "        -0.02460434,  0.00388108, -0.01453949, -0.02375438,  0.01014979,\n",
       "        -0.01520661,  0.03804478,  0.03386431,  0.02249853,  0.02202513,\n",
       "         0.00149694,  0.03924998,  0.00839489,  0.00647519,  0.03801508,\n",
       "         0.02533213, -0.01763914, -0.00880379,  0.03579319, -0.01061027,\n",
       "        -0.03064191,  0.03384924], dtype=float32),\n",
       " 'fc_loc.2.weight': array([[ 0.00278927, -0.04666312,  0.04066917,  0.00058641,  0.14479859,\n",
       "          0.10024525,  0.10739361, -0.07471437, -0.09263825, -0.02827053,\n",
       "         -0.10941774, -0.12673916, -0.08008051, -0.08648213, -0.09095071,\n",
       "         -0.05107667,  0.09660362, -0.09206237, -0.15007868, -0.13032326,\n",
       "          0.16643225, -0.07296798, -0.03242905, -0.05141127,  0.01371753,\n",
       "          0.02635297, -0.13269097, -0.02214065, -0.06144834, -0.0888842 ,\n",
       "         -0.07637592,  0.13289283],\n",
       "        [-0.07633393,  0.05888095,  0.00425844,  0.14354573,  0.11181186,\n",
       "          0.01057793,  0.02922772, -0.01434384,  0.11646535,  0.04909794,\n",
       "          0.00455943, -0.09746901, -0.05305985, -0.13008292, -0.09088873,\n",
       "          0.16855158,  0.06990021, -0.09425809, -0.11917017,  0.14476793,\n",
       "         -0.04612137, -0.05397174, -0.06210218, -0.11176891, -0.05485705,\n",
       "         -0.08019694, -0.14581256, -0.03924525, -0.15441447,  0.10360093,\n",
       "         -0.01991451,  0.0432304 ],\n",
       "        [-0.08923008,  0.02949263,  0.04879886,  0.00648707, -0.09444439,\n",
       "         -0.0524433 , -0.00906482,  0.11947523, -0.0164061 ,  0.03913073,\n",
       "         -0.15862897, -0.02397287, -0.12739968,  0.03614971,  0.04167758,\n",
       "         -0.07098566,  0.13024996,  0.15918158, -0.03577003, -0.02565961,\n",
       "          0.00616446, -0.03479671, -0.02256972,  0.0422222 , -0.15487182,\n",
       "         -0.02484079, -0.03080817, -0.03221637,  0.11103646, -0.05221599,\n",
       "          0.12077357,  0.09195311],\n",
       "        [ 0.03206545,  0.10446797,  0.15747894,  0.15542401, -0.15904196,\n",
       "          0.05196948,  0.14361615,  0.08242051, -0.07539934, -0.04210486,\n",
       "         -0.03122887,  0.007622  , -0.00514084, -0.01039641,  0.10774525,\n",
       "         -0.04279867, -0.06466144, -0.00228196, -0.0810295 , -0.13115004,\n",
       "          0.17299633,  0.14549966,  0.1734695 , -0.15474184, -0.1119047 ,\n",
       "          0.13580881, -0.13537472,  0.0288851 ,  0.15463991,  0.00518219,\n",
       "         -0.12780052,  0.12464122],\n",
       "        [-0.11751606,  0.01147394,  0.11733963, -0.02592823, -0.0054992 ,\n",
       "          0.1181498 ,  0.05826351,  0.06558768, -0.03969207, -0.04154259,\n",
       "         -0.01842307, -0.12758504, -0.08162972, -0.12717725,  0.04070659,\n",
       "         -0.15954359, -0.09851471, -0.06850414,  0.04544166, -0.0076149 ,\n",
       "          0.00792915,  0.15803237,  0.15760352, -0.15049076,  0.08317523,\n",
       "          0.16134645,  0.0433239 ,  0.12195267, -0.07423402,  0.01638867,\n",
       "         -0.12170265,  0.03487846],\n",
       "        [-0.06845192,  0.1414661 ,  0.15602134, -0.09610065, -0.05771075,\n",
       "         -0.00955854,  0.08168949, -0.16262993,  0.02604254, -0.03951855,\n",
       "          0.09718721,  0.0183866 ,  0.05344127, -0.10153785, -0.07179562,\n",
       "         -0.07034275,  0.16028737,  0.01911762, -0.08434772, -0.08443194,\n",
       "         -0.14885172,  0.09754704,  0.16654317, -0.03122042,  0.16496538,\n",
       "         -0.05739903, -0.05205169,  0.142181  , -0.07154451,  0.03765319,\n",
       "         -0.03457542, -0.01117286]], dtype=float32),\n",
       " 'fc_loc.2.bias': array([-0.01932614, -0.12698638, -0.06238298, -0.01052921, -0.15716136,\n",
       "        -0.05463646], dtype=float32)}"
      ]
     },
     "execution_count": 35,
     "metadata": {},
     "output_type": "execute_result"
    }
   ],
   "source": [
    "parm"
   ]
  },
  {
   "cell_type": "markdown",
   "metadata": {},
   "source": [
    "### confusion matrix"
   ]
  },
  {
   "cell_type": "code",
   "execution_count": 13,
   "metadata": {},
   "outputs": [],
   "source": [
    "def confusion_matrix(preds, labels, conf_matrix):\n",
    "#     preds = torch.argmax(preds, 1)\n",
    "    for p, t in zip(preds, labels):\n",
    "        conf_matrix[p, t] += 1\n",
    "    return conf_matrix\n",
    "\n",
    "Emotion_kinds = 7\n",
    "conf_matrix = torch.zeros(Emotion_kinds, Emotion_kinds)\n",
    "\n",
    "            \n",
    "net.eval()\n",
    "with torch.no_grad():\n",
    "    for data,labels in test_loader:\n",
    "        output = net(data)\n",
    "        pred = F.softmax(output,dim=1)\n",
    "        result = torch.argmax(pred,1)\n",
    "        conf_matrix = confusion_matrix(result, labels, conf_matrix)"
   ]
  },
  {
   "cell_type": "code",
   "execution_count": 14,
   "metadata": {},
   "outputs": [],
   "source": [
    "#首先定义一个 分类数*分类数 的空混淆矩阵\n",
    "Emotion_kinds = 7\n",
    "conf_matrix = torch.zeros(Emotion_kinds, Emotion_kinds)\n",
    "\n",
    "            \n",
    "net.eval()\n",
    "with torch.no_grad():\n",
    "    for data,labels in test_loader:\n",
    "        output = net(data)\n",
    "        pred = F.softmax(output,dim=1)\n",
    "        result = torch.argmax(pred,1)\n",
    "        conf_matrix = confusion_matrix(result, labels, conf_matrix)\n",
    "\n"
   ]
  },
  {
   "cell_type": "code",
   "execution_count": 15,
   "metadata": {},
   "outputs": [
    {
     "data": {
      "image/png": "[encoded data removed]",
      "text/plain": [
       "<Figure size 432x288 with 1 Axes>"
      ]
     },
     "metadata": {
      "needs_background": "light"
     },
     "output_type": "display_data"
    }
   ],
   "source": [
    "Emotion=7#这个数值是具体的分类数，大家可以自行修改\n",
    "labels = ['angry', 'disgust', 'fearful', 'happy', 'sad','surprised','neutral']#每种类别的标签\n",
    "\n",
    "# 显示数据\n",
    "plt.imshow(conf_matrix, cmap=plt.cm.Blues)\n",
    "\n",
    "# 在图中标注数量/概率信息\n",
    "thresh = conf_matrix.max() / 2\t#数值颜色阈值，如果数值超过这个，就颜色加深。\n",
    "for x in range(Emotion_kinds):\n",
    "    for y in range(Emotion_kinds):\n",
    "        # 注意这里的matrix[y, x]不是matrix[x, y]\n",
    "        info = int(conf_matrix[y, x])\n",
    "        plt.text(x, y, info,\n",
    "                 verticalalignment='center',\n",
    "                 horizontalalignment='center',\n",
    "                 color=\"white\" if info > thresh else \"black\")\n",
    "                 \n",
    "plt.tight_layout()#保证图不重叠\n",
    "plt.yticks(range(Emotion_kinds), labels)\n",
    "plt.xticks(range(Emotion_kinds), labels,rotation=45)#X轴字体倾斜45°\n",
    "plt.show()\n",
    "plt.close()\n"
   ]
  },
  {
   "cell_type": "markdown",
   "metadata": {},
   "source": [
    "angry>suprised>neutral"
   ]
  },
  {
   "cell_type": "code",
   "execution_count": null,
   "metadata": {},
   "outputs": [],
   "source": []
  },
  {
   "cell_type": "code",
   "execution_count": null,
   "metadata": {},
   "outputs": [],
   "source": []
  },
  {
   "cell_type": "code",
   "execution_count": null,
   "metadata": {},
   "outputs": [],
   "source": []
  },
  {
   "cell_type": "code",
   "execution_count": 52,
   "metadata": {},
   "outputs": [
    {
     "name": "stdout",
     "output_type": "stream",
     "text": [
      "(48, 48)\n",
      "tensor(1)\n",
      "(48, 48)\n"
     ]
    },
    {
     "data": {
      "image/png": "[encoded data removed]",
      "text/plain": [
       "<Figure size 432x288 with 1 Axes>"
      ]
     },
     "metadata": {
      "needs_background": "light"
     },
     "output_type": "display_data"
    }
   ],
   "source": [
    "sample_number = 3\n",
    "label = train_dataset.__getitem__(sample_number)[1]\n",
    "print(label)\n",
    "imgg = train_dataset.__getitem__(sample_number)[0]\n",
    "imgnumpy = imgg.numpy()\n",
    "imgt = imgnumpy.squeeze()\n",
    "plt.imshow(imgt)\n",
    "plt.show()\n",
    "\n",
    "\n"
   ]
  },
  {
   "cell_type": "code",
   "execution_count": 53,
   "metadata": {},
   "outputs": [
    {
     "data": {
      "text/plain": [
       "torch.Size([1, 48, 48])"
      ]
     },
     "execution_count": 53,
     "metadata": {},
     "output_type": "execute_result"
    }
   ],
   "source": [
    "imgg.shape"
   ]
  },
  {
   "cell_type": "code",
   "execution_count": 54,
   "metadata": {},
   "outputs": [
    {
     "data": {
      "text/plain": [
       "'KA.DI2.43.tiff'"
      ]
     },
     "execution_count": 54,
     "metadata": {},
     "output_type": "execute_result"
    }
   ],
   "source": [
    "train_dataset.data[3][0]"
   ]
  },
  {
   "cell_type": "code",
   "execution_count": 63,
   "metadata": {},
   "outputs": [
    {
     "data": {
      "text/plain": [
       "Deep_Emotion(\n",
       "  (conv1): Conv2d(1, 10, kernel_size=(3, 3), stride=(1, 1))\n",
       "  (conv2): Conv2d(10, 10, kernel_size=(3, 3), stride=(1, 1))\n",
       "  (pool2): MaxPool2d(kernel_size=2, stride=2, padding=0, dilation=1, ceil_mode=False)\n",
       "  (conv3): Conv2d(10, 10, kernel_size=(3, 3), stride=(1, 1))\n",
       "  (conv4): Conv2d(10, 10, kernel_size=(3, 3), stride=(1, 1))\n",
       "  (pool4): MaxPool2d(kernel_size=2, stride=2, padding=0, dilation=1, ceil_mode=False)\n",
       "  (norm): BatchNorm2d(10, eps=1e-05, momentum=0.1, affine=True, track_running_stats=True)\n",
       "  (fc1): Linear(in_features=810, out_features=50, bias=True)\n",
       "  (fc2): Linear(in_features=50, out_features=7, bias=True)\n",
       "  (localization): Sequential(\n",
       "    (0): Conv2d(1, 8, kernel_size=(7, 7), stride=(1, 1))\n",
       "    (1): MaxPool2d(kernel_size=2, stride=2, padding=0, dilation=1, ceil_mode=False)\n",
       "    (2): ReLU(inplace=True)\n",
       "    (3): Conv2d(8, 10, kernel_size=(5, 5), stride=(1, 1))\n",
       "    (4): MaxPool2d(kernel_size=2, stride=2, padding=0, dilation=1, ceil_mode=False)\n",
       "    (5): ReLU(inplace=True)\n",
       "  )\n",
       "  (fc_loc): Sequential(\n",
       "    (0): Linear(in_features=640, out_features=32, bias=True)\n",
       "    (1): ReLU(inplace=True)\n",
       "    (2): Linear(in_features=32, out_features=6, bias=True)\n",
       "  )\n",
       ")"
      ]
     },
     "execution_count": 63,
     "metadata": {},
     "output_type": "execute_result"
    }
   ],
   "source": []
  },
  {
   "cell_type": "code",
   "execution_count": null,
   "metadata": {},
   "outputs": [],
   "source": []
  }
 ],
 "metadata": {
  "kernelspec": {
   "display_name": "Python [conda env:root] *",
   "language": "python",
   "name": "conda-root-py"
  },
  "language_info": {
   "codemirror_mode": {
    "name": "ipython",
    "version": 3
   },
   "file_extension": ".py",
   "mimetype": "text/x-python",
   "name": "python",
   "nbconvert_exporter": "python",
   "pygments_lexer": "ipython3",
   "version": "3.8.5"
  }
 },
 "nbformat": 4,
 "nbformat_minor": 4
}
