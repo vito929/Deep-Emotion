{
 "cells": [
  {
   "cell_type": "code",
   "execution_count": 1,
   "metadata": {},
   "outputs": [],
   "source": [
    "from __future__ import print_function\n",
    "import argparse\n",
    "import numpy  as np\n",
    "from PIL import Image\n",
    "import torch\n",
    "import torch.nn as nn\n",
    "import torch.nn.functional as F\n",
    "import torchvision\n",
    "import torch.optim as optim\n",
    "from torch.utils.data import DataLoader, Dataset\n",
    "from torch.utils.data.sampler import SubsetRandomSampler\n",
    "from torchvision import transforms\n",
    "\n",
    "from data_loaders import Plain_Dataset, eval_data_dataloader\n",
    "from deep_emotion import Deep_Emotion\n",
    "from generate_data import Generate_data\n",
    "\n",
    "\n",
    "device = torch.device(\"cuda:0\" if torch.cuda.is_available() else \"cpu\")"
   ]
  },
  {
   "cell_type": "code",
   "execution_count": 2,
   "metadata": {},
   "outputs": [],
   "source": [
    "import cv2\n",
    "import os\n",
    "import math\n",
    "import numpy as np\n",
    "import pandas as pd\n",
    "import csv\n",
    "import matplotlib.pyplot as plt\n",
    "data_path = 'jaffe_raw/'\n",
    "save_path = 'jaffe_new/'"
   ]
  },
  {
   "cell_type": "code",
   "execution_count": 3,
   "metadata": {},
   "outputs": [],
   "source": [
    "def Train(epochs,train_loader,val_loader,criterion,optmizer,device):\n",
    "    '''\n",
    "    Training Loop\n",
    "    '''\n",
    "    print(\"===================================Start Training===================================\")\n",
    "    for e in range(epochs):\n",
    "        train_loss = 0\n",
    "        validation_loss = 0\n",
    "        train_correct = 0\n",
    "        val_correct = 0\n",
    "        # Train the model  #\n",
    "        net.train()\n",
    "        for data, labels in train_loader:\n",
    "            data, labels = data.to(device), labels.to(device)\n",
    "            optmizer.zero_grad()\n",
    "            outputs = net(data)\n",
    "            loss = criterion(outputs,labels)\n",
    "            loss.backward()\n",
    "            optmizer.step()\n",
    "            train_loss += loss.item()\n",
    "            _, preds = torch.max(outputs,1)\n",
    "            train_correct += torch.sum(preds == labels.data)\n",
    "\n",
    "        #validate the model#\n",
    "        net.eval()\n",
    "        for data,labels in val_loader:\n",
    "            data, labels = data.to(device), labels.to(device)\n",
    "            val_outputs = net(data)\n",
    "            val_loss = criterion(val_outputs, labels)\n",
    "            validation_loss += val_loss.item()\n",
    "            _, val_preds = torch.max(val_outputs,1)\n",
    "            val_correct += torch.sum(val_preds == labels.data)\n",
    "\n",
    "        train_loss = train_loss/len(train_dataset)\n",
    "        train_acc = train_correct.double() / len(train_dataset)\n",
    "        validation_loss =  validation_loss / len(validation_dataset)\n",
    "        val_acc = val_correct.double() / len(validation_dataset)\n",
    "        print('Epoch: {} \\tTraining Loss: {:.8f} \\tValidation Loss {:.8f} \\tTraining Acuuarcy {:.3f}% \\tValidation Acuuarcy {:.3f}%'\n",
    "                                                           .format(e+1, train_loss,validation_loss,train_acc * 100, val_acc*100))\n",
    "\n",
    "    torch.save(net.state_dict(),'deep_emotion-{}-{}-{}.pt'.format(epochs,batchsize,lr))\n",
    "    print(\"===================================Training Finished===================================\")\n"
   ]
  },
  {
   "cell_type": "code",
   "execution_count": 2,
   "metadata": {},
   "outputs": [],
   "source": [
    "net = Deep_Emotion()\n",
    "a = torch.rand(1,1,48,48)"
   ]
  },
  {
   "cell_type": "code",
   "execution_count": 3,
   "metadata": {},
   "outputs": [
    {
     "name": "stderr",
     "output_type": "stream",
     "text": [
      "D:\\Anacon_Install\\lib\\site-packages\\torch\\nn\\functional.py:4277: UserWarning: Default grid_sample and affine_grid behavior has changed to align_corners=False since 1.3.0. Please specify align_corners=True if the old behavior is desired. See the documentation of grid_sample for details.\n",
      "  warnings.warn(\n",
      "D:\\Anacon_Install\\lib\\site-packages\\torch\\nn\\functional.py:4215: UserWarning: Default grid_sample and affine_grid behavior has changed to align_corners=False since 1.3.0. Please specify align_corners=True if the old behavior is desired. See the documentation of grid_sample for details.\n",
      "  warnings.warn(\n"
     ]
    }
   ],
   "source": [
    "\n",
    "#  [B, C, H, W] \n",
    "out = net(a)"
   ]
  },
  {
   "cell_type": "code",
   "execution_count": 4,
   "metadata": {},
   "outputs": [
    {
     "data": {
      "text/plain": [
       "torch.Size([1, 7])"
      ]
     },
     "execution_count": 4,
     "metadata": {},
     "output_type": "execute_result"
    }
   ],
   "source": [
    "out.shape"
   ]
  },
  {
   "cell_type": "markdown",
   "metadata": {},
   "source": [
    "1. data preprocess \n",
    "    框脸，resize，\n",
    "2. split dataset\n",
    "3. dataloader 测试"
   ]
  },
  {
   "cell_type": "markdown",
   "metadata": {},
   "source": [
    "# jaffe"
   ]
  },
  {
   "cell_type": "markdown",
   "metadata": {},
   "source": [
    "### 找到脸 然后 resize"
   ]
  },
  {
   "cell_type": "code",
   "execution_count": 25,
   "metadata": {},
   "outputs": [],
   "source": [
    "def preprocessing(raw_path,save_path):\n",
    "    img_list = os.listdir(data_path)\n",
    "    for img in img_list:\n",
    "        input_img = cv2.imread(raw_path+img)\n",
    "        input_img=cv2.cvtColor(input_img, cv2.COLOR_BGR2GRAY)\n",
    "        faces = face_detector.detectMultiScale(input_img, 1.3, 5)\n",
    "        for (x,y,w,h) in faces:\n",
    "            cv2.rectangle(input_img, (x,y), (x+w,y+h), (0,0,0), 2)     \n",
    "            face_roi=input_img[y:y+h,x:x+w]\n",
    "            face_roi = cv2.resize(face_roi,(48,48))\n",
    "        cv2.imwrite(save_path+img,face_roi)\n",
    "preprocessing(data_path,save_path)"
   ]
  },
  {
   "cell_type": "markdown",
   "metadata": {},
   "source": [
    "### test code"
   ]
  },
  {
   "cell_type": "code",
   "execution_count": 14,
   "metadata": {},
   "outputs": [],
   "source": [
    "img_list = os.listdir(data_path)\n",
    "faceCascade =cv2.CascadeClassifier(cv2.data.haarcascades + 'haarcascade_frontalface_default.xml')"
   ]
  },
  {
   "cell_type": "code",
   "execution_count": 15,
   "metadata": {},
   "outputs": [],
   "source": [
    "img = img_list[3]"
   ]
  },
  {
   "cell_type": "code",
   "execution_count": 16,
   "metadata": {},
   "outputs": [
    {
     "data": {
      "text/plain": [
       "True"
      ]
     },
     "execution_count": 16,
     "metadata": {},
     "output_type": "execute_result"
    }
   ],
   "source": [
    "input_img = cv2.imread(data_path+img)\n",
    "input_img=cv2.cvtColor(input_img, cv2.COLOR_BGR2GRAY)\n",
    "faces = face_detector.detectMultiScale(input_img, 1.3, 5)\n",
    "for (x,y,w,h) in faces:\n",
    "    cv2.rectangle(input_img, (x,y), (x+w,y+h), (0,0,0), 2)     \n",
    "    face_roi=input_img[y:y+h,x:x+w]\n",
    "    face_roi = cv2.resize(face_roi,(48,48))\n",
    "cv2.imwrite(save_path+img,face_roi)"
   ]
  },
  {
   "cell_type": "code",
   "execution_count": 18,
   "metadata": {},
   "outputs": [
    {
     "data": {
      "text/plain": [
       "(48, 48)"
      ]
     },
     "execution_count": 18,
     "metadata": {},
     "output_type": "execute_result"
    }
   ],
   "source": [
    "face_roi.shape"
   ]
  },
  {
   "cell_type": "code",
   "execution_count": 20,
   "metadata": {},
   "outputs": [
    {
     "data": {
      "text/plain": [
       "(256, 256)"
      ]
     },
     "execution_count": 20,
     "metadata": {},
     "output_type": "execute_result"
    }
   ],
   "source": [
    "input_img.shape"
   ]
  },
  {
   "cell_type": "code",
   "execution_count": 24,
   "metadata": {},
   "outputs": [
    {
     "data": {
      "image/png": "[encoded data removed]",
      "text/plain": [
       "<Figure size 432x288 with 1 Axes>"
      ]
     },
     "metadata": {
      "needs_background": "light"
     },
     "output_type": "display_data"
    }
   ],
   "source": [
    "plt.imshow(face_roi)\n",
    "plt.show()"
   ]
  },
  {
   "cell_type": "code",
   "execution_count": 27,
   "metadata": {},
   "outputs": [
    {
     "data": {
      "text/plain": [
       "213"
      ]
     },
     "execution_count": 27,
     "metadata": {},
     "output_type": "execute_result"
    }
   ],
   "source": [
    "len(img_list)"
   ]
  },
  {
   "cell_type": "markdown",
   "metadata": {},
   "source": [
    "## train \n",
    "use 120 images for training\n",
    "23 images for validation\n",
    "70 images for test (10 images per emotion in the test set). "
   ]
  },
  {
   "cell_type": "code",
   "execution_count": 5,
   "metadata": {},
   "outputs": [],
   "source": [
    "np.random.seed(100)"
   ]
  },
  {
   "cell_type": "code",
   "execution_count": 6,
   "metadata": {},
   "outputs": [],
   "source": [
    "with open('jaffe.csv','r') as csvfile:\n",
    "    reader = csv.reader(csvfile)\n",
    "    rows = [row for row in reader]"
   ]
  },
  {
   "cell_type": "code",
   "execution_count": 7,
   "metadata": {},
   "outputs": [],
   "source": [
    "len(rows)\n",
    "random_array = np.arange(len(rows))"
   ]
  },
  {
   "cell_type": "markdown",
   "metadata": {},
   "source": [
    "rows"
   ]
  },
  {
   "cell_type": "code",
   "execution_count": 8,
   "metadata": {},
   "outputs": [],
   "source": [
    "c = rows[0][1]"
   ]
  },
  {
   "cell_type": "code",
   "execution_count": 9,
   "metadata": {},
   "outputs": [
    {
     "data": {
      "text/plain": [
       "'0'"
      ]
     },
     "execution_count": 9,
     "metadata": {},
     "output_type": "execute_result"
    }
   ],
   "source": [
    "c"
   ]
  },
  {
   "cell_type": "code",
   "execution_count": 10,
   "metadata": {},
   "outputs": [],
   "source": [
    "cnt_an = 0\n",
    "cnt_di = 0\n",
    "cnt_fe = 0\n",
    "cnt_ha = 0\n",
    "cnt_sa = 0\n",
    "cnt_su = 0\n",
    "cnt_ne = 0\n",
    "loop = True\n",
    "\n",
    "cnt = 0\n",
    "\n",
    "st = []\n",
    "st_lbl = []\n",
    "idx = []\n",
    "while loop:\n",
    "    temp = np.random.choice(random_array)\n",
    "    item = rows[temp][0]\n",
    "    lbl = int(rows[temp][1])\n",
    "    if item not in st:\n",
    "        \n",
    "        if lbl == 0 and cnt_an<10 :\n",
    "            cnt_an = cnt_an+1\n",
    "            st_lbl.append(lbl)\n",
    "            st.append(item)\n",
    "            idx.append(temp)\n",
    "        elif lbl==1 and cnt_di<10:\n",
    "            cnt_di = cnt_di+1\n",
    "            st_lbl.append(lbl)\n",
    "            st.append(item)\n",
    "            idx.append(temp)\n",
    "        elif lbl==2 and cnt_fe<10:\n",
    "            cnt_fe = cnt_fe+1\n",
    "            st_lbl.append(lbl)\n",
    "            st.append(item)\n",
    "            idx.append(temp)\n",
    "        elif lbl==3 and cnt_ha<10:\n",
    "            cnt_ha = cnt_ha +1\n",
    "            st_lbl.append(lbl)\n",
    "            st.append(item)\n",
    "            idx.append(temp)\n",
    "        elif lbl == 4 and cnt_sa<10:\n",
    "            cnt_sa = cnt_sa +1\n",
    "            st_lbl.append(lbl)\n",
    "            st.append(item)\n",
    "            idx.append(temp)\n",
    "        elif lbl==5 and cnt_su<10:\n",
    "            cnt_su = cnt_su+1\n",
    "            st_lbl.append(lbl)\n",
    "            st.append(item)\n",
    "            idx.append(temp)\n",
    "        elif lbl==6 and cnt_ne<10:\n",
    "            cnt_ne = cnt_ne+1\n",
    "            st_lbl.append(lbl)\n",
    "            st.append(item)\n",
    "            idx.append(temp)\n",
    "\n",
    "#         print(len(st))\n",
    "        if cnt_an==10 and cnt_di==10 and cnt_fe==10 and cnt_ha==10 and cnt_sa==10 and cnt_su==10 and cnt_ne==10:\n",
    "            break\n",
    "        \n",
    "    \n",
    "    \n"
   ]
  },
  {
   "cell_type": "markdown",
   "metadata": {},
   "source": [
    "## 生成 test.csv"
   ]
  },
  {
   "cell_type": "code",
   "execution_count": 11,
   "metadata": {},
   "outputs": [],
   "source": [
    "with open('test_jaffe.csv', 'w', encoding='UTF8',newline='') as test_jaffe:\n",
    "    test_writer = csv.writer(test_jaffe)\n",
    "    for i in range(len(rows)):\n",
    "        if i in idx:\n",
    "            test_writer.writerow(rows[i])"
   ]
  },
  {
   "cell_type": "markdown",
   "metadata": {},
   "source": [
    "## 生成 vali.csv"
   ]
  },
  {
   "cell_type": "code",
   "execution_count": 12,
   "metadata": {},
   "outputs": [],
   "source": [
    "idx_val = []\n",
    "cnt_val = 0\n",
    "while True:\n",
    "    temp = np.random.choice(random_array)\n",
    "    if temp not in idx:\n",
    "        cnt_val = cnt_val+1\n",
    "        idx_val.append(temp)\n",
    "        \n",
    "        if cnt_val>=23:\n",
    "            break"
   ]
  },
  {
   "cell_type": "code",
   "execution_count": 13,
   "metadata": {},
   "outputs": [],
   "source": [
    "with open('vali_jaffe.csv', 'w', encoding='UTF8',newline='') as vali_jaffe:\n",
    "    vali_writer = csv.writer(vali_jaffe)\n",
    "    for i in range(len(rows)):\n",
    "        if i in idx_val:\n",
    "            vali_writer.writerow(rows[i])"
   ]
  },
  {
   "cell_type": "markdown",
   "metadata": {},
   "source": [
    "## 生成 train.csv"
   ]
  },
  {
   "cell_type": "code",
   "execution_count": 14,
   "metadata": {},
   "outputs": [],
   "source": [
    "with open('train_jaffe.csv', 'w', encoding='UTF8',newline='') as train_jaffe:\n",
    "    train_writer = csv.writer(train_jaffe)\n",
    "    for i in range(len(rows)):\n",
    "        if i not in idx and i not in idx_val:\n",
    "            train_writer.writerow(rows[i])"
   ]
  },
  {
   "cell_type": "markdown",
   "metadata": {},
   "source": [
    "# dataset and dataloader"
   ]
  },
  {
   "cell_type": "code",
   "execution_count": 15,
   "metadata": {},
   "outputs": [],
   "source": [
    "class Jaffe_Dataset(Dataset):\n",
    "    def __init__(self,csv_file,img_dir,datatype,transform):\n",
    "        '''\n",
    "        Pytorch Dataset class\n",
    "        params:-\n",
    "                 csv_file : the path of the csv file    (train, validation, test)\n",
    "                 img_dir  : the directory of the images (train, validation, test)\n",
    "                 datatype : string for searching along the image_dir (train, val, test)\n",
    "                 transform: pytorch transformation over the data\n",
    "        return :-\n",
    "                 image, labels\n",
    "                '''\n",
    "        with open(csv_file,'r') as csvfile:\n",
    "            rd = csv.reader(csvfile)\n",
    "            self.data = [row for row in rd]\n",
    "\n",
    "        self.img_dir = img_dir\n",
    "        self.transform = transform\n",
    "        self.datatype = datatype\n",
    "\n",
    "    def __len__(self):\n",
    "        return len(self.data)\n",
    "\n",
    "    def __getitem__(self,idx):\n",
    "        if torch.is_tensor(idx):\n",
    "            idx = idx.tolist()\n",
    "#         img = Image.open(self.img_dir+self.data[idx][0])\n",
    "\n",
    "        img = cv2.imread(self.img_dir+self.data[idx][0],0)\n",
    "#         print(img.shape)\n",
    "        lables = np.array(int(self.data[idx][1]))\n",
    "        lables = torch.from_numpy(lables).long()\n",
    "\n",
    "        if self.transform :\n",
    "            img = self.transform(img)\n",
    "        return img,lables\n"
   ]
  },
  {
   "cell_type": "code",
   "execution_count": 16,
   "metadata": {},
   "outputs": [],
   "source": [
    "traincsv_file = 'train_jaffe.csv'\n",
    "validationcsv_file = 'vali_jaffe.csv'\n",
    "train_img_dir = 'jaffe_new/'\n",
    "validation_img_dir = 'jaffe_new/'"
   ]
  },
  {
   "cell_type": "code",
   "execution_count": 29,
   "metadata": {},
   "outputs": [],
   "source": [
    "batchsize = 8\n",
    "transformation= transforms.Compose([transforms.ToTensor(),transforms.Normalize((0.5,),(0.5,))])\n",
    "# transformation= transforms.Compose([transforms.ToTensor()])\n",
    "train_dataset= Jaffe_Dataset(csv_file=traincsv_file, img_dir = train_img_dir, datatype = 'train', transform = transformation)\n",
    "validation_dataset= Jaffe_Dataset(csv_file=validationcsv_file, img_dir = validation_img_dir, datatype = 'val', transform = transformation)\n",
    "train_loader= DataLoader(train_dataset,batch_size=batchsize,shuffle = True,num_workers=0)\n",
    "val_loader=   DataLoader(validation_dataset,batch_size=batchsize,shuffle = True,num_workers=0)"
   ]
  },
  {
   "cell_type": "code",
   "execution_count": 30,
   "metadata": {},
   "outputs": [],
   "source": [
    "epochs = 100\n",
    "lr = 0.003\n",
    "\n",
    "net = Deep_Emotion()\n",
    "net.to(device)\n",
    "criterion= nn.CrossEntropyLoss()\n",
    "optmizer= optim.Adam(net.parameters(),lr= lr)\n"
   ]
  },
  {
   "cell_type": "code",
   "execution_count": 31,
   "metadata": {},
   "outputs": [
    {
     "name": "stdout",
     "output_type": "stream",
     "text": [
      "===================================Start Training===================================\n",
      "Epoch: 1 \tTraining Loss: 0.26834741 \tValidation Loss 0.27800284 \tTraining Acuuarcy 15.574% \tValidation Acuuarcy 14.286%\n",
      "Epoch: 2 \tTraining Loss: 0.25535661 \tValidation Loss 0.27750166 \tTraining Acuuarcy 18.033% \tValidation Acuuarcy 19.048%\n",
      "Epoch: 3 \tTraining Loss: 0.25081507 \tValidation Loss 0.27752787 \tTraining Acuuarcy 18.033% \tValidation Acuuarcy 19.048%\n",
      "Epoch: 4 \tTraining Loss: 0.25149175 \tValidation Loss 0.27226809 \tTraining Acuuarcy 21.311% \tValidation Acuuarcy 14.286%\n",
      "Epoch: 5 \tTraining Loss: 0.23862697 \tValidation Loss 0.25500852 \tTraining Acuuarcy 26.230% \tValidation Acuuarcy 23.810%\n",
      "Epoch: 6 \tTraining Loss: 0.22484916 \tValidation Loss 0.23835346 \tTraining Acuuarcy 31.148% \tValidation Acuuarcy 28.571%\n",
      "Epoch: 7 \tTraining Loss: 0.21255491 \tValidation Loss 0.23949254 \tTraining Acuuarcy 35.246% \tValidation Acuuarcy 33.333%\n",
      "Epoch: 8 \tTraining Loss: 0.20108755 \tValidation Loss 0.22065524 \tTraining Acuuarcy 38.525% \tValidation Acuuarcy 33.333%\n",
      "Epoch: 9 \tTraining Loss: 0.18712429 \tValidation Loss 0.18823786 \tTraining Acuuarcy 41.803% \tValidation Acuuarcy 42.857%\n",
      "Epoch: 10 \tTraining Loss: 0.18659172 \tValidation Loss 0.20495871 \tTraining Acuuarcy 43.443% \tValidation Acuuarcy 28.571%\n",
      "Epoch: 11 \tTraining Loss: 0.18358107 \tValidation Loss 0.22536559 \tTraining Acuuarcy 40.164% \tValidation Acuuarcy 28.571%\n",
      "Epoch: 12 \tTraining Loss: 0.16931684 \tValidation Loss 0.17518234 \tTraining Acuuarcy 50.000% \tValidation Acuuarcy 33.333%\n",
      "Epoch: 13 \tTraining Loss: 0.17104077 \tValidation Loss 0.18230673 \tTraining Acuuarcy 45.902% \tValidation Acuuarcy 42.857%\n",
      "Epoch: 14 \tTraining Loss: 0.16773973 \tValidation Loss 0.17469389 \tTraining Acuuarcy 50.000% \tValidation Acuuarcy 47.619%\n",
      "Epoch: 15 \tTraining Loss: 0.13908346 \tValidation Loss 0.17213809 \tTraining Acuuarcy 53.279% \tValidation Acuuarcy 42.857%\n",
      "Epoch: 16 \tTraining Loss: 0.14518381 \tValidation Loss 0.16060485 \tTraining Acuuarcy 55.738% \tValidation Acuuarcy 47.619%\n",
      "Epoch: 17 \tTraining Loss: 0.12493179 \tValidation Loss 0.20776702 \tTraining Acuuarcy 65.574% \tValidation Acuuarcy 42.857%\n",
      "Epoch: 18 \tTraining Loss: 0.14795325 \tValidation Loss 0.16952888 \tTraining Acuuarcy 57.377% \tValidation Acuuarcy 38.095%\n",
      "Epoch: 19 \tTraining Loss: 0.13449425 \tValidation Loss 0.16000972 \tTraining Acuuarcy 66.393% \tValidation Acuuarcy 42.857%\n",
      "Epoch: 20 \tTraining Loss: 0.13911932 \tValidation Loss 0.18116885 \tTraining Acuuarcy 60.656% \tValidation Acuuarcy 52.381%\n",
      "Epoch: 21 \tTraining Loss: 0.11981538 \tValidation Loss 0.14692482 \tTraining Acuuarcy 61.475% \tValidation Acuuarcy 57.143%\n",
      "Epoch: 22 \tTraining Loss: 0.11712477 \tValidation Loss 0.15020092 \tTraining Acuuarcy 68.033% \tValidation Acuuarcy 57.143%\n",
      "Epoch: 23 \tTraining Loss: 0.11414181 \tValidation Loss 0.16162628 \tTraining Acuuarcy 70.492% \tValidation Acuuarcy 38.095%\n",
      "Epoch: 24 \tTraining Loss: 0.10960611 \tValidation Loss 0.14070790 \tTraining Acuuarcy 72.951% \tValidation Acuuarcy 47.619%\n",
      "Epoch: 25 \tTraining Loss: 0.10388519 \tValidation Loss 0.18262543 \tTraining Acuuarcy 71.311% \tValidation Acuuarcy 52.381%\n",
      "Epoch: 26 \tTraining Loss: 0.11184250 \tValidation Loss 0.14679842 \tTraining Acuuarcy 67.213% \tValidation Acuuarcy 57.143%\n",
      "Epoch: 27 \tTraining Loss: 0.10086618 \tValidation Loss 0.16994102 \tTraining Acuuarcy 69.672% \tValidation Acuuarcy 47.619%\n",
      "Epoch: 28 \tTraining Loss: 0.10083268 \tValidation Loss 0.19263100 \tTraining Acuuarcy 72.131% \tValidation Acuuarcy 47.619%\n",
      "Epoch: 29 \tTraining Loss: 0.11862994 \tValidation Loss 0.15393138 \tTraining Acuuarcy 66.393% \tValidation Acuuarcy 47.619%\n",
      "Epoch: 30 \tTraining Loss: 0.10911539 \tValidation Loss 0.14675807 \tTraining Acuuarcy 68.033% \tValidation Acuuarcy 52.381%\n",
      "Epoch: 31 \tTraining Loss: 0.08659938 \tValidation Loss 0.12779932 \tTraining Acuuarcy 72.951% \tValidation Acuuarcy 61.905%\n",
      "Epoch: 32 \tTraining Loss: 0.09665743 \tValidation Loss 0.15382835 \tTraining Acuuarcy 73.770% \tValidation Acuuarcy 42.857%\n",
      "Epoch: 33 \tTraining Loss: 0.07311895 \tValidation Loss 0.14153437 \tTraining Acuuarcy 80.328% \tValidation Acuuarcy 52.381%\n",
      "Epoch: 34 \tTraining Loss: 0.07706847 \tValidation Loss 0.12177243 \tTraining Acuuarcy 77.049% \tValidation Acuuarcy 61.905%\n",
      "Epoch: 35 \tTraining Loss: 0.08448867 \tValidation Loss 0.14847988 \tTraining Acuuarcy 74.590% \tValidation Acuuarcy 71.429%\n",
      "Epoch: 36 \tTraining Loss: 0.07742051 \tValidation Loss 0.13294072 \tTraining Acuuarcy 75.410% \tValidation Acuuarcy 71.429%\n",
      "Epoch: 37 \tTraining Loss: 0.06895661 \tValidation Loss 0.12300931 \tTraining Acuuarcy 77.049% \tValidation Acuuarcy 76.190%\n",
      "Epoch: 38 \tTraining Loss: 0.07405947 \tValidation Loss 0.13491267 \tTraining Acuuarcy 78.689% \tValidation Acuuarcy 61.905%\n",
      "Epoch: 39 \tTraining Loss: 0.06937819 \tValidation Loss 0.13714830 \tTraining Acuuarcy 80.328% \tValidation Acuuarcy 61.905%\n",
      "Epoch: 40 \tTraining Loss: 0.06637155 \tValidation Loss 0.15627677 \tTraining Acuuarcy 82.787% \tValidation Acuuarcy 71.429%\n",
      "Epoch: 41 \tTraining Loss: 0.08813735 \tValidation Loss 0.16120545 \tTraining Acuuarcy 77.869% \tValidation Acuuarcy 66.667%\n",
      "Epoch: 42 \tTraining Loss: 0.06917348 \tValidation Loss 0.15207540 \tTraining Acuuarcy 80.328% \tValidation Acuuarcy 57.143%\n",
      "Epoch: 43 \tTraining Loss: 0.07075129 \tValidation Loss 0.14755115 \tTraining Acuuarcy 81.148% \tValidation Acuuarcy 61.905%\n",
      "Epoch: 44 \tTraining Loss: 0.07055743 \tValidation Loss 0.12354308 \tTraining Acuuarcy 78.689% \tValidation Acuuarcy 61.905%\n",
      "Epoch: 45 \tTraining Loss: 0.08798035 \tValidation Loss 0.21956747 \tTraining Acuuarcy 76.230% \tValidation Acuuarcy 47.619%\n",
      "Epoch: 46 \tTraining Loss: 0.05568030 \tValidation Loss 0.16463338 \tTraining Acuuarcy 86.066% \tValidation Acuuarcy 57.143%\n",
      "Epoch: 47 \tTraining Loss: 0.05962310 \tValidation Loss 0.14191114 \tTraining Acuuarcy 81.148% \tValidation Acuuarcy 71.429%\n",
      "Epoch: 48 \tTraining Loss: 0.04275887 \tValidation Loss 0.08811120 \tTraining Acuuarcy 86.066% \tValidation Acuuarcy 66.667%\n",
      "Epoch: 49 \tTraining Loss: 0.04026669 \tValidation Loss 0.09839367 \tTraining Acuuarcy 90.164% \tValidation Acuuarcy 66.667%\n",
      "Epoch: 50 \tTraining Loss: 0.05437989 \tValidation Loss 0.14708072 \tTraining Acuuarcy 85.246% \tValidation Acuuarcy 61.905%\n",
      "Epoch: 51 \tTraining Loss: 0.04853375 \tValidation Loss 0.13307590 \tTraining Acuuarcy 86.885% \tValidation Acuuarcy 71.429%\n",
      "Epoch: 52 \tTraining Loss: 0.04270221 \tValidation Loss 0.08664689 \tTraining Acuuarcy 84.426% \tValidation Acuuarcy 61.905%\n",
      "Epoch: 53 \tTraining Loss: 0.03926265 \tValidation Loss 0.19287172 \tTraining Acuuarcy 89.344% \tValidation Acuuarcy 61.905%\n",
      "Epoch: 54 \tTraining Loss: 0.03962502 \tValidation Loss 0.10063278 \tTraining Acuuarcy 87.705% \tValidation Acuuarcy 76.190%\n",
      "Epoch: 55 \tTraining Loss: 0.03612535 \tValidation Loss 0.18507682 \tTraining Acuuarcy 90.164% \tValidation Acuuarcy 71.429%\n",
      "Epoch: 56 \tTraining Loss: 0.03116309 \tValidation Loss 0.15618948 \tTraining Acuuarcy 92.623% \tValidation Acuuarcy 66.667%\n",
      "Epoch: 57 \tTraining Loss: 0.03935930 \tValidation Loss 0.13025895 \tTraining Acuuarcy 89.344% \tValidation Acuuarcy 80.952%\n",
      "Epoch: 58 \tTraining Loss: 0.03872209 \tValidation Loss 0.13335159 \tTraining Acuuarcy 89.344% \tValidation Acuuarcy 66.667%\n",
      "Epoch: 59 \tTraining Loss: 0.03055427 \tValidation Loss 0.09942024 \tTraining Acuuarcy 92.623% \tValidation Acuuarcy 80.952%\n",
      "Epoch: 60 \tTraining Loss: 0.04507290 \tValidation Loss 0.13427177 \tTraining Acuuarcy 86.885% \tValidation Acuuarcy 61.905%\n",
      "Epoch: 61 \tTraining Loss: 0.03528863 \tValidation Loss 0.05106259 \tTraining Acuuarcy 91.803% \tValidation Acuuarcy 90.476%\n",
      "Epoch: 62 \tTraining Loss: 0.02757805 \tValidation Loss 0.13457071 \tTraining Acuuarcy 94.262% \tValidation Acuuarcy 61.905%\n",
      "Epoch: 63 \tTraining Loss: 0.02799787 \tValidation Loss 0.10283703 \tTraining Acuuarcy 93.443% \tValidation Acuuarcy 76.190%\n",
      "Epoch: 64 \tTraining Loss: 0.03398806 \tValidation Loss 0.09866542 \tTraining Acuuarcy 88.525% \tValidation Acuuarcy 71.429%\n",
      "Epoch: 65 \tTraining Loss: 0.02129631 \tValidation Loss 0.09680166 \tTraining Acuuarcy 95.902% \tValidation Acuuarcy 76.190%\n",
      "Epoch: 66 \tTraining Loss: 0.01880406 \tValidation Loss 0.08965059 \tTraining Acuuarcy 95.082% \tValidation Acuuarcy 66.667%\n",
      "Epoch: 67 \tTraining Loss: 0.03410912 \tValidation Loss 0.08275078 \tTraining Acuuarcy 89.344% \tValidation Acuuarcy 80.952%\n",
      "Epoch: 68 \tTraining Loss: 0.01963567 \tValidation Loss 0.11374246 \tTraining Acuuarcy 95.082% \tValidation Acuuarcy 71.429%\n"
     ]
    },
    {
     "name": "stdout",
     "output_type": "stream",
     "text": [
      "Epoch: 69 \tTraining Loss: 0.02765842 \tValidation Loss 0.16624342 \tTraining Acuuarcy 93.443% \tValidation Acuuarcy 57.143%\n",
      "Epoch: 70 \tTraining Loss: 0.02809232 \tValidation Loss 0.09762113 \tTraining Acuuarcy 92.623% \tValidation Acuuarcy 80.952%\n",
      "Epoch: 71 \tTraining Loss: 0.02524630 \tValidation Loss 0.18323728 \tTraining Acuuarcy 91.803% \tValidation Acuuarcy 66.667%\n",
      "Epoch: 72 \tTraining Loss: 0.02568626 \tValidation Loss 0.19028954 \tTraining Acuuarcy 93.443% \tValidation Acuuarcy 52.381%\n",
      "Epoch: 73 \tTraining Loss: 0.01849475 \tValidation Loss 0.09316992 \tTraining Acuuarcy 95.902% \tValidation Acuuarcy 76.190%\n",
      "Epoch: 74 \tTraining Loss: 0.02941141 \tValidation Loss 0.17955256 \tTraining Acuuarcy 93.443% \tValidation Acuuarcy 66.667%\n",
      "Epoch: 75 \tTraining Loss: 0.04215586 \tValidation Loss 0.17766067 \tTraining Acuuarcy 88.525% \tValidation Acuuarcy 57.143%\n",
      "Epoch: 76 \tTraining Loss: 0.04069187 \tValidation Loss 0.12840635 \tTraining Acuuarcy 90.164% \tValidation Acuuarcy 61.905%\n",
      "Epoch: 77 \tTraining Loss: 0.03816198 \tValidation Loss 0.24689966 \tTraining Acuuarcy 90.164% \tValidation Acuuarcy 61.905%\n",
      "Epoch: 78 \tTraining Loss: 0.03219348 \tValidation Loss 0.22018948 \tTraining Acuuarcy 87.705% \tValidation Acuuarcy 61.905%\n",
      "Epoch: 79 \tTraining Loss: 0.03238786 \tValidation Loss 0.12717270 \tTraining Acuuarcy 85.246% \tValidation Acuuarcy 71.429%\n",
      "Epoch: 80 \tTraining Loss: 0.04095141 \tValidation Loss 0.19412931 \tTraining Acuuarcy 86.885% \tValidation Acuuarcy 61.905%\n",
      "Epoch: 81 \tTraining Loss: 0.02705848 \tValidation Loss 0.09908316 \tTraining Acuuarcy 90.984% \tValidation Acuuarcy 66.667%\n",
      "Epoch: 82 \tTraining Loss: 0.01384444 \tValidation Loss 0.15511558 \tTraining Acuuarcy 96.721% \tValidation Acuuarcy 76.190%\n",
      "Epoch: 83 \tTraining Loss: 0.01346500 \tValidation Loss 0.10991559 \tTraining Acuuarcy 96.721% \tValidation Acuuarcy 76.190%\n",
      "Epoch: 84 \tTraining Loss: 0.03037459 \tValidation Loss 0.21093576 \tTraining Acuuarcy 92.623% \tValidation Acuuarcy 71.429%\n",
      "Epoch: 85 \tTraining Loss: 0.02750277 \tValidation Loss 0.15951766 \tTraining Acuuarcy 93.443% \tValidation Acuuarcy 61.905%\n",
      "Epoch: 86 \tTraining Loss: 0.02538467 \tValidation Loss 0.13351864 \tTraining Acuuarcy 90.984% \tValidation Acuuarcy 61.905%\n",
      "Epoch: 87 \tTraining Loss: 0.03002131 \tValidation Loss 0.14225987 \tTraining Acuuarcy 92.623% \tValidation Acuuarcy 71.429%\n",
      "Epoch: 88 \tTraining Loss: 0.02237511 \tValidation Loss 0.17484013 \tTraining Acuuarcy 92.623% \tValidation Acuuarcy 66.667%\n",
      "Epoch: 89 \tTraining Loss: 0.02641564 \tValidation Loss 0.12890599 \tTraining Acuuarcy 94.262% \tValidation Acuuarcy 57.143%\n",
      "Epoch: 90 \tTraining Loss: 0.02734353 \tValidation Loss 0.07574410 \tTraining Acuuarcy 91.803% \tValidation Acuuarcy 71.429%\n",
      "Epoch: 91 \tTraining Loss: 0.02471494 \tValidation Loss 0.07689893 \tTraining Acuuarcy 93.443% \tValidation Acuuarcy 85.714%\n",
      "Epoch: 92 \tTraining Loss: 0.01132789 \tValidation Loss 0.16855481 \tTraining Acuuarcy 97.541% \tValidation Acuuarcy 57.143%\n",
      "Epoch: 93 \tTraining Loss: 0.01664755 \tValidation Loss 0.17132164 \tTraining Acuuarcy 95.082% \tValidation Acuuarcy 66.667%\n",
      "Epoch: 94 \tTraining Loss: 0.01496894 \tValidation Loss 0.20388256 \tTraining Acuuarcy 96.721% \tValidation Acuuarcy 61.905%\n",
      "Epoch: 95 \tTraining Loss: 0.01948017 \tValidation Loss 0.14471711 \tTraining Acuuarcy 94.262% \tValidation Acuuarcy 71.429%\n",
      "Epoch: 96 \tTraining Loss: 0.00680735 \tValidation Loss 0.16067636 \tTraining Acuuarcy 98.361% \tValidation Acuuarcy 66.667%\n",
      "Epoch: 97 \tTraining Loss: 0.01728520 \tValidation Loss 0.11345730 \tTraining Acuuarcy 97.541% \tValidation Acuuarcy 85.714%\n",
      "Epoch: 98 \tTraining Loss: 0.01663071 \tValidation Loss 0.20601513 \tTraining Acuuarcy 95.082% \tValidation Acuuarcy 66.667%\n",
      "Epoch: 99 \tTraining Loss: 0.02277279 \tValidation Loss 0.14050501 \tTraining Acuuarcy 90.164% \tValidation Acuuarcy 71.429%\n",
      "Epoch: 100 \tTraining Loss: 0.02239847 \tValidation Loss 0.17703131 \tTraining Acuuarcy 92.623% \tValidation Acuuarcy 57.143%\n",
      "===================================Training Finished===================================\n"
     ]
    }
   ],
   "source": [
    "Train(epochs, train_loader, val_loader, criterion, optmizer, device)"
   ]
  },
  {
   "cell_type": "code",
   "execution_count": 32,
   "metadata": {},
   "outputs": [
    {
     "name": "stdout",
     "output_type": "stream",
     "text": [
      "Accuracy of the network on the test images: 68 %\n"
     ]
    }
   ],
   "source": [
    "testcsv_file = 'test_jaffe.csv'\n",
    "test_img_dir = 'jaffe_new/'\n",
    "test_dataset= Jaffe_Dataset(csv_file=testcsv_file, img_dir = test_img_dir, datatype = 'test', transform = transformation)\n",
    "test_loader= DataLoader(test_dataset,batch_size=70,shuffle = True,num_workers=0)\n",
    "\n",
    "total = []\n",
    "net.eval()\n",
    "with torch.no_grad():\n",
    "    for data,labels in test_loader:\n",
    "        output = net(data)\n",
    "        pred = F.softmax(output,dim=1)\n",
    "        result = torch.argmax(pred,1)\n",
    "        wrong = torch.where(result != labels,torch.tensor([1.]),torch.tensor([0.])) \n",
    "        acc = 1-(torch.sum(wrong)/70)\n",
    "        total.append(acc.item())\n",
    "\n",
    "    print('Accuracy of the network on the test images: %d %%' % (100 * np.mean(total)))"
   ]
  },
  {
   "cell_type": "markdown",
   "metadata": {},
   "source": [
    "### confusion matrix"
   ]
  },
  {
   "cell_type": "code",
   "execution_count": 33,
   "metadata": {},
   "outputs": [],
   "source": [
    "def confusion_matrix(preds, labels, conf_matrix):\n",
    "#     preds = torch.argmax(preds, 1)\n",
    "    for p, t in zip(preds, labels):\n",
    "        conf_matrix[p, t] += 1\n",
    "    return conf_matrix\n",
    "\n",
    "Emotion_kinds = 7\n",
    "conf_matrix = torch.zeros(Emotion_kinds, Emotion_kinds)\n",
    "\n",
    "            \n",
    "net.eval()\n",
    "with torch.no_grad():\n",
    "    for data,labels in test_loader:\n",
    "        output = net(data)\n",
    "        pred = F.softmax(output,dim=1)\n",
    "        result = torch.argmax(pred,1)\n",
    "        conf_matrix = confusion_matrix(result, labels, conf_matrix)"
   ]
  },
  {
   "cell_type": "code",
   "execution_count": 34,
   "metadata": {},
   "outputs": [],
   "source": [
    "#首先定义一个 分类数*分类数 的空混淆矩阵\n",
    "Emotion_kinds = 7\n",
    "conf_matrix = torch.zeros(Emotion_kinds, Emotion_kinds)\n",
    "\n",
    "            \n",
    "net.eval()\n",
    "with torch.no_grad():\n",
    "    for data,labels in test_loader:\n",
    "        output = net(data)\n",
    "        pred = F.softmax(output,dim=1)\n",
    "        result = torch.argmax(pred,1)\n",
    "        conf_matrix = confusion_matrix(result, labels, conf_matrix)\n",
    "\n"
   ]
  },
  {
   "cell_type": "code",
   "execution_count": 35,
   "metadata": {},
   "outputs": [
    {
     "data": {
      "image/png": "[encoded data removed]",
      "text/plain": [
       "<Figure size 432x288 with 1 Axes>"
      ]
     },
     "metadata": {
      "needs_background": "light"
     },
     "output_type": "display_data"
    }
   ],
   "source": [
    "Emotion=7#这个数值是具体的分类数，大家可以自行修改\n",
    "labels = ['angry', 'disgust', 'fearful', 'happy', 'sad','surprised','neutral']#每种类别的标签\n",
    "\n",
    "# 显示数据\n",
    "plt.imshow(conf_matrix, cmap=plt.cm.Blues)\n",
    "\n",
    "# 在图中标注数量/概率信息\n",
    "thresh = conf_matrix.max() / 2\t#数值颜色阈值，如果数值超过这个，就颜色加深。\n",
    "for x in range(Emotion_kinds):\n",
    "    for y in range(Emotion_kinds):\n",
    "        # 注意这里的matrix[y, x]不是matrix[x, y]\n",
    "        info = int(conf_matrix[y, x])\n",
    "        plt.text(x, y, info,\n",
    "                 verticalalignment='center',\n",
    "                 horizontalalignment='center',\n",
    "                 color=\"white\" if info > thresh else \"black\")\n",
    "                 \n",
    "plt.tight_layout()#保证图不重叠\n",
    "plt.yticks(range(Emotion_kinds), labels)\n",
    "plt.xticks(range(Emotion_kinds), labels,rotation=45)#X轴字体倾斜45°\n",
    "plt.show()\n",
    "plt.close()\n"
   ]
  },
  {
   "cell_type": "markdown",
   "metadata": {},
   "source": [
    "angry>suprised>neutral"
   ]
  },
  {
   "cell_type": "code",
   "execution_count": null,
   "metadata": {},
   "outputs": [],
   "source": []
  },
  {
   "cell_type": "code",
   "execution_count": null,
   "metadata": {},
   "outputs": [],
   "source": []
  },
  {
   "cell_type": "code",
   "execution_count": null,
   "metadata": {},
   "outputs": [],
   "source": []
  },
  {
   "cell_type": "code",
   "execution_count": 52,
   "metadata": {},
   "outputs": [
    {
     "name": "stdout",
     "output_type": "stream",
     "text": [
      "(48, 48)\n",
      "tensor(1)\n",
      "(48, 48)\n"
     ]
    },
    {
     "data": {
      "image/png": "[encoded data removed]",
      "text/plain": [
       "<Figure size 432x288 with 1 Axes>"
      ]
     },
     "metadata": {
      "needs_background": "light"
     },
     "output_type": "display_data"
    }
   ],
   "source": [
    "sample_number = 3\n",
    "label = train_dataset.__getitem__(sample_number)[1]\n",
    "print(label)\n",
    "imgg = train_dataset.__getitem__(sample_number)[0]\n",
    "imgnumpy = imgg.numpy()\n",
    "imgt = imgnumpy.squeeze()\n",
    "plt.imshow(imgt)\n",
    "plt.show()\n",
    "\n",
    "\n"
   ]
  },
  {
   "cell_type": "code",
   "execution_count": 53,
   "metadata": {},
   "outputs": [
    {
     "data": {
      "text/plain": [
       "torch.Size([1, 48, 48])"
      ]
     },
     "execution_count": 53,
     "metadata": {},
     "output_type": "execute_result"
    }
   ],
   "source": [
    "imgg.shape"
   ]
  },
  {
   "cell_type": "code",
   "execution_count": 54,
   "metadata": {},
   "outputs": [
    {
     "data": {
      "text/plain": [
       "'KA.DI2.43.tiff'"
      ]
     },
     "execution_count": 54,
     "metadata": {},
     "output_type": "execute_result"
    }
   ],
   "source": [
    "train_dataset.data[3][0]"
   ]
  },
  {
   "cell_type": "code",
   "execution_count": 63,
   "metadata": {},
   "outputs": [
    {
     "data": {
      "text/plain": [
       "Deep_Emotion(\n",
       "  (conv1): Conv2d(1, 10, kernel_size=(3, 3), stride=(1, 1))\n",
       "  (conv2): Conv2d(10, 10, kernel_size=(3, 3), stride=(1, 1))\n",
       "  (pool2): MaxPool2d(kernel_size=2, stride=2, padding=0, dilation=1, ceil_mode=False)\n",
       "  (conv3): Conv2d(10, 10, kernel_size=(3, 3), stride=(1, 1))\n",
       "  (conv4): Conv2d(10, 10, kernel_size=(3, 3), stride=(1, 1))\n",
       "  (pool4): MaxPool2d(kernel_size=2, stride=2, padding=0, dilation=1, ceil_mode=False)\n",
       "  (norm): BatchNorm2d(10, eps=1e-05, momentum=0.1, affine=True, track_running_stats=True)\n",
       "  (fc1): Linear(in_features=810, out_features=50, bias=True)\n",
       "  (fc2): Linear(in_features=50, out_features=7, bias=True)\n",
       "  (localization): Sequential(\n",
       "    (0): Conv2d(1, 8, kernel_size=(7, 7), stride=(1, 1))\n",
       "    (1): MaxPool2d(kernel_size=2, stride=2, padding=0, dilation=1, ceil_mode=False)\n",
       "    (2): ReLU(inplace=True)\n",
       "    (3): Conv2d(8, 10, kernel_size=(5, 5), stride=(1, 1))\n",
       "    (4): MaxPool2d(kernel_size=2, stride=2, padding=0, dilation=1, ceil_mode=False)\n",
       "    (5): ReLU(inplace=True)\n",
       "  )\n",
       "  (fc_loc): Sequential(\n",
       "    (0): Linear(in_features=640, out_features=32, bias=True)\n",
       "    (1): ReLU(inplace=True)\n",
       "    (2): Linear(in_features=32, out_features=6, bias=True)\n",
       "  )\n",
       ")"
      ]
     },
     "execution_count": 63,
     "metadata": {},
     "output_type": "execute_result"
    }
   ],
   "source": []
  },
  {
   "cell_type": "code",
   "execution_count": null,
   "metadata": {},
   "outputs": [],
   "source": []
  }
 ],
 "metadata": {
  "kernelspec": {
   "display_name": "Python [conda env:root] *",
   "language": "python",
   "name": "conda-root-py"
  },
  "language_info": {
   "codemirror_mode": {
    "name": "ipython",
    "version": 3
   },
   "file_extension": ".py",
   "mimetype": "text/x-python",
   "name": "python",
   "nbconvert_exporter": "python",
   "pygments_lexer": "ipython3",
   "version": "3.8.5"
  }
 },
 "nbformat": 4,
 "nbformat_minor": 4
}
